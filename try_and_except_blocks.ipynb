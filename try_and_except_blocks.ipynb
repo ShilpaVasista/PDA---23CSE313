{
  "nbformat": 4,
  "nbformat_minor": 0,
  "metadata": {
    "colab": {
      "provenance": []
    },
    "kernelspec": {
      "name": "python3",
      "display_name": "Python 3"
    },
    "language_info": {
      "name": "python"
    }
  },
  "cells": [
    {
      "cell_type": "markdown",
      "source": [
        "##try Block\n",
        "\n",
        "The try block is used in Python for exception handling. It allows you to write code that might raise an exception (an error), and then you can catch and handle that exception gracefully. Here's an explanation of how the try block works:"
      ],
      "metadata": {
        "id": "Jvk-gLB0GyFs"
      }
    },
    {
      "cell_type": "markdown",
      "source": [
        "**Basic Syntax of `try`:**\n",
        "\n",
        "The try block is defined using the try keyword, followed by a colon : to start a block of code.\n",
        "Inside the try block, you place the code that you want to monitor for exceptions."
      ],
      "metadata": {
        "id": "PVq-Ud17HEjT"
      }
    },
    {
      "cell_type": "code",
      "source": [
        "try\n",
        "    # Code that may raise an exception\n",
        "    # ..."
      ],
      "metadata": {
        "id": "dXZakU8FHTO5",
        "colab": {
          "base_uri": "https://localhost:8080/",
          "height": 211
        },
        "outputId": "81fce7c5-71a8-4e28-c507-28bea81c1a04"
      },
      "execution_count": null,
      "outputs": [
        {
          "output_type": "error",
          "ename": "NameError",
          "evalue": "ignored",
          "traceback": [
            "\u001b[0;31m---------------------------------------------------------------------------\u001b[0m",
            "\u001b[0;31mNameError\u001b[0m                                 Traceback (most recent call last)",
            "\u001b[0;32m<ipython-input-1-fc93a91019ff>\u001b[0m in \u001b[0;36m<cell line: 1>\u001b[0;34m()\u001b[0m\n\u001b[0;32m----> 1\u001b[0;31m \u001b[0masdf\u001b[0m\u001b[0;34m\u001b[0m\u001b[0;34m\u001b[0m\u001b[0m\n\u001b[0m\u001b[1;32m      2\u001b[0m     \u001b[0;31m# Code that may raise an exception\u001b[0m\u001b[0;34m\u001b[0m\u001b[0;34m\u001b[0m\u001b[0m\n\u001b[1;32m      3\u001b[0m     \u001b[0;31m# ...\u001b[0m\u001b[0;34m\u001b[0m\u001b[0;34m\u001b[0m\u001b[0m\n",
            "\u001b[0;31mNameError\u001b[0m: name 'asdf' is not defined"
          ]
        }
      ]
    },
    {
      "cell_type": "markdown",
      "source": [
        "# `try` and `except` block"
      ],
      "metadata": {
        "id": "UQDXQDjSE2mi"
      }
    },
    {
      "cell_type": "markdown",
      "source": [
        "**`except` Block:**\n",
        "\n",
        "After the try block, you can include one or more except blocks.\n",
        "Each except block specifies a particular type of exception that it can catch and handle.\n",
        "\n",
        "When an exception occurs in the try block, Python checks if any of the except blocks match the type of exception."
      ],
      "metadata": {
        "id": "vXKJYWt6HaWI"
      }
    },
    {
      "cell_type": "code",
      "source": [
        "try:\n",
        "    # Code that may raise an exception\n",
        "    # ...\n",
        "except SomeExceptionType:\n",
        "    # Code to handle the exception of type SomeExceptionType\n",
        "    # ..."
      ],
      "metadata": {
        "id": "tq0-XNBkHjHa"
      },
      "execution_count": null,
      "outputs": []
    },
    {
      "cell_type": "markdown",
      "source": [
        "**Handling Exceptions:**\n",
        "\n",
        "If an exception of the specified type occurs in the try block, Python immediately jumps to the corresponding except block.\n",
        "\n",
        "In the except block, you can specify how to handle the exception, whether that's displaying an error message, logging the error, or taking some other action."
      ],
      "metadata": {
        "id": "r0hT3LYXHr2m"
      }
    },
    {
      "cell_type": "code",
      "source": [
        "try:\n",
        "    result = 10 / 0  # This raises a ZeroDivisionError\n",
        "except ZeroDivisionError:\n",
        "    print(\"Error: Division by zero!\")"
      ],
      "metadata": {
        "id": "9h-YfrwyIBEP"
      },
      "execution_count": null,
      "outputs": []
    },
    {
      "cell_type": "markdown",
      "source": [
        "**Multiple except Blocks:**\n",
        "\n",
        "You can have multiple except blocks to handle different types of exceptions.\n",
        "Python will execute the first matching except block and then continue with the rest of the code."
      ],
      "metadata": {
        "id": "WZvf7tYOIEtq"
      }
    },
    {
      "cell_type": "code",
      "source": [
        "try:\n",
        "    # Code that may raise an exception\n",
        "    # ...\n",
        "except SomeExceptionType1:\n",
        "    # Code to handle the exception of type SomeExceptionType1\n",
        "    # ...\n",
        "except SomeExceptionType2:\n",
        "    # Code to handle the exception of type SomeExceptionType2\n",
        "    # ..."
      ],
      "metadata": {
        "id": "eRqBOH5FISkp"
      },
      "execution_count": null,
      "outputs": []
    },
    {
      "cell_type": "markdown",
      "source": [
        "**Generic Exception Handling:**\n",
        "\n",
        "You can also use a generic except block to catch all exceptions that aren't explicitly handled by other except blocks.\n",
        "\n",
        "However, it's generally not recommended to use a generic except block as it can make debugging more challenging."
      ],
      "metadata": {
        "id": "qZFnCmlgIaxs"
      }
    },
    {
      "cell_type": "code",
      "source": [
        "try:\n",
        "    # Code that may raise an exception\n",
        "    # ...\n",
        "except SomeExceptionType:\n",
        "    # Code to handle the exception of type SomeExceptionType\n",
        "    # ...\n",
        "except:\n",
        "    # Code to handle all other exceptions\n",
        "    # ..."
      ],
      "metadata": {
        "id": "ATHXHjXCIej5"
      },
      "execution_count": null,
      "outputs": []
    },
    {
      "cell_type": "markdown",
      "source": [
        "**`finally` Block:**\n",
        "\n",
        "Optionally, you can include a finally block after the try and except blocks.\n",
        "The code in the finally block will always execute, whether an exception occurred or not.\n",
        "Commonly used for cleanup operations like closing files or releasing resources."
      ],
      "metadata": {
        "id": "cEVDT-0PIhGH"
      }
    },
    {
      "cell_type": "code",
      "source": [
        "try:\n",
        "    # Code that may raise an exception\n",
        "    # ...\n",
        "except SomeExceptionType:\n",
        "    # Code to handle the exception of type SomeExceptionType\n",
        "    # ...\n",
        "finally:\n",
        "    # Code that always executes, regardless of exceptions\n",
        "    # ..."
      ],
      "metadata": {
        "id": "WqxitjBJIvdk"
      },
      "execution_count": null,
      "outputs": []
    },
    {
      "cell_type": "markdown",
      "source": [
        "**Example**"
      ],
      "metadata": {
        "id": "wCurkMnWJORu"
      }
    },
    {
      "cell_type": "code",
      "source": [
        "try:\n",
        "    # Attempt to perform some operations that might raise exceptions\n",
        "    num1 = int(input(\"Enter a number: \"))\n",
        "    num2 = int(input(\"Enter another number: \"))\n",
        "    result = num1 / num2  # Potential ZeroDivisionError\n",
        "\n",
        "except ValueError:\n",
        "    # Handle the exception if the user enters non-integer values\n",
        "    print(\"Error: Please enter valid integer values.\")\n",
        "\n",
        "except ZeroDivisionError:\n",
        "    # Handle the exception if the user attempts to divide by zero\n",
        "    print(\"Error: Division by zero!\")\n",
        "\n",
        "finally:\n",
        "    # This block always executes, regardless of exceptions\n",
        "    print(\"Execution completed.\")\n",
        "\n",
        "# Rest of the code\n",
        "print(\"Program continues...\")"
      ],
      "metadata": {
        "id": "chaMTQ49JRmn"
      },
      "execution_count": null,
      "outputs": []
    },
    {
      "cell_type": "markdown",
      "source": [
        "### **Handling Built-In Exceptions in Python**"
      ],
      "metadata": {
        "id": "L0Y35f0A8MOr"
      }
    },
    {
      "cell_type": "markdown",
      "source": [
        "### **Introduction:**\n",
        "When writing beginner-level Python programs, it's crucial to understand and handle built-in exceptions. These exceptions are predefined in Python and provide a way to deal with common error scenarios. In this tutorial, we'll explain the most commonly appearing exception cases and how to handle them in your basic lab programs."
      ],
      "metadata": {
        "id": "0wF668OU8chG"
      }
    },
    {
      "cell_type": "markdown",
      "source": [
        "**Python Built-In Exceptions:**\n",
        "Python has a comprehensive set of built-in exceptions that help you handle various error situations. Here are some of the most commonly encountered exceptions for beginners:"
      ],
      "metadata": {
        "id": "uggJDL0h8h9d"
      }
    },
    {
      "cell_type": "markdown",
      "source": [
        "**SyntaxError:**\n",
        "Occurs when there is a syntax error in your code.\n",
        "\n",
        "**NameError:**\n",
        "Raised when you try to access a variable or name that doesn't exist.\n",
        "\n",
        "**TypeError:**\n",
        "Raised when you perform an operation on an object of an inappropriate type.\n",
        "\n",
        "**ZeroDivisionError:**\n",
        "Raised when you attempt to divide by zero.\n",
        "\n",
        "**IndexError:**\n",
        "Raised when you try to access an index that is out of range in a sequence (e.g., a list).\n",
        "\n",
        "**ValueError:**\n",
        "Raised when an operation or function receives an argument of the correct data type but an inappropriate value.\n",
        "\n",
        "**FileNotFoundError:**\n",
        "Raised when you try to open or manipulate a file that does not exist."
      ],
      "metadata": {
        "id": "RrwN6AMG8nH4"
      }
    },
    {
      "cell_type": "markdown",
      "source": [
        "**Common Exception Handling Patterns:**\n",
        "When writing beginner-level Python programs, you should handle these exceptions gracefully to avoid program crashes. Here's a simple way to handle exceptions:"
      ],
      "metadata": {
        "id": "RSOVgeup9HQ1"
      }
    },
    {
      "cell_type": "code",
      "source": [
        "try:\n",
        "    # Code that may raise an exception\n",
        "    result = operation()\n",
        "except SpecificExceptionType as e:\n",
        "    # Handle the specific exception\n",
        "    print(f\"An error occurred: {e}\")\n",
        "except AnotherExceptionType as e:\n",
        "    # Handle another specific exception\n",
        "    print(f\"Another error occurred: {e}\")\n",
        "except Exception as e:\n",
        "    # Handle all other exceptions\n",
        "    print(f\"An unexpected error occurred: {e}\")\n",
        "else:\n",
        "    # Code to execute if no exception occurred\n",
        "    print(\"No errors occurred.\")\n",
        "finally:\n",
        "    # Code to execute regardless of whether an exception occurred\n",
        "    cleanup()"
      ],
      "metadata": {
        "id": "o-7tnWOi9GKQ"
      },
      "execution_count": null,
      "outputs": []
    }
  ]
}