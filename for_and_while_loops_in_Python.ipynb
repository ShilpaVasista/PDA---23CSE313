{
  "nbformat": 4,
  "nbformat_minor": 0,
  "metadata": {
    "colab": {
      "provenance": []
    },
    "kernelspec": {
      "name": "python3",
      "display_name": "Python 3"
    },
    "language_info": {
      "name": "python"
    }
  },
  "cells": [
    {
      "cell_type": "markdown",
      "source": [
        "In Python, a for loop is used to iterate over a sequence (such as a list, tuple, string, or range) or other iterable objects. The basic syntax of a for loop in Python is as follows:"
      ],
      "metadata": {
        "id": "nhRFt90iLVeE"
      }
    },
    {
      "cell_type": "code",
      "execution_count": null,
      "metadata": {
        "id": "afvP2RntLUq7"
      },
      "outputs": [],
      "source": [
        "for variable in iterable:\n",
        "    # code to be executed for each iteration"
      ]
    },
    {
      "cell_type": "markdown",
      "source": [
        "Here, variable is a placeholder for the current element in the iterable, and the loop will iterate over each element in the iterable. The indented block of code following the colon (:) is the body of the loop, and it will be executed for each iteration.\n",
        "\n"
      ],
      "metadata": {
        "id": "Vc99dHpmLdNv"
      }
    },
    {
      "cell_type": "markdown",
      "source": [
        "Looping through a list:\n"
      ],
      "metadata": {
        "id": "XxP74ZcTLgMl"
      }
    },
    {
      "cell_type": "code",
      "source": [
        "fruits = [\"apple\", \"banana\", \"cherry\"]\n",
        "for fruit in fruits:\n",
        "    print(fruit)"
      ],
      "metadata": {
        "id": "kTRzbnr3LiFw"
      },
      "execution_count": null,
      "outputs": []
    },
    {
      "cell_type": "markdown",
      "source": [
        "Looping through a string:\n"
      ],
      "metadata": {
        "id": "RepM1mplLlzc"
      }
    },
    {
      "cell_type": "code",
      "source": [
        "for char in \"Python\":\n",
        "    print(char)\n"
      ],
      "metadata": {
        "id": "GN3KydvDLnYs"
      },
      "execution_count": null,
      "outputs": []
    },
    {
      "cell_type": "markdown",
      "source": [
        "Looping through a range of numbers:"
      ],
      "metadata": {
        "id": "g1uAtbeZLqWd"
      }
    },
    {
      "cell_type": "code",
      "source": [
        "for num in range(1, 5):  # Range from 1 to 4 (5 is exclusive)\n",
        "    print(num)\n"
      ],
      "metadata": {
        "id": "BUl6jeNdLr7y"
      },
      "execution_count": null,
      "outputs": []
    },
    {
      "cell_type": "markdown",
      "source": [
        "Nested loops (loop inside a loop):\n"
      ],
      "metadata": {
        "id": "QFCJenncLvaw"
      }
    },
    {
      "cell_type": "code",
      "source": [
        "for i in range(3):\n",
        "    for j in range(2):\n",
        "        print(f\"i: {i}, j: {j}\")\n"
      ],
      "metadata": {
        "id": "qH6sh-EFLw5g"
      },
      "execution_count": null,
      "outputs": []
    },
    {
      "cell_type": "markdown",
      "source": [
        "Using break to exit the loop prematurely:"
      ],
      "metadata": {
        "id": "-BTzc9UWL0SW"
      }
    },
    {
      "cell_type": "code",
      "source": [
        "numbers = [1, 2, 3, 4, 5]\n",
        "for num in numbers:\n",
        "    if num == 3:\n",
        "        break\n",
        "    print(num)\n"
      ],
      "metadata": {
        "id": "S-8jCGHQL2Cv"
      },
      "execution_count": null,
      "outputs": []
    },
    {
      "cell_type": "markdown",
      "source": [
        "Using continue to skip the rest of the code block and move to the next iteration:"
      ],
      "metadata": {
        "id": "vEANaH4HL5SD"
      }
    },
    {
      "cell_type": "code",
      "source": [
        "numbers = [1, 2, 3, 4, 5]\n",
        "for num in numbers:\n",
        "    if num == 3:\n",
        "        continue\n",
        "    print(num)\n"
      ],
      "metadata": {
        "id": "RdWvCBegL7TT"
      },
      "execution_count": null,
      "outputs": []
    },
    {
      "cell_type": "markdown",
      "source": [
        "**while loop**\n",
        "\n",
        "In Python, a while loop is used to repeatedly execute a block of code as long as a specified condition is true. The basic syntax of a while loop in Python is as follows:"
      ],
      "metadata": {
        "id": "U_fSZZqiMLWM"
      }
    },
    {
      "cell_type": "code",
      "source": [
        "while condition:\n",
        "    # code to be executed while the condition is true\n"
      ],
      "metadata": {
        "id": "NaEiMq6oMNMV"
      },
      "execution_count": null,
      "outputs": []
    },
    {
      "cell_type": "markdown",
      "source": [
        "Here, condition is an expression that is evaluated before each iteration of the loop. If the condition is true, the code inside the loop is executed. The loop continues to run as long as the condition remains true.\n",
        "\n",
        "Here's an example to illustrate the usage of a while loop:"
      ],
      "metadata": {
        "id": "lUx1otb1MSLJ"
      }
    },
    {
      "cell_type": "code",
      "source": [
        "# Example 1: Simple while loop\n",
        "count = 0\n",
        "while count < 5:\n",
        "    print(count)\n",
        "    count += 1\n"
      ],
      "metadata": {
        "id": "jyA1I5zXMUAW"
      },
      "execution_count": null,
      "outputs": []
    },
    {
      "cell_type": "markdown",
      "source": [
        "You can also use break and continue statements in a while loop, similar to for loops. Here are a couple of examples:"
      ],
      "metadata": {
        "id": "ubOwBO72MY7k"
      }
    },
    {
      "cell_type": "code",
      "source": [
        "# Example 2: Using break to exit the loop\n",
        "number = 0\n",
        "while True:\n",
        "    print(number)\n",
        "    number += 1\n",
        "    if number == 5:\n",
        "        break\n",
        "\n",
        "# Example 3: Using continue to skip an iteration\n",
        "number = 0\n",
        "while number < 5:\n",
        "    number += 1\n",
        "    if number == 3:\n",
        "        continue\n",
        "    print(number)\n"
      ],
      "metadata": {
        "id": "8CfqfCAIMat1"
      },
      "execution_count": null,
      "outputs": []
    }
  ]
}