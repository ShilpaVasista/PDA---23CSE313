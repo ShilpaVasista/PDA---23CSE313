{
  "nbformat": 4,
  "nbformat_minor": 0,
  "metadata": {
    "colab": {
      "provenance": []
    },
    "kernelspec": {
      "name": "python3",
      "display_name": "Python 3"
    },
    "language_info": {
      "name": "python"
    }
  },
  "cells": [
    {
      "cell_type": "markdown",
      "source": [
        "### **String Slicing**\n",
        "String slicing in Python is a powerful and flexible way to manipulate strings. It allows you to extract a portion of a string or create a new string by selecting specific characters from the original string. The basic syntax for string slicing is:\n",
        "```\n",
        "Syntax: string[start:stop:step]\n",
        "```\n",
        "start: The index of the first character you want to include in the sliced string. It is inclusive.\n",
        "\n",
        "stop: The index of the first character you want to exclude from the sliced string. It is exclusive.\n",
        "\n",
        "step (optional): The step or increment between characters. It determines how many characters to skip. The default is 1.\n"
      ],
      "metadata": {
        "id": "dIE6Y77SK2Bt"
      }
    },
    {
      "cell_type": "markdown",
      "source": [
        "**Basic Slicing**"
      ],
      "metadata": {
        "id": "sRhWQmYaL05g"
      }
    },
    {
      "cell_type": "code",
      "source": [
        "# Define a string\n",
        "original_string = \"Hello, World!\"\n",
        "\n",
        "# Extract characters from index 0 to 5 (excluding 5)\n",
        "sliced_string = original_string[0:5]\n",
        "print(sliced_string)\n"
      ],
      "metadata": {
        "id": "WAb5SPRLL6Gx"
      },
      "execution_count": null,
      "outputs": []
    },
    {
      "cell_type": "markdown",
      "source": [
        "**Omitting Start or Stop**\n",
        "\n",
        "If you omit start, it defaults to the beginning of the string. If you omit stop, it defaults to the end of the string."
      ],
      "metadata": {
        "id": "C0vMIk1vL-4-"
      }
    },
    {
      "cell_type": "code",
      "source": [
        "# Omitting start\n",
        "sliced_string = original_string[:5]\n",
        "print(sliced_string)\n",
        "# Omitting stop\n",
        "sliced_string = original_string[7:]\n",
        "print(sliced_string)"
      ],
      "metadata": {
        "id": "ct91MDUEMC2c"
      },
      "execution_count": null,
      "outputs": []
    },
    {
      "cell_type": "markdown",
      "source": [
        "**Negative Indices**\n",
        "\n",
        "Negative indices count from the end of the string. -1 refers to the last character, -2 to the second-to-last, and so on.\n",
        "\n"
      ],
      "metadata": {
        "id": "qHL3aCUxMIsv"
      }
    },
    {
      "cell_type": "code",
      "source": [
        "# Extract the last three characters\n",
        "sliced_string = original_string[-3:]\n",
        "print(sliced_string)\n"
      ],
      "metadata": {
        "id": "pPo1I5koML1u"
      },
      "execution_count": null,
      "outputs": []
    },
    {
      "cell_type": "markdown",
      "source": [
        "**Step**\n",
        "\n",
        "You can use the step parameter to skip characters."
      ],
      "metadata": {
        "id": "_gde0koDMcFm"
      }
    },
    {
      "cell_type": "code",
      "source": [
        "# Extract every second character\n",
        "sliced_string = original_string[::2]\n",
        "print(sliced_string)\n",
        "\n",
        "# Reverse the string\n",
        "sliced_string = original_string[::-1]\n",
        "print(sliced_string)"
      ],
      "metadata": {
        "id": "AhEIkg2-MgS7"
      },
      "execution_count": null,
      "outputs": []
    }
  ]
}