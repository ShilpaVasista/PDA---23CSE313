{
  "nbformat": 4,
  "nbformat_minor": 0,
  "metadata": {
    "colab": {
      "provenance": [],
      "authorship_tag": "ABX9TyOARaXK1gIN8QjtmlAKQZEq",
      "include_colab_link": true
    },
    "kernelspec": {
      "name": "python3",
      "display_name": "Python 3"
    },
    "language_info": {
      "name": "python"
    }
  },
  "cells": [
    {
      "cell_type": "markdown",
      "metadata": {
        "id": "view-in-github",
        "colab_type": "text"
      },
      "source": [
        "<a href=\"https://colab.research.google.com/github/ShilpaVasista/PDA---23CSE313/blob/main/ravel.ipynb\" target=\"_parent\"><img src=\"https://colab.research.google.com/assets/colab-badge.svg\" alt=\"Open In Colab\"/></a>"
      ]
    },
    {
      "cell_type": "code",
      "execution_count": null,
      "metadata": {
        "colab": {
          "base_uri": "https://localhost:8080/"
        },
        "id": "w9eimp-JS2i_",
        "outputId": "ad4a08e7-f664-4822-b566-c59d19bcc9a7"
      },
      "outputs": [
        {
          "output_type": "stream",
          "name": "stdout",
          "text": [
            "[[1 2 3]\n",
            " [4 5 6]\n",
            " [7 8 9]]\n"
          ]
        }
      ],
      "source": [
        "import numpy as np\n",
        "a = np.arange(1,10).reshape((3,3))\n",
        "print(a)"
      ]
    },
    {
      "cell_type": "code",
      "source": [
        "flattened = a.ravel()\n",
        "print(flattened)"
      ],
      "metadata": {
        "colab": {
          "base_uri": "https://localhost:8080/"
        },
        "id": "J_RqiUExTqkP",
        "outputId": "3f9cceee-90b4-4c56-ff72-b22c98a29b8f"
      },
      "execution_count": null,
      "outputs": [
        {
          "output_type": "stream",
          "name": "stdout",
          "text": [
            "[1 2 3 4 5 6 7 8 9]\n"
          ]
        }
      ]
    },
    {
      "cell_type": "code",
      "source": [
        "flattened[2] = 10\n",
        "print(a)"
      ],
      "metadata": {
        "colab": {
          "base_uri": "https://localhost:8080/"
        },
        "id": "ucCw2UHyT9RW",
        "outputId": "716e731b-0940-4c45-e033-f3be82496c8f"
      },
      "execution_count": null,
      "outputs": [
        {
          "output_type": "stream",
          "name": "stdout",
          "text": [
            "[[ 1  2 10]\n",
            " [ 4  5  6]\n",
            " [ 7  8  9]]\n"
          ]
        }
      ]
    },
    {
      "cell_type": "code",
      "source": [
        "a.flags['C_CONTIGUOUS']"
      ],
      "metadata": {
        "colab": {
          "base_uri": "https://localhost:8080/"
        },
        "id": "gmMYcMG0ZH21",
        "outputId": "ea26d366-1a8c-41cd-b21c-9faf9465e96f"
      },
      "execution_count": null,
      "outputs": [
        {
          "output_type": "execute_result",
          "data": {
            "text/plain": [
              "True"
            ]
          },
          "metadata": {},
          "execution_count": 20
        }
      ]
    },
    {
      "cell_type": "code",
      "source": [
        "np.ravel(a,order='F')"
      ],
      "metadata": {
        "colab": {
          "base_uri": "https://localhost:8080/"
        },
        "id": "gPZB6YpfUAaS",
        "outputId": "d92c13b2-fd6e-4c9d-9e73-841f607bc4f7"
      },
      "execution_count": null,
      "outputs": [
        {
          "output_type": "execute_result",
          "data": {
            "text/plain": [
              "array([1, 4, 7, 2, 5, 8, 3, 6, 9])"
            ]
          },
          "metadata": {},
          "execution_count": 9
        }
      ]
    },
    {
      "cell_type": "code",
      "source": [
        "b = np.arange(9).reshape([3,3])\n",
        "print(b)\n",
        "non_contiguous = b[:,::2]\n",
        "print(non_contiguous)\n",
        "print(non_contiguous.flags['C_CONTIGUOUS'])\n",
        "print(b)\n",
        "flattened = non_contiguous.ravel()\n",
        "print(b)\n",
        "flattened[0] = 100\n",
        "print(b)\n",
        "print(\"flattened\")\n",
        "print(flattened)\n",
        "\n",
        "print()\n",
        "print(\"Original Array\")\n",
        "print(b)"
      ],
      "metadata": {
        "colab": {
          "base_uri": "https://localhost:8080/"
        },
        "id": "OAlt8FFiUMRK",
        "outputId": "32e332ee-bc92-45ee-9814-95831efb94ce"
      },
      "execution_count": null,
      "outputs": [
        {
          "output_type": "stream",
          "name": "stdout",
          "text": [
            "[[0 1 2]\n",
            " [3 4 5]\n",
            " [6 7 8]]\n",
            "[[0 2]\n",
            " [3 5]\n",
            " [6 8]]\n",
            "False\n",
            "[[0 1 2]\n",
            " [3 4 5]\n",
            " [6 7 8]]\n",
            "[[0 1 2]\n",
            " [3 4 5]\n",
            " [6 7 8]]\n",
            "[[0 1 2]\n",
            " [3 4 5]\n",
            " [6 7 8]]\n",
            "flattened\n",
            "[100   2   3   5   6   8]\n",
            "\n",
            "Original Array\n",
            "[[0 1 2]\n",
            " [3 4 5]\n",
            " [6 7 8]]\n"
          ]
        }
      ]
    },
    {
      "cell_type": "code",
      "source": [
        "non_contiguous = b[:,::2]\n",
        "print(non_contiguous)"
      ],
      "metadata": {
        "colab": {
          "base_uri": "https://localhost:8080/"
        },
        "id": "OqsYR2fVVwfD",
        "outputId": "4131843d-b056-46b4-eca7-e471dbcd362d"
      },
      "execution_count": null,
      "outputs": [
        {
          "output_type": "stream",
          "name": "stdout",
          "text": [
            "[[0 2]\n",
            " [3 5]\n",
            " [6 8]]\n"
          ]
        }
      ]
    },
    {
      "cell_type": "code",
      "source": [
        "print(non_contiguous.flags['C_CONTIGUOUS'])\n",
        "print(b)"
      ],
      "metadata": {
        "colab": {
          "base_uri": "https://localhost:8080/"
        },
        "id": "7GpnKmu2ZR0x",
        "outputId": "12b1aa9a-74c2-4cfd-c822-db84296012c7"
      },
      "execution_count": null,
      "outputs": [
        {
          "output_type": "stream",
          "name": "stdout",
          "text": [
            "False\n",
            "[[0 1 2]\n",
            " [3 4 5]\n",
            " [6 7 8]]\n"
          ]
        }
      ]
    },
    {
      "cell_type": "code",
      "source": [
        "non_contiguous.ravel()\n",
        "print(b)\n"
      ],
      "metadata": {
        "colab": {
          "base_uri": "https://localhost:8080/"
        },
        "id": "X5Se3YpoaNiN",
        "outputId": "14d7b7b6-b5a5-4f80-d64a-47c33a27b24f"
      },
      "execution_count": null,
      "outputs": [
        {
          "output_type": "stream",
          "name": "stdout",
          "text": [
            "[[0 1 2]\n",
            " [3 4 5]\n",
            " [6 7 8]]\n"
          ]
        }
      ]
    },
    {
      "cell_type": "code",
      "source": [
        "non_contiguous[0] = 100\n",
        "print(b)"
      ],
      "metadata": {
        "colab": {
          "base_uri": "https://localhost:8080/"
        },
        "id": "bpmj2Xueab7G",
        "outputId": "e2b332bf-f237-4c4c-cb27-34df05187d85"
      },
      "execution_count": null,
      "outputs": [
        {
          "output_type": "stream",
          "name": "stdout",
          "text": [
            "[[100   1 100]\n",
            " [  3   4   5]\n",
            " [  6   7   8]]\n"
          ]
        }
      ]
    },
    {
      "cell_type": "code",
      "source": [
        "print(\"non_contiguous\")\n",
        "print(non_contiguous)\n",
        "\n",
        "print()\n",
        "print(\"Original Array\")\n",
        "print(b)"
      ],
      "metadata": {
        "colab": {
          "base_uri": "https://localhost:8080/"
        },
        "id": "b-3cFBgJah-H",
        "outputId": "51f75088-0ae9-4a4d-9291-f5fb8c07baf6"
      },
      "execution_count": null,
      "outputs": [
        {
          "output_type": "stream",
          "name": "stdout",
          "text": [
            "non_contiguous\n",
            "[[100 100]\n",
            " [  3   5]\n",
            " [  6   8]]\n",
            "\n",
            "Original Array\n",
            "[[100   1 100]\n",
            " [  3   4   5]\n",
            " [  6   7   8]]\n"
          ]
        }
      ]
    },
    {
      "cell_type": "code",
      "source": [
        "import numpy as np\n",
        "\n",
        "# Create a 2D contiguous array\n",
        "arr = np.array([[1, 2, 3], [4, 5, 6]])\n",
        "\n",
        "# Check contiguity\n",
        "print(\"Is the original array C-contiguous?\", arr.flags['C_CONTIGUOUS'])\n",
        "\n",
        "# Ravel the contiguous array\n",
        "flattened = arr.ravel()\n",
        "print(\"Flattened Array (contiguous):\", flattened)\n",
        "\n",
        "# Modify the flattened array\n",
        "flattened[0] = 99\n",
        "print(\"Modified Original Array (view expected):\")\n",
        "print(arr)\n",
        "\n",
        "# Create a non-contiguous array by slicing\n",
        "non_contiguous = arr[:, ::2]  # Select every 2nd column\n",
        "print(\"\\nNon-Contiguous Array:\")\n",
        "print(non_contiguous)\n",
        "\n",
        "# Check contiguity\n",
        "print(\"Is the sliced array C-contiguous?\", non_contiguous.flags['C_CONTIGUOUS'])\n",
        "\n",
        "# Ravel the non-contiguous array\n",
        "flattened_non_contiguous = non_contiguous.ravel()\n",
        "print(\"\\nFlattened Non-Contiguous Array:\", flattened_non_contiguous)\n",
        "\n",
        "# Modify the flattened array\n",
        "flattened_non_contiguous[0] = 88\n",
        "print(\"Modified Non-Contiguous Array:\")\n",
        "print(non_contiguous)  # No change expected\n",
        "print(\"flattened_non_contiguous\")\n",
        "print(flattened_non_contiguous)\n",
        "print(\"original\")\n",
        "print(arr)\n"
      ],
      "metadata": {
        "colab": {
          "base_uri": "https://localhost:8080/"
        },
        "id": "k0Fl9QwndXyB",
        "outputId": "1618b8fb-10fe-4056-f709-4fd775184632"
      },
      "execution_count": null,
      "outputs": [
        {
          "output_type": "stream",
          "name": "stdout",
          "text": [
            "Is the original array C-contiguous? True\n",
            "Flattened Array (contiguous): [1 2 3 4 5 6]\n",
            "Modified Original Array (view expected):\n",
            "[[99  2  3]\n",
            " [ 4  5  6]]\n",
            "\n",
            "Non-Contiguous Array:\n",
            "[[99  3]\n",
            " [ 4  6]]\n",
            "Is the sliced array C-contiguous? False\n",
            "\n",
            "Flattened Non-Contiguous Array: [99  3  4  6]\n",
            "Modified Non-Contiguous Array:\n",
            "[[99  3]\n",
            " [ 4  6]]\n",
            "flattened_non_contiguous\n",
            "[88  3  4  6]\n",
            "original\n",
            "[[99  2  3]\n",
            " [ 4  5  6]]\n"
          ]
        }
      ]
    },
    {
      "cell_type": "code",
      "source": [
        "import numpy as np\n",
        "\n",
        "# Create a 2D contiguous array\n",
        "arr = np.arange(9).reshape((3,3))\n",
        "\n",
        "# Check contiguity\n",
        "print(\"Is the original array C-contiguous?\", arr.flags['C_CONTIGUOUS'])\n",
        "\n",
        "# Ravel the contiguous array\n",
        "flattened = arr.ravel()\n",
        "print(\"Flattened Array (contiguous):\", flattened)\n",
        "\n",
        "# Modify the flattened array\n",
        "flattened[0] = 99\n",
        "print(\"Modified Original Array (view expected):\")\n",
        "print(arr)\n",
        "\n",
        "# Create a non-contiguous array by slicing\n",
        "non_contiguous = arr[:, ::2]  # Select every 2nd column\n",
        "print(\"\\nNon-Contiguous Array:\")\n",
        "print(non_contiguous)\n",
        "\n",
        "# Check contiguity\n",
        "print(\"Is the sliced array C-contiguous?\", non_contiguous.flags['C_CONTIGUOUS'])\n",
        "\n",
        "# Ravel the non-contiguous array\n",
        "flattened_non_contiguous = non_contiguous.ravel()\n",
        "print(\"\\nFlattened Non-Contiguous Array:\", flattened_non_contiguous)\n",
        "\n",
        "# Modify the flattened array\n",
        "flattened_non_contiguous[0] = 88\n",
        "print(\"Modified Non-Contiguous Array:\")\n",
        "print(non_contiguous)  # No change expected\n",
        "print(\"flattened_non_contiguous\")\n",
        "print(flattened_non_contiguous)\n",
        "print(\"original\")\n",
        "print(arr)\n"
      ],
      "metadata": {
        "colab": {
          "base_uri": "https://localhost:8080/"
        },
        "id": "js6UQqoMfKpH",
        "outputId": "6dc365b3-f4a9-432c-a3ba-e7d842407244"
      },
      "execution_count": null,
      "outputs": [
        {
          "output_type": "stream",
          "name": "stdout",
          "text": [
            "Is the original array C-contiguous? True\n",
            "Flattened Array (contiguous): [0 1 2 3 4 5 6 7 8]\n",
            "Modified Original Array (view expected):\n",
            "[[99  1  2]\n",
            " [ 3  4  5]\n",
            " [ 6  7  8]]\n",
            "\n",
            "Non-Contiguous Array:\n",
            "[[99  2]\n",
            " [ 3  5]\n",
            " [ 6  8]]\n",
            "Is the sliced array C-contiguous? False\n",
            "\n",
            "Flattened Non-Contiguous Array: [99  2  3  5  6  8]\n",
            "Modified Non-Contiguous Array:\n",
            "[[99  2]\n",
            " [ 3  5]\n",
            " [ 6  8]]\n",
            "flattened_non_contiguous\n",
            "[88  2  3  5  6  8]\n",
            "original\n",
            "[[99  1  2]\n",
            " [ 3  4  5]\n",
            " [ 6  7  8]]\n"
          ]
        }
      ]
    },
    {
      "cell_type": "code",
      "source": [
        "import numpy as np\n",
        "a=np.arange(9).reshape((3,3))\n",
        "print(a)"
      ],
      "metadata": {
        "colab": {
          "base_uri": "https://localhost:8080/"
        },
        "id": "uxjsxTs2B3ML",
        "outputId": "3a8fedfc-721a-4f41-9459-119ba6a40ee8"
      },
      "execution_count": null,
      "outputs": [
        {
          "output_type": "stream",
          "name": "stdout",
          "text": [
            "[[0 1 2]\n",
            " [3 4 5]\n",
            " [6 7 8]]\n"
          ]
        }
      ]
    },
    {
      "cell_type": "code",
      "source": [
        "a.ravel()"
      ],
      "metadata": {
        "colab": {
          "base_uri": "https://localhost:8080/"
        },
        "id": "omvEWHeHCPxn",
        "outputId": "9afb2872-4ffc-4d33-b096-bf2af5c241f8"
      },
      "execution_count": null,
      "outputs": [
        {
          "output_type": "execute_result",
          "data": {
            "text/plain": [
              "array([0, 1, 2, 3, 4, 5, 6, 7, 8])"
            ]
          },
          "metadata": {},
          "execution_count": 4
        }
      ]
    },
    {
      "cell_type": "code",
      "source": [
        "a.flags['C_CONTIGUOUS']"
      ],
      "metadata": {
        "colab": {
          "base_uri": "https://localhost:8080/"
        },
        "id": "aTuyWNhwCeMC",
        "outputId": "6791fc1d-8fae-49cf-edbd-3666e67978ff"
      },
      "execution_count": null,
      "outputs": [
        {
          "output_type": "execute_result",
          "data": {
            "text/plain": [
              "True"
            ]
          },
          "metadata": {},
          "execution_count": 6
        }
      ]
    },
    {
      "cell_type": "code",
      "source": [
        "a_flat = a.ravel()\n",
        "a_flat[0] = 100\n",
        "print(\"a_flat\")\n",
        "print(a_flat)\n",
        "print(\"a\")\n",
        "print(a)"
      ],
      "metadata": {
        "colab": {
          "base_uri": "https://localhost:8080/"
        },
        "id": "WhWImTGBC0XW",
        "outputId": "a8975a8d-f2d7-4c0d-82b2-aca5d4ff4393"
      },
      "execution_count": null,
      "outputs": [
        {
          "output_type": "stream",
          "name": "stdout",
          "text": [
            "a_flat\n",
            "[100   1   2   3   4   5   6   7   8]\n",
            "a\n",
            "[[100   1   2]\n",
            " [  3   4   5]\n",
            " [  6   7   8]]\n"
          ]
        }
      ]
    },
    {
      "cell_type": "code",
      "source": [
        "b = np.zeros((3,3))\n",
        "print(b)"
      ],
      "metadata": {
        "colab": {
          "base_uri": "https://localhost:8080/"
        },
        "id": "nOtuFWLqDZsc",
        "outputId": "89cd0041-3f27-4d78-d6e7-db6998accbb8"
      },
      "execution_count": null,
      "outputs": [
        {
          "output_type": "stream",
          "name": "stdout",
          "text": [
            "[[0. 0. 0.]\n",
            " [0. 0. 0.]\n",
            " [0. 0. 0.]]\n"
          ]
        }
      ]
    },
    {
      "cell_type": "code",
      "source": [
        "b_slice = b[:,::2]\n",
        "print(b_slice)"
      ],
      "metadata": {
        "colab": {
          "base_uri": "https://localhost:8080/"
        },
        "id": "7pcevy8pD4Wx",
        "outputId": "569459b3-3591-4641-97bf-16b726994c7f"
      },
      "execution_count": null,
      "outputs": [
        {
          "output_type": "stream",
          "name": "stdout",
          "text": [
            "[[0. 0.]\n",
            " [0. 0.]\n",
            " [0. 0.]]\n"
          ]
        }
      ]
    },
    {
      "cell_type": "code",
      "source": [
        "b_slice_flat = b_slice.ravel()\n",
        "print(b_slice_flat)"
      ],
      "metadata": {
        "colab": {
          "base_uri": "https://localhost:8080/"
        },
        "id": "ry07wk4OEGj2",
        "outputId": "77d4f3ad-4b6d-4ad1-f04b-f8cc50448dc6"
      },
      "execution_count": null,
      "outputs": [
        {
          "output_type": "stream",
          "name": "stdout",
          "text": [
            "[0. 0. 0. 0. 0. 0.]\n"
          ]
        }
      ]
    },
    {
      "cell_type": "code",
      "source": [
        "b_slice_flat[0] = 100\n",
        "print(\"b_slice_flat\")\n",
        "print(b_slice_flat)\n",
        "print(\"original\")\n",
        "print(b)\n",
        "print(\"b_slice\")\n",
        "print(b_slice)\n",
        "print(\"Is b Contiguous\", b.flags['C_CONTIGUOUS'])\n",
        "print(\"Is b_slice Contiguous\", b_slice.flags['C_CONTIGUOUS'])\n",
        "print(\"Is b_slice_flat Contiguous\", b_slice_flat.flags['C_CONTIGUOUS'])\n"
      ],
      "metadata": {
        "colab": {
          "base_uri": "https://localhost:8080/"
        },
        "id": "WSa5OvJWESjf",
        "outputId": "2eab23ab-3fc9-4285-e28f-ad51fc07078c"
      },
      "execution_count": null,
      "outputs": [
        {
          "output_type": "stream",
          "name": "stdout",
          "text": [
            "b_slice_flat\n",
            "[100.   0.   0.   0.   0.   0.]\n",
            "original\n",
            "[[0. 0. 0.]\n",
            " [0. 0. 0.]\n",
            " [0. 0. 0.]]\n",
            "b_slice\n",
            "[[0. 0.]\n",
            " [0. 0.]\n",
            " [0. 0.]]\n",
            "Is b Contiguous True\n",
            "Is b_slice Contiguous False\n",
            "Is b_slice_flat Contiguous True\n"
          ]
        }
      ]
    },
    {
      "cell_type": "code",
      "source": [
        "a = np.zeros((3,3))\n",
        "print(\"a\")\n",
        "print(a)\n",
        "b = np.ones((3,3))\n",
        "print(\"b\")\n",
        "print(b)\n",
        "result = np.vstack((a,b))\n",
        "print(\"result\")\n",
        "print(result)"
      ],
      "metadata": {
        "colab": {
          "base_uri": "https://localhost:8080/"
        },
        "id": "zrjlUkI2RwvV",
        "outputId": "d176153d-a5a5-42d2-fdc3-6394149f12f3"
      },
      "execution_count": null,
      "outputs": [
        {
          "output_type": "stream",
          "name": "stdout",
          "text": [
            "a\n",
            "[[0. 0. 0.]\n",
            " [0. 0. 0.]\n",
            " [0. 0. 0.]]\n",
            "b\n",
            "[[1. 1. 1.]\n",
            " [1. 1. 1.]\n",
            " [1. 1. 1.]]\n",
            "result\n",
            "[[0. 0. 0.]\n",
            " [0. 0. 0.]\n",
            " [0. 0. 0.]\n",
            " [1. 1. 1.]\n",
            " [1. 1. 1.]\n",
            " [1. 1. 1.]]\n"
          ]
        }
      ]
    },
    {
      "cell_type": "code",
      "source": [
        "result_hstack = np.hstack((a,b))\n",
        "print(result_hstack)"
      ],
      "metadata": {
        "colab": {
          "base_uri": "https://localhost:8080/"
        },
        "id": "eE_q1RKXSV8t",
        "outputId": "5eef100f-5e31-4a40-f304-7f6d75efe9e4"
      },
      "execution_count": null,
      "outputs": [
        {
          "output_type": "stream",
          "name": "stdout",
          "text": [
            "[[0. 0. 0. 1. 1. 1.]\n",
            " [0. 0. 0. 1. 1. 1.]\n",
            " [0. 0. 0. 1. 1. 1.]]\n"
          ]
        }
      ]
    },
    {
      "cell_type": "code",
      "source": [
        "a = np.array([1,2,3])\n",
        "b = np.array([4,5,6])\n",
        "c = np.array([7,8,9])\n",
        "result = np.column_stack([a,b,c])\n",
        "print(result)"
      ],
      "metadata": {
        "colab": {
          "base_uri": "https://localhost:8080/"
        },
        "id": "wblth3OgTzcJ",
        "outputId": "c6ee0d79-5275-4bed-d775-3baa960c1589"
      },
      "execution_count": null,
      "outputs": [
        {
          "output_type": "stream",
          "name": "stdout",
          "text": [
            "[[1 4 7]\n",
            " [2 5 8]\n",
            " [3 6 9]]\n"
          ]
        }
      ]
    },
    {
      "cell_type": "code",
      "source": [
        "result_row = np.row_stack([a,b,c])\n",
        "print(result_row)"
      ],
      "metadata": {
        "colab": {
          "base_uri": "https://localhost:8080/",
          "height": 159
        },
        "id": "v41A31kSUSLk",
        "outputId": "c29b99b3-5eda-496f-ff78-d1e44e2939ff"
      },
      "execution_count": null,
      "outputs": [
        {
          "output_type": "error",
          "ename": "NameError",
          "evalue": "name 'a' is not defined",
          "traceback": [
            "\u001b[0;31m---------------------------------------------------------------------------\u001b[0m",
            "\u001b[0;31mNameError\u001b[0m                                 Traceback (most recent call last)",
            "\u001b[0;32m<ipython-input-7-7838c049aa31>\u001b[0m in \u001b[0;36m<cell line: 1>\u001b[0;34m()\u001b[0m\n\u001b[0;32m----> 1\u001b[0;31m \u001b[0mresult_row\u001b[0m \u001b[0;34m=\u001b[0m \u001b[0mnp\u001b[0m\u001b[0;34m.\u001b[0m\u001b[0mrow_stack\u001b[0m\u001b[0;34m(\u001b[0m\u001b[0;34m[\u001b[0m\u001b[0ma\u001b[0m\u001b[0;34m,\u001b[0m\u001b[0mb\u001b[0m\u001b[0;34m,\u001b[0m\u001b[0mc\u001b[0m\u001b[0;34m]\u001b[0m\u001b[0;34m)\u001b[0m\u001b[0;34m\u001b[0m\u001b[0;34m\u001b[0m\u001b[0m\n\u001b[0m\u001b[1;32m      2\u001b[0m \u001b[0mprint\u001b[0m\u001b[0;34m(\u001b[0m\u001b[0mresult_row\u001b[0m\u001b[0;34m)\u001b[0m\u001b[0;34m\u001b[0m\u001b[0;34m\u001b[0m\u001b[0m\n",
            "\u001b[0;31mNameError\u001b[0m: name 'a' is not defined"
          ]
        }
      ]
    },
    {
      "cell_type": "code",
      "source": [
        "import numpy as np\n",
        "A = np.arange(16).reshape((4, 4))\n",
        "print(A)\n",
        "print()\n",
        "[B, C] = np.hsplit(A, 2)\n",
        "print(B)\n",
        "print()\n",
        "print(C)\n",
        "print()\n",
        "\n",
        "[D, E] = np.vsplit(A, 2)\n",
        "print(D)\n",
        "print()\n",
        "print(E)\n",
        "print()"
      ],
      "metadata": {
        "colab": {
          "base_uri": "https://localhost:8080/"
        },
        "id": "9ZMDraTC6otK",
        "outputId": "b12a3817-b9d9-46cc-aabd-f505b5588b5a"
      },
      "execution_count": null,
      "outputs": [
        {
          "output_type": "stream",
          "name": "stdout",
          "text": [
            "[[ 0  1  2  3]\n",
            " [ 4  5  6  7]\n",
            " [ 8  9 10 11]\n",
            " [12 13 14 15]]\n",
            "\n",
            "[[ 0  1]\n",
            " [ 4  5]\n",
            " [ 8  9]\n",
            " [12 13]]\n",
            "\n",
            "[[ 2  3]\n",
            " [ 6  7]\n",
            " [10 11]\n",
            " [14 15]]\n",
            "\n",
            "[[0 1 2 3]\n",
            " [4 5 6 7]]\n",
            "\n",
            "[[ 8  9 10 11]\n",
            " [12 13 14 15]]\n",
            "\n"
          ]
        }
      ]
    },
    {
      "cell_type": "code",
      "source": [
        "A = np.arange(16).reshape((4, 4))\n",
        "print(A)\n",
        "[A1, A2, A3] = np.split(A, [1, 3], axis=1)\n",
        "print(A1)\n",
        "print(A2)\n",
        "print(A3)"
      ],
      "metadata": {
        "colab": {
          "base_uri": "https://localhost:8080/"
        },
        "id": "xSltNoV_8rXC",
        "outputId": "cb0193a0-7681-4529-aad3-b10021d51cbd"
      },
      "execution_count": null,
      "outputs": [
        {
          "output_type": "stream",
          "name": "stdout",
          "text": [
            "[[ 0  1  2  3]\n",
            " [ 4  5  6  7]\n",
            " [ 8  9 10 11]\n",
            " [12 13 14 15]]\n",
            "[[ 0]\n",
            " [ 4]\n",
            " [ 8]\n",
            " [12]]\n",
            "[[ 1  2]\n",
            " [ 5  6]\n",
            " [ 9 10]\n",
            " [13 14]]\n",
            "[[ 3]\n",
            " [ 7]\n",
            " [11]\n",
            " [15]]\n"
          ]
        }
      ]
    },
    {
      "cell_type": "code",
      "source": [
        "A = np.arange(16).reshape(4, 4)\n",
        "\n",
        "B = np.arange(4)\n",
        "A + B\n"
      ],
      "metadata": {
        "colab": {
          "base_uri": "https://localhost:8080/"
        },
        "id": "ZNsRM-OWAbAR",
        "outputId": "e740589a-a396-4af4-b89b-c24d79662567"
      },
      "execution_count": null,
      "outputs": [
        {
          "output_type": "execute_result",
          "data": {
            "text/plain": [
              "array([[ 0,  2,  4,  6],\n",
              "       [ 4,  6,  8, 10],\n",
              "       [ 8, 10, 12, 14],\n",
              "       [12, 14, 16, 18]])"
            ]
          },
          "metadata": {},
          "execution_count": 17
        }
      ]
    },
    {
      "cell_type": "code",
      "source": [
        "m = np.arange(6).reshape(3, 1, 2)\n",
        "print(m)\n",
        "print()\n",
        "n = np.arange(6).reshape(3, 2, 1)\n",
        "print(n)\n",
        "print()\n",
        "m + n\n"
      ],
      "metadata": {
        "colab": {
          "base_uri": "https://localhost:8080/"
        },
        "id": "wD5NjgHSBTbN",
        "outputId": "487716b6-928b-4edf-b43b-acabd7d72708"
      },
      "execution_count": null,
      "outputs": [
        {
          "output_type": "stream",
          "name": "stdout",
          "text": [
            "[[[0 1]]\n",
            "\n",
            " [[2 3]]\n",
            "\n",
            " [[4 5]]]\n",
            "\n",
            "[[[0]\n",
            "  [1]]\n",
            "\n",
            " [[2]\n",
            "  [3]]\n",
            "\n",
            " [[4]\n",
            "  [5]]]\n",
            "\n"
          ]
        },
        {
          "output_type": "execute_result",
          "data": {
            "text/plain": [
              "array([[[ 0,  1],\n",
              "        [ 1,  2]],\n",
              "\n",
              "       [[ 4,  5],\n",
              "        [ 5,  6]],\n",
              "\n",
              "       [[ 8,  9],\n",
              "        [ 9, 10]]])"
            ]
          },
          "metadata": {},
          "execution_count": 19
        }
      ]
    },
    {
      "cell_type": "code",
      "source": [
        "import numpy as np\n",
        "\n",
        "def create_array(m, n):\n",
        "    \"\"\"Create an m x n integer array.\"\"\"\n",
        "    return np.zeros((m, n), dtype=int)\n",
        "\n",
        "def fill_with_value(array, value):\n",
        "    \"\"\"Fill the array with a specific value.\"\"\"\n",
        "    array.fill(value)\n",
        "\n",
        "def randomly_generate_numbers(array, low, high):\n",
        "    \"\"\"Populate the array with random integers within the specified range [low, high).\"\"\"\n",
        "    array[:] = np.random.randint(low, high, size=array.shape)\n",
        "\n",
        "def main():\n",
        "    # Dimensions of the array\n",
        "    m, n = 4, 5  # Example dimensions (can be modified or taken as input)\n",
        "\n",
        "    # Create an m x n array\n",
        "    my_array = create_array(m, n)\n",
        "\n",
        "    # Print initial array shape and total elements\n",
        "    print(f\"Initial Shape of the array: {my_array.shape}\")\n",
        "    print(f\"Total number of elements: {my_array.size}\")\n",
        "\n",
        "    # Fill the array with a specific value\n",
        "    fill_with_value(my_array, 10)\n",
        "    print(\"\\nArray after filling with the value 10:\")\n",
        "    print(my_array)\n",
        "\n",
        "    # Populate the array with random integers in a range\n",
        "    randomly_generate_numbers(my_array, 1, 100)\n",
        "    print(\"\\nArray after populating with random numbers (range 1-100):\")\n",
        "    print(my_array)\n",
        "\n",
        "# Run the program\n",
        "if __name__ == \"__main__\":\n",
        "    main()\n"
      ],
      "metadata": {
        "colab": {
          "base_uri": "https://localhost:8080/"
        },
        "id": "wsGA-ZpNUF_4",
        "outputId": "c3818683-974e-4ae1-8c3d-5132c65b00a5"
      },
      "execution_count": null,
      "outputs": [
        {
          "output_type": "stream",
          "name": "stdout",
          "text": [
            "Initial Shape of the array: (4, 5)\n",
            "Total number of elements: 20\n",
            "\n",
            "Array after filling with the value 10:\n",
            "[[10 10 10 10 10]\n",
            " [10 10 10 10 10]\n",
            " [10 10 10 10 10]\n",
            " [10 10 10 10 10]]\n",
            "\n",
            "Array after populating with random numbers (range 1-100):\n",
            "[[96 14 86 57 22]\n",
            " [52 89 27 76 59]\n",
            " [15 76  9  4 59]\n",
            " [97 54  6 20 91]]\n"
          ]
        }
      ]
    }
  ]
}