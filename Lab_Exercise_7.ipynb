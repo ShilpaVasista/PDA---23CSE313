{
  "nbformat": 4,
  "nbformat_minor": 0,
  "metadata": {
    "colab": {
      "provenance": [],
      "authorship_tag": "ABX9TyN23SZ9Tj+gyOckRXg9SWQQ",
      "include_colab_link": true
    },
    "kernelspec": {
      "name": "python3",
      "display_name": "Python 3"
    },
    "language_info": {
      "name": "python"
    }
  },
  "cells": [
    {
      "cell_type": "markdown",
      "metadata": {
        "id": "view-in-github",
        "colab_type": "text"
      },
      "source": [
        "<a href=\"https://colab.research.google.com/github/ShilpaVasista/PDA---23CSE313/blob/main/Lab_Exercise_7.ipynb\" target=\"_parent\"><img src=\"https://colab.research.google.com/assets/colab-badge.svg\" alt=\"Open In Colab\"/></a>"
      ]
    },
    {
      "cell_type": "markdown",
      "source": [
        "## Lab Exercise 7\n",
        "**Write a Python program to demonstrate how to draw a bar plot using Matplotlib**"
      ],
      "metadata": {
        "id": "h6GXYjbU5eI9"
      }
    },
    {
      "cell_type": "code",
      "execution_count": 2,
      "metadata": {
        "colab": {
          "base_uri": "https://localhost:8080/",
          "height": 472
        },
        "id": "rbnZt2f-5bkd",
        "outputId": "36d0483f-f7dc-44d2-d1f4-ddd8464ab7a5"
      },
      "outputs": [
        {
          "output_type": "display_data",
          "data": {
            "text/plain": [
              "<Figure size 640x480 with 1 Axes>"
            ],
            "image/png": "[encoded data removed]"
          },
          "metadata": {}
        }
      ],
      "source": [
        "import matplotlib.pyplot as plt\n",
        "\n",
        "# Data for the bar plot\n",
        "categories = ['A', 'B', 'C', 'D', 'E']\n",
        "values = [5, 7, 8, 6, 9]\n",
        "\n",
        "# Create the bar plot\n",
        "plt.bar(categories, values)\n",
        "\n",
        "# Add labels and title\n",
        "plt.xlabel('Categories')  # Label for the x-axis\n",
        "plt.ylabel('Values')      # Label for the y-axis\n",
        "plt.title('Bar Plot Example')  # Title of the plot\n",
        "\n",
        "# Show the plot\n",
        "plt.show()\n"
      ]
    },
    {
      "cell_type": "markdown",
      "source": [
        "Syntax:\n",
        "```\n",
        "plt.bar(x, height, width=0.8, bottom=None, align='center', color='blue', label=None)\n",
        "```"
      ],
      "metadata": {
        "id": "EOFMpfw350z5"
      }
    },
    {
      "cell_type": "markdown",
      "source": [
        "### **Question 1: Adding Legends**\n",
        "Modify the program to include a legend that describes what the bar plot represents (e.g., \"Sample Data\").\n",
        "\n",
        "Hint: Use plt.legend() to add a legend.\n",
        "\n"
      ],
      "metadata": {
        "id": "UXi1DTdk54te"
      }
    },
    {
      "cell_type": "code",
      "source": [],
      "metadata": {
        "id": "2WXavA1S6EXD"
      },
      "execution_count": null,
      "outputs": []
    },
    {
      "cell_type": "markdown",
      "source": [
        "### **Question 2: Adding Labels to Bars**\n",
        "Update the given bar plot code to add labels to each bar displaying their values on top.\n",
        "\n",
        "Hint: Use plt.bar_label() to label the bars. You can pass the bars object to this function and specify the labels as needed."
      ],
      "metadata": {
        "id": "wc-WnJDw6E82"
      }
    },
    {
      "cell_type": "code",
      "source": [],
      "metadata": {
        "id": "wLWMRbze6LRn"
      },
      "execution_count": null,
      "outputs": []
    },
    {
      "cell_type": "markdown",
      "source": [
        "### **Question 3: Adding Color to the Bars**\n",
        "Modify the program to set different colors for each bar (e.g., use 'red', 'blue', 'green', 'yellow', 'purple').\n",
        "\n",
        "Hint: Pass a list of color strings to the color parameter in plt.bar()."
      ],
      "metadata": {
        "id": "TTbUiIlh6L3r"
      }
    },
    {
      "cell_type": "code",
      "source": [],
      "metadata": {
        "id": "dIjtYujG6SGk"
      },
      "execution_count": null,
      "outputs": []
    },
    {
      "cell_type": "markdown",
      "source": [
        "### **Question 4: Changing the Width of the Bars**\n",
        "Update the program to change the width of the bars to 0.5 (default is 0.8).\n",
        "\n",
        "Hint: Use the width parameter in plt.bar() to set the bar width."
      ],
      "metadata": {
        "id": "wjaEyYEY6TG4"
      }
    },
    {
      "cell_type": "code",
      "source": [],
      "metadata": {
        "id": "puqXZLKn6Yd-"
      },
      "execution_count": null,
      "outputs": []
    },
    {
      "cell_type": "markdown",
      "source": [
        "### **Question 5: Horizontal bar plot**\n",
        "Modify the given bar plot code to create a horizontal bar plot instead of a vertical one.\n",
        "\n",
        "Hint: Use plt.barh() instead of plt.bar(). Remember to adjust the data so that the categories are on the y-axis and the values are on the x-axis."
      ],
      "metadata": {
        "id": "3xxmRA2O6Y80"
      }
    },
    {
      "cell_type": "code",
      "source": [],
      "metadata": {
        "id": "1PuPnIg36fh8"
      },
      "execution_count": null,
      "outputs": []
    },
    {
      "cell_type": "markdown",
      "source": [
        "# **Exercises**"
      ],
      "metadata": {
        "id": "Qbm9wD1ABkNR"
      }
    },
    {
      "cell_type": "markdown",
      "source": [
        "### Program 1:\n",
        "**Website Traffic by Day**\n",
        "\n",
        "**Scenario:**\n",
        "A website owner analyzes daily traffic to understand trends.\n",
        "\n",
        "Data:\n",
        "\n",
        "- Days: ['Monday', 'Tuesday', 'Wednesday', 'Thursday', 'Friday']\n",
        "- Visitors: [1200, 1500, 1300, 1600, 1700]"
      ],
      "metadata": {
        "id": "-EqRQ9i6BjDC"
      }
    },
    {
      "cell_type": "code",
      "source": [],
      "metadata": {
        "id": "OidDXHYeBrsf"
      },
      "execution_count": null,
      "outputs": []
    },
    {
      "cell_type": "markdown",
      "source": [
        "### Program 2:\n",
        "**Employee Performance Ratings**\n",
        "\n",
        "**Scenario:**\n",
        "A manager evaluates performance ratings for employees.\n",
        "\n",
        "Data:\n",
        "\n",
        "- Employees: ['John', 'Mary', 'Alex', 'Sophia', 'Tom']\n",
        "- Ratings: [85, 90, 78, 92, 88]"
      ],
      "metadata": {
        "id": "7sSw33gLDWNw"
      }
    },
    {
      "cell_type": "code",
      "source": [],
      "metadata": {
        "id": "-icGMn-IDNcd"
      },
      "execution_count": null,
      "outputs": []
    },
    {
      "cell_type": "markdown",
      "source": [
        "### Program 3:\n",
        "**Monthly Rainfall in a Region**\n",
        "\n",
        "**Scenario: A meteorologist studies monthly rainfall in mm.**\n",
        "\n",
        "Data:\n",
        "\n",
        "- Months: ['Jan', 'Feb', 'Mar', 'Apr', 'May']\n",
        "- Rainfall: [78, 56, 120, 95, 60]"
      ],
      "metadata": {
        "id": "f7xZ40uZDn5o"
      }
    },
    {
      "cell_type": "code",
      "source": [],
      "metadata": {
        "id": "EcM5wRLpD_NB"
      },
      "execution_count": null,
      "outputs": []
    },
    {
      "cell_type": "markdown",
      "source": [
        "### Program 4\n",
        "**Market Share of Smartphone Brands**\n",
        "\n",
        "**Scenario:**\n",
        " A tech analyst compares market shares of different smartphone brands.\n",
        "\n",
        "Data:\n",
        "\n",
        "- Brands: ['Brand A', 'Brand B', 'Brand C', 'Brand D', 'Brand E']\n",
        "- Market Share (%): [25, 20, 30, 15, 10]"
      ],
      "metadata": {
        "id": "Jnz729FBD_p5"
      }
    },
    {
      "cell_type": "code",
      "source": [],
      "metadata": {
        "id": "7EIp_odGEN5F"
      },
      "execution_count": null,
      "outputs": []
    },
    {
      "cell_type": "markdown",
      "source": [
        "### Program 5\n",
        "\n",
        "\n",
        "**Energy Consumption by Appliance**\n",
        "**Scenario:**\n",
        "\n",
        " A household analyzes energy consumption by appliances in kWh.\n",
        "\n",
        "Data:\n",
        "\n",
        "- Appliances: ['AC', 'Fridge', 'Washing Machine', 'TV', 'Microwave']\n",
        "- Energy Consumption: [500, 300, 200, 150, 100]"
      ],
      "metadata": {
        "id": "JanQI8HxEObv"
      }
    },
    {
      "cell_type": "code",
      "source": [],
      "metadata": {
        "id": "I5EJRR8MEafg"
      },
      "execution_count": null,
      "outputs": []
    }
  ]
}