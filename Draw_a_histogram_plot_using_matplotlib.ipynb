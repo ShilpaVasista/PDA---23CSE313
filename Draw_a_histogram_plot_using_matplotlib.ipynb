{
  "cells": [
    {
      "cell_type": "markdown",
      "metadata": {
        "id": "view-in-github",
        "colab_type": "text"
      },
      "source": [
        "<a href=\"https://colab.research.google.com/github/ShilpaVasista/PDA---23CSE313/blob/main/Draw_a_histogram_plot_using_matplotlib.ipynb\" target=\"_parent\"><img src=\"https://colab.research.google.com/assets/colab-badge.svg\" alt=\"Open In Colab\"/></a>"
      ]
    },
    {
      "cell_type": "markdown",
      "id": "61221b3d",
      "metadata": {
        "id": "61221b3d"
      },
      "source": [
        "# Draw a Histogram Plot using Matplotlib"
      ]
    },
    {
      "cell_type": "markdown",
      "id": "45ddd05b",
      "metadata": {
        "id": "45ddd05b"
      },
      "source": [
        "Write a Python program to demonstrate how to draw a histogram plot using Matplotlib."
      ]
    },
    {
      "cell_type": "markdown",
      "id": "26115e6e",
      "metadata": {
        "id": "26115e6e"
      },
      "source": [
        "## Problem Statement and Introduction\n",
        "Scenario:\n",
        "You are a teacher in a classroom, and you want to understand the distribution of exam scores for your students. Analyzing the exam scores can help you identify the overall performance of your students, pinpoint areas where students may need additional support, and evaluate the effectiveness of your teaching methods.\n",
        "Create a histogram to visualize the distribution of exam scores and gain insights into your students' performance.\n",
        "\n",
        "Task:\n",
        "\n",
        "Use the provided exam score data (in the form of a list).\n",
        "Create a histogram to display the distribution of exam scores.\n",
        "Customize the histogram with appropriate labels for the x-axis and y-axis and give it a title.\n",
        "Generate the histogram plot as the output of your program.\n"
      ]
    },
    {
      "cell_type": "code",
      "execution_count": null,
      "id": "06fec048",
      "metadata": {
        "id": "06fec048"
      },
      "outputs": [],
      "source": [
        "%matplotlib inline"
      ]
    },
    {
      "cell_type": "markdown",
      "id": "bfc2e0b8",
      "metadata": {
        "id": "bfc2e0b8"
      },
      "source": [
        "## Step 1: Import Matplotlib"
      ]
    },
    {
      "cell_type": "code",
      "execution_count": null,
      "id": "3a54655d",
      "metadata": {
        "id": "3a54655d"
      },
      "outputs": [],
      "source": [
        "# Step 1: Import Matplotlib\n",
        "import matplotlib.pyplot as plt"
      ]
    },
    {
      "cell_type": "markdown",
      "id": "b36e6d46",
      "metadata": {
        "id": "b36e6d46"
      },
      "source": [
        "## Step 2: Prepare Data"
      ]
    },
    {
      "cell_type": "code",
      "execution_count": null,
      "id": "86ec420d",
      "metadata": {
        "id": "86ec420d"
      },
      "outputs": [],
      "source": [
        "# Step 2: Prepare Data\n",
        "# Exam score data (out of 100)\n",
        "exam_scores = [65, 78, 92, 85, 76, 88, 75, 68, 94, 72, 81, 90, 84, 79, 93, 87, 70, 62, 98, 83, 73, 89, 77, 91, 74, 67, 96, 80, 71, 86]"
      ]
    },
    {
      "cell_type": "markdown",
      "id": "59063158",
      "metadata": {
        "id": "59063158"
      },
      "source": [
        "## Step 3: Create a Histogram Plot"
      ]
    },
    {
      "cell_type": "code",
      "execution_count": null,
      "id": "91d8040b",
      "metadata": {
        "id": "91d8040b",
        "colab": {
          "base_uri": "https://localhost:8080/",
          "height": 482
        },
        "outputId": "e083d5ae-073f-4a72-a66d-64e62798b73f"
      },
      "outputs": [
        {
          "output_type": "execute_result",
          "data": {
            "text/plain": [
              "(array([1., 3., 5., 5., 4., 5., 5., 2.]),\n",
              " array([ 60.,  65.,  70.,  75.,  80.,  85.,  90.,  95., 100.]),\n",
              " <BarContainer object of 8 artists>)"
            ]
          },
          "metadata": {},
          "execution_count": 5
        },
        {
          "output_type": "display_data",
          "data": {
            "text/plain": [
              "<Figure size 640x480 with 1 Axes>"
            ],
            "image/png": "[encoded data removed]"
          },
          "metadata": {}
        }
      ],
      "source": [
        "# Step 3: Create a Histogram Plot\n",
        "# Define the bins with integer values\n",
        "bins = [60, 65, 70, 75, 80, 85, 90, 95, 100]\n",
        "\n",
        "# Create a histogram with integer frequency intervals\n",
        "plt.hist(exam_scores, bins=bins, color='purple', edgecolor='black')"
      ]
    },
    {
      "cell_type": "markdown",
      "id": "e1185015",
      "metadata": {
        "id": "e1185015"
      },
      "source": [
        "## Step 4: Customize the Plot"
      ]
    },
    {
      "cell_type": "code",
      "execution_count": null,
      "id": "ed2b6561",
      "metadata": {
        "id": "ed2b6561"
      },
      "outputs": [],
      "source": [
        "# Step 4: Customize the Plot\n",
        "# Adding labels and a title\n",
        "plt.xlabel('Exam Score (out of 100)')\n",
        "plt.ylabel('Frequency')\n",
        "plt.title('Distribution of Exam Scores')"
      ]
    },
    {
      "cell_type": "markdown",
      "source": [
        "## Step 5: Display the Plot"
      ],
      "metadata": {
        "id": "6ChujmDsXmP7"
      },
      "id": "6ChujmDsXmP7"
    },
    {
      "cell_type": "code",
      "source": [
        "# Step 5: Show the plot\n",
        "plt.grid(True)\n",
        "plt.show()"
      ],
      "metadata": {
        "id": "I_hjjbRRXlyD"
      },
      "id": "I_hjjbRRXlyD",
      "execution_count": null,
      "outputs": []
    },
    {
      "cell_type": "markdown",
      "source": [
        "2. Scenario: Age Groups of Restaurant Visitors\n",
        "\n",
        "Objective:\n",
        "You manage a restaurant and want to gain insights into the age groups of your customers. To do this, you have collected data on the ages of restaurant visitors.\n",
        "\n",
        "Data for the Program:\n",
        "Here is a sample of the ages of restaurant visitors:\n",
        "```\n",
        "visitor_ages = [25, 30, 35, 40, 45, 30, 28, 42, 38, 32, 29, 34, 27, 31, 39, 43, 41, 36, 33, 37, 26, 29, 44, 30, 35, 28, 30, 31, 38, 32]\n",
        "\n",
        "```\n",
        "Task:\n",
        "- Use the provided visitor age data (in the form of a list).\n",
        "- Create a histogram to display the distribution of visitor ages.\n",
        "- Customize the histogram with appropriate labels for the x-axis and y-axis and give it a title.\n",
        "- Generate the histogram plot as the output of your program.\n"
      ],
      "metadata": {
        "id": "6KexECMsXz35"
      },
      "id": "6KexECMsXz35"
    }
  ],
  "metadata": {
    "colab": {
      "provenance": [],
      "include_colab_link": true
    },
    "language_info": {
      "name": "python"
    },
    "kernelspec": {
      "name": "python3",
      "display_name": "Python 3"
    }
  },
  "nbformat": 4,
  "nbformat_minor": 5
}