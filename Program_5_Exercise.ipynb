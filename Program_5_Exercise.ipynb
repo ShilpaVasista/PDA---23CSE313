{
  "nbformat": 4,
  "nbformat_minor": 0,
  "metadata": {
    "colab": {
      "provenance": [],
      "authorship_tag": "ABX9TyNeHsPDSsWmQhvCcWfXyDVu",
      "include_colab_link": true
    },
    "kernelspec": {
      "name": "python3",
      "display_name": "Python 3"
    },
    "language_info": {
      "name": "python"
    }
  },
  "cells": [
    {
      "cell_type": "markdown",
      "metadata": {
        "id": "view-in-github",
        "colab_type": "text"
      },
      "source": [
        "<a href=\"https://colab.research.google.com/github/ShilpaVasista/PDA---23CSE313/blob/main/Program_5_Exercise.ipynb\" target=\"_parent\"><img src=\"https://colab.research.google.com/assets/colab-badge.svg\" alt=\"Open In Colab\"/></a>"
      ]
    },
    {
      "cell_type": "markdown",
      "source": [
        "Program 5: Write a Python program using Numpy that creates a random m x n integer array and print the shape of the array (number of rows and columns) and also total number of elements in the array.\n",
        "- Implement function fill_with_value(e.g.,zeros)\n",
        "- Implement a function randomly_generate_numbers(within a range) to populate the array."
      ],
      "metadata": {
        "id": "3Njv33O2bcI_"
      }
    },
    {
      "cell_type": "markdown",
      "source": [
        "Import Numpy Library"
      ],
      "metadata": {
        "id": "rdhaBrg8cTUf"
      }
    },
    {
      "cell_type": "code",
      "source": [],
      "metadata": {
        "id": "o1aIw-RAcRWN"
      },
      "execution_count": null,
      "outputs": []
    },
    {
      "cell_type": "markdown",
      "source": [
        "Define a function called as create_array(m,n) and return a default array (filled with 0s) and Datatype should be integer (use dtype option)"
      ],
      "metadata": {
        "id": "uaBsURHscWLM"
      }
    },
    {
      "cell_type": "code",
      "source": [],
      "metadata": {
        "id": "Ip24mE_oc1UQ"
      },
      "execution_count": null,
      "outputs": []
    },
    {
      "cell_type": "markdown",
      "source": [
        "Define a function \"fill_with_value(array,value). The array should be populated with specified value using fill function."
      ],
      "metadata": {
        "id": "j0ilEWAec1zE"
      }
    },
    {
      "cell_type": "code",
      "source": [],
      "metadata": {
        "id": "h4NCKg38dGc4"
      },
      "execution_count": null,
      "outputs": []
    },
    {
      "cell_type": "markdown",
      "source": [
        "Define a function \"randomly_generate_numbers(array, low, high). Populate the array with random integers within the specified range [low, high) using random.randint()."
      ],
      "metadata": {
        "id": "YnjMAgxRdHEH"
      }
    },
    {
      "cell_type": "code",
      "source": [],
      "metadata": {
        "id": "V5EBPS4sdXYL"
      },
      "execution_count": null,
      "outputs": []
    },
    {
      "cell_type": "markdown",
      "source": [
        "1. Accept the dimensions f he array from the user.\n",
        "2. create array by calling the create_array() and assign to my_array.\n",
        "3. Print shape and size of the array.\n",
        "4. Accept the value to be populated from the user and call the function fill_with_value() and print the array.\n",
        "5. Accept low and high value from the user and call the function randomly_generate_numbers by passing the arguments array, low, and high values. Print the resulting array."
      ],
      "metadata": {
        "id": "YT8hAMAldXxf"
      }
    },
    {
      "cell_type": "code",
      "source": [],
      "metadata": {
        "id": "ozMA3sgvgcny"
      },
      "execution_count": null,
      "outputs": []
    }
  ]
}