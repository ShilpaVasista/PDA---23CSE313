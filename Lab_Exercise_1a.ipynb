{
  "nbformat": 4,
  "nbformat_minor": 0,
  "metadata": {
    "colab": {
      "provenance": []
    },
    "kernelspec": {
      "name": "python3",
      "display_name": "Python 3"
    },
    "language_info": {
      "name": "python"
    }
  },
  "cells": [
    {
      "cell_type": "markdown",
      "source": [
        "# Question 1: Prime Number Checker and First N Prime Numbers Finder"
      ],
      "metadata": {
        "id": "a0fnCjxXPL99"
      }
    },
    {
      "cell_type": "markdown",
      "source": [
        "**1. Write a python program to determine whether a given number is a prime number or not.\n",
        "Also enhance the program to find the first N prime numbers, where N is user input.**\n"
      ],
      "metadata": {
        "id": "My6iOQ-ZN_Ie"
      }
    },
    {
      "cell_type": "markdown",
      "source": [
        "## Step-by-Step Instructions:\n",
        "\n",
        "### Task 1: Check if a Number is Prime\n"
      ],
      "metadata": {
        "id": "3PyU7zp_PX9B"
      }
    },
    {
      "cell_type": "markdown",
      "source": [
        "1. **Understand the Prime Concept**: A prime number is a number greater than 1 that is only divisible by 1 and itself.\n",
        "   - Example: 2, 3, 5, 7 are prime numbers."
      ],
      "metadata": {
        "id": "0ay0ZoTxPbhJ"
      }
    },
    {
      "cell_type": "markdown",
      "source": [
        "2. **Create a Function to Check if a Number is Prime**:\n",
        "   - Write a function `is_prime(num)` to take an integer as input and return `True` if it's prime and `False` otherwise."
      ],
      "metadata": {
        "id": "Rx0Xf3pgPexv"
      }
    },
    {
      "cell_type": "markdown",
      "source": [
        "3. **Steps to Write the `is_prime` Function**:\n",
        "   - **Step 1**: If the number is less than or equal to 1, return `False` because prime numbers are greater than 1.\n",
        "  - **Step 2**: Loop through numbers starting from 2 up to the square root of the given number (rounded up).\n",
        "  - **Step 3**: If the number is divisible by any number in this range, return `False` because it means it’s not prime.\n",
        "  - **Step 4**: If the loop completes without finding any divisors, return `True` because the number is prime."
      ],
      "metadata": {
        "id": "l7cA8LqqPii4"
      }
    },
    {
      "cell_type": "code",
      "source": [],
      "metadata": {
        "id": "m_o6VcyMOD4u"
      },
      "execution_count": null,
      "outputs": []
    },
    {
      "cell_type": "markdown",
      "source": [
        "4. **Test Your Function**:\n",
        "- In the main part of the program, ask the user to input a number and call `is_prime(number)`.\n",
        "   - Print whether the number is prime or not."
      ],
      "metadata": {
        "id": "Y-1_L6eYQEkF"
      }
    },
    {
      "cell_type": "code",
      "source": [],
      "metadata": {
        "id": "gisx6KNjGNFr"
      },
      "execution_count": null,
      "outputs": []
    },
    {
      "cell_type": "markdown",
      "source": [
        "### Task 2: Find the First N Prime Numbers"
      ],
      "metadata": {
        "id": "JMDCZXGmQM_O"
      }
    },
    {
      "cell_type": "markdown",
      "source": [
        "1. **Understand the Requirement**:\n",
        "   - You need to generate the first `N` prime numbers, where `N` is the number the user inputs.\n"
      ],
      "metadata": {
        "id": "7QRW_OcVQQAb"
      }
    },
    {
      "cell_type": "markdown",
      "source": [
        "2. **Create a Function to Find the First N Prime Numbers**:\n",
        "   - Write a function `find_first_n_primes(n)` to generate the first `N` prime numbers and return them in a list."
      ],
      "metadata": {
        "id": "hPjYOw_4QXVI"
      }
    },
    {
      "cell_type": "code",
      "source": [],
      "metadata": {
        "id": "TT4n1KduGJYY"
      },
      "execution_count": null,
      "outputs": []
    },
    {
      "cell_type": "markdown",
      "source": [
        "3. **Steps to Write the `find_first_n_primes` Function**:\n",
        "   - **Step 1**: Create an empty list `primes` to store prime numbers.\n",
        "   - **Step 2**: Start with the number 2 (the smallest prime number) and check if it's prime using the `is_prime` function.\n",
        "   - **Step 3**: If a number is prime, add it to the `primes` list.\n",
        "   - **Step 4**: Repeat the process until the list contains `N` prime numbers.\n",
        "   - **Step 5**: Return the list of prime numbers."
      ],
      "metadata": {
        "id": "2B7Ip7q_11fK"
      }
    },
    {
      "cell_type": "code",
      "source": [],
      "metadata": {
        "id": "cMzbg2RtGHC9"
      },
      "execution_count": null,
      "outputs": []
    },
    {
      "cell_type": "markdown",
      "source": [
        "4. **Test Your Function**:\n",
        "   - In the main part of the program, ask the user for the number `N` (how many prime numbers they want to find).\n",
        "   - Call `find_first_n_primes(n)` and print the list of prime numbers."
      ],
      "metadata": {
        "id": "IrRsoSOr2RTb"
      }
    },
    {
      "cell_type": "code",
      "source": [],
      "metadata": {
        "id": "vwnZgVDJPpaD"
      },
      "execution_count": null,
      "outputs": []
    }
  ]
}