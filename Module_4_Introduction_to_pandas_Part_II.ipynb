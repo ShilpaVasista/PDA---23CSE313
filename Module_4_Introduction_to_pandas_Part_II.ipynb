{
  "nbformat": 4,
  "nbformat_minor": 0,
  "metadata": {
    "colab": {
      "provenance": [],
      "include_colab_link": true
    },
    "kernelspec": {
      "name": "python3",
      "display_name": "Python 3"
    },
    "language_info": {
      "name": "python"
    }
  },
  "cells": [
    {
      "cell_type": "markdown",
      "metadata": {
        "id": "view-in-github",
        "colab_type": "text"
      },
      "source": [
        "<a href=\"https://colab.research.google.com/github/ShilpaVasista/PDA---23CSE313/blob/main/Module_4_Introduction_to_pandas_Part_II.ipynb\" target=\"_parent\"><img src=\"https://colab.research.google.com/assets/colab-badge.svg\" alt=\"Open In Colab\"/></a>"
      ]
    },
    {
      "cell_type": "markdown",
      "source": [
        "- Pandas integrates indexes into its data structures, leveraging the performance of NumPy arrays.\n",
        "- This integration enhances flexibility and simplifies operations through internal references like labels.\n",
        "\n",
        "- Key Functionalities:\n",
        "\n",
        "    - Reindexing: Adjust or reorder the index of a Series or DataFrame.\n",
        "    - Dropping: Remove specific indexes or labels from a structure.\n",
        "    - Alignment: Automatically align data during operations based on indexes."
      ],
      "metadata": {
        "id": "AQ7TexFwqqTf"
      }
    },
    {
      "cell_type": "markdown",
      "source": [
        "#Reindexing\n",
        "\n",
        "What is Reindexing?\n",
        "\n",
        "- Reindexing allows you to create a new Series or DataFrame with a modified order of labels or index.\n",
        "- It provides flexibility to restructure data while maintaining consistency with new indexing rules"
      ],
      "metadata": {
        "id": "nzxHuJl_tHLC"
      }
    },
    {
      "cell_type": "code",
      "execution_count": null,
      "metadata": {
        "colab": {
          "base_uri": "https://localhost:8080/"
        },
        "id": "ULimf8loqfpV",
        "outputId": "bc2a7ffb-7f4f-433a-ed6c-4b228bce7ed3"
      },
      "outputs": [
        {
          "output_type": "stream",
          "name": "stdout",
          "text": [
            "one      2\n",
            "two      5\n",
            "three    7\n",
            "four     4\n",
            "dtype: int64\n",
            "four     4\n",
            "one      2\n",
            "three    7\n",
            "two      5\n",
            "dtype: int64\n"
          ]
        }
      ],
      "source": [
        "import pandas as pd\n",
        "ser = pd.Series([2, 5, 7, 4], index=['one', 'two', 'three', 'four'])\n",
        "print(ser)\n",
        "# one      2\n",
        "# two      5\n",
        "# three    7\n",
        "# four     4\n",
        "# dtype: int64\n",
        "new_ser = ser.reindex(['four', 'one', 'three', 'two'])\n",
        "print(new_ser)\n",
        "# four     4\n",
        "# one      2\n",
        "# three    7\n",
        "# two      5\n",
        "# dtype: int64"
      ]
    },
    {
      "cell_type": "markdown",
      "source": [
        "**Summary**\n",
        "\n",
        "Reindexing with reindex()\n",
        "\n",
        "**Purpose**:\n",
        "- Rearranges the order of indexes in a Series or DataFrame.\n",
        "- Allows adding or removing labels.\n",
        "\n",
        "**How It Works:**\n",
        "- Creates a new object based on a new sequence of labels.\n",
        "- For missing labels, pandas assigns NaN as their value.\n",
        "\n",
        "**Capabilities**:\n",
        "- Change the order of existing indexes.\n",
        "- Remove specific indexes.\n",
        "- Add new indexes with NaN as the default value."
      ],
      "metadata": {
        "id": "CIrsb1iPt1Iv"
      }
    },
    {
      "cell_type": "markdown",
      "source": [
        "- Reindexing can help handle cases where your Series or DataFrame has missing index values. Let’s explore how this works with an example.\n",
        "- Manually defining a complete list of labels for reindexing can be challenging, especially for large datasets.\n",
        "- Instead, we can use the method option in the reindex() function to fill missing values automatically.\n"
      ],
      "metadata": {
        "id": "ytm6Cixi3h0H"
      }
    },
    {
      "cell_type": "code",
      "source": [
        "import pandas as pd\n",
        "\n",
        "# Defining the Series\n",
        "ser3 = pd.Series([1, 5, 6, 3], index=[0, 3, 5, 6])\n",
        "\n",
        "print(ser3)"
      ],
      "metadata": {
        "colab": {
          "base_uri": "https://localhost:8080/"
        },
        "id": "DZqyNa263fsr",
        "outputId": "992581b5-0124-4de8-9e27-d0e2bee2790d"
      },
      "execution_count": null,
      "outputs": [
        {
          "output_type": "stream",
          "name": "stdout",
          "text": [
            "0    1\n",
            "3    5\n",
            "5    6\n",
            "6    3\n",
            "dtype: int64\n"
          ]
        }
      ]
    },
    {
      "cell_type": "markdown",
      "source": [
        "**Filling Missing Indexes:**\n",
        "\n",
        "To fill these missing indexes:\n",
        "1. Use the reindex() function with a complete sequence of labels, such as range(6).\n",
        "2. Set the method parameter to 'ffill' (forward fill), which assigns the value of the previous valid index to the missing ones."
      ],
      "metadata": {
        "id": "DyLAWgfN4OCT"
      }
    },
    {
      "cell_type": "code",
      "source": [
        "# Reindexing with interpolation\n",
        "new_ser3 = ser3.reindex(range(6), method='ffill')\n",
        "\n",
        "print(new_ser3)"
      ],
      "metadata": {
        "colab": {
          "base_uri": "https://localhost:8080/"
        },
        "id": "PHBXXYTG4cg2",
        "outputId": "4665e307-1c64-429f-8f17-7dbf015d1f67"
      },
      "execution_count": null,
      "outputs": [
        {
          "output_type": "stream",
          "name": "stdout",
          "text": [
            "0    1\n",
            "1    1\n",
            "2    1\n",
            "3    5\n",
            "4    5\n",
            "5    6\n",
            "dtype: int64\n"
          ]
        }
      ]
    },
    {
      "cell_type": "markdown",
      "source": [
        "**New Indexes Added:**\n",
        "\n",
        "The missing indexes [1, 2, 4] were introduced.\n",
        "**Forward Fill Applied:**\n",
        "\n",
        "Missing values were filled with the nearest valid value from the preceding index:\n",
        "- Index 1 and 2 get the value 1 (from index 0).\n",
        "- Index 4 gets the value 5 (from index 3)."
      ],
      "metadata": {
        "id": "vfF2NAiU5HPY"
      }
    },
    {
      "cell_type": "markdown",
      "source": [
        "- Reindexing can use different methods to handle missing index values. After exploring forward fill (ffill), let’s understand backward fill (bfill) and how these concepts extend to DataFrames.\n",
        "\n",
        "- In backward fill: Missing index values are filled with the nearest valid value from the following index.\n"
      ],
      "metadata": {
        "id": "FaGjeU3s52r9"
      }
    },
    {
      "cell_type": "code",
      "source": [
        "# Backward fill example\n",
        "new_ser3_bfill = ser3.reindex(range(6), method='bfill')\n",
        "\n",
        "print(new_ser3_bfill)"
      ],
      "metadata": {
        "colab": {
          "base_uri": "https://localhost:8080/"
        },
        "id": "-BEXEzCA6gjH",
        "outputId": "427a806d-d3f2-4c61-9ede-cde651ec849a"
      },
      "execution_count": null,
      "outputs": [
        {
          "output_type": "stream",
          "name": "stdout",
          "text": [
            "0    1\n",
            "1    5\n",
            "2    5\n",
            "3    5\n",
            "4    6\n",
            "5    6\n",
            "dtype: int64\n"
          ]
        }
      ]
    },
    {
      "cell_type": "markdown",
      "source": [
        "**Reindexing concepts for Series can be extended to DataFrames, allowing:**\n",
        "- Rearranging rows (indexes).\n",
        "- Rearranging columns.\n",
        "- Adding new rows or columns, with NaN as placeholders for missing data.\n"
      ],
      "metadata": {
        "id": "9fQA85N57VQb"
      }
    },
    {
      "cell_type": "code",
      "source": [
        "import pandas as pd\n",
        "\n",
        "# Create the original DataFrame\n",
        "data = {'colors': ['blue', 'green', 'yellow', 'red', 'white'],\n",
        "        'price': [1.2, 1.0, 0.6, 0.9, 1.7],\n",
        "        'object': ['ballpand', 'pen', 'pencil', 'paper', 'mug']}\n",
        "\n",
        "frame = pd.DataFrame(data)\n",
        "\n",
        "# Reindex with forward fill for rows and adding new columns\n",
        "new_frame = frame.reindex(\n",
        "    range(5), method='ffill'\n",
        ").reindex(columns=['colors', 'price', 'new', 'object'])\n",
        "\n",
        "print(new_frame)\n"
      ],
      "metadata": {
        "colab": {
          "base_uri": "https://localhost:8080/"
        },
        "id": "-_mhGGXw7bQf",
        "outputId": "d18eeb94-45f6-4411-8098-26f0736d0d0e"
      },
      "execution_count": null,
      "outputs": [
        {
          "output_type": "stream",
          "name": "stdout",
          "text": [
            "   colors  price  new    object\n",
            "0    blue    1.2  NaN  ballpand\n",
            "1   green    1.0  NaN       pen\n",
            "2  yellow    0.6  NaN    pencil\n",
            "3     red    0.9  NaN     paper\n",
            "4   white    1.7  NaN       mug\n"
          ]
        }
      ]
    },
    {
      "cell_type": "markdown",
      "source": [
        "**Dropping**\n",
        "\n",
        "- The drop() method is used to remove specific rows or columns from a Series or DataFrame. The ability to drop elements by their labels (index or column names) makes this operation simple and intuitive."
      ],
      "metadata": {
        "id": "w5BKl7GhBDn0"
      }
    },
    {
      "cell_type": "markdown",
      "source": [
        "Example: Dropping an Item from a Series"
      ],
      "metadata": {
        "id": "73S_dXJmBRFt"
      }
    },
    {
      "cell_type": "code",
      "source": [
        "import pandas as pd\n",
        "import numpy as np\n",
        "\n",
        "# Define a Series with four elements and distinct labels\n",
        "ser = pd.Series(np.arange(4.0), index=['red', 'blue', 'yellow', 'white'])\n",
        "print(\"Original Series:\")\n",
        "print(ser)\n",
        "\n",
        "# Drop the item with the label 'yellow'\n",
        "ser_dropped = ser.drop('yellow')\n",
        "print(\"\\nSeries after dropping 'yellow':\")\n",
        "print(ser_dropped)"
      ],
      "metadata": {
        "colab": {
          "base_uri": "https://localhost:8080/"
        },
        "id": "sVbnsJ8wBSEv",
        "outputId": "5ffa5d22-4309-4504-9430-159d8e82f587"
      },
      "execution_count": null,
      "outputs": [
        {
          "output_type": "stream",
          "name": "stdout",
          "text": [
            "Original Series:\n",
            "red       0.0\n",
            "blue      1.0\n",
            "yellow    2.0\n",
            "white     3.0\n",
            "dtype: float64\n",
            "\n",
            "Series after dropping 'yellow':\n",
            "red      0.0\n",
            "blue     1.0\n",
            "white    3.0\n",
            "dtype: float64\n"
          ]
        }
      ]
    },
    {
      "cell_type": "markdown",
      "source": [
        "Note: Original Series Remains Unchanged: By default, drop() does not modify the original object but returns a new one."
      ],
      "metadata": {
        "id": "1fbxlnsHCBz4"
      }
    },
    {
      "cell_type": "code",
      "source": [
        "import pandas as pd\n",
        "import numpy as np\n",
        "\n",
        "# Create a DataFrame with 4x4 structure\n",
        "frame = pd.DataFrame(np.arange(16).reshape((4, 4)),\n",
        "                     index=['red', 'blue', 'yellow', 'white'],\n",
        "                     columns=['ball', 'pen', 'pencil', 'paper'])\n",
        "print(\"Original DataFrame:\")\n",
        "print(frame)\n",
        "\n",
        "# Drop rows with labels 'blue' and 'white'\n",
        "frame_dropped_rows = frame.drop(['blue', 'white'])\n",
        "print(\"\\nDataFrame after dropping rows 'blue' and 'white':\")\n",
        "print(frame_dropped_rows)\n",
        "\n",
        "# Drop columns with labels 'pen' and 'pencil'\n",
        "frame_dropped_columns = frame.drop(['pen', 'pencil'], axis=1)\n",
        "print(\"\\nDataFrame after dropping columns 'pen' and 'pencil':\")\n",
        "print(frame_dropped_columns)\n"
      ],
      "metadata": {
        "colab": {
          "base_uri": "https://localhost:8080/"
        },
        "id": "a8O9gj_DCTRC",
        "outputId": "fce9c199-0275-487c-cd2a-904003704dd4"
      },
      "execution_count": null,
      "outputs": [
        {
          "output_type": "stream",
          "name": "stdout",
          "text": [
            "Original DataFrame:\n",
            "        ball  pen  pencil  paper\n",
            "red        0    1       2      3\n",
            "blue       4    5       6      7\n",
            "yellow     8    9      10     11\n",
            "white     12   13      14     15\n",
            "\n",
            "DataFrame after dropping rows 'blue' and 'white':\n",
            "        ball  pen  pencil  paper\n",
            "red        0    1       2      3\n",
            "yellow     8    9      10     11\n",
            "\n",
            "DataFrame after dropping columns 'pen' and 'pencil':\n",
            "        ball  paper\n",
            "red        0      3\n",
            "blue       4      7\n",
            "yellow     8     11\n",
            "white     12     15\n"
          ]
        }
      ]
    },
    {
      "cell_type": "markdown",
      "source": [
        "**Explanation**:\n",
        "- Dropping Rows: To remove rows, pass the labels in a list to the drop() method. By default, drop() removes rows if axis=0 is not specified.\n",
        "- Dropping Columns: To remove columns, set axis=1 to indicate column-wise operation."
      ],
      "metadata": {
        "id": "cCxqiqgiCrEO"
      }
    },
    {
      "cell_type": "markdown",
      "source": [
        "**Notes**:\n",
        "\n",
        "- inplace=True can be used to modify the original DataFrame directly without creating a new one.\n",
        "- The axis parameter can be set to 0 or 1 to indicate whether rows or columns should be dropped (default is axis=0 for rows)."
      ],
      "metadata": {
        "id": "r3TQrqa7CxbE"
      }
    },
    {
      "cell_type": "markdown",
      "source": [
        "**Arithmetic and Data Alignment**\n"
      ],
      "metadata": {
        "id": "ymx0dDD0HaEV"
      }
    },
    {
      "cell_type": "markdown",
      "source": [
        "To demonstrate how pandas handles arithmetic operations with alignment, consider the following code examples:"
      ],
      "metadata": {
        "id": "OEt_EKqAIIfq"
      }
    },
    {
      "cell_type": "markdown",
      "source": [
        "Example of Series Alignment with Arithmetic Operations:"
      ],
      "metadata": {
        "id": "VoQpXCM0ILiA"
      }
    },
    {
      "cell_type": "code",
      "source": [
        "import pandas as pd\n",
        "\n",
        "# Define two Series with different indexes\n",
        "s1 = pd.Series([3, 2, 5, 1], index=['white', 'yellow', 'green', 'blue'])\n",
        "s2 = pd.Series([1, 4, 7, 2, 1], index=['white', 'yellow', 'black', 'blue', 'brown'])\n",
        "\n",
        "print(\"Series 1:\")\n",
        "print(s1)\n",
        "\n",
        "print(\"\\nSeries 2:\")\n",
        "print(s2)\n",
        "\n",
        "# Perform addition between the two Series\n",
        "result = s1 + s2\n",
        "print(\"\\nResult of adding Series 1 and Series 2:\")\n",
        "print(result)"
      ],
      "metadata": {
        "colab": {
          "base_uri": "https://localhost:8080/"
        },
        "id": "-fH8zcm7INPa",
        "outputId": "c5afc7d2-45fa-419c-9973-49dc79c5c5e1"
      },
      "execution_count": null,
      "outputs": [
        {
          "output_type": "stream",
          "name": "stdout",
          "text": [
            "Series 1:\n",
            "white     3\n",
            "yellow    2\n",
            "green     5\n",
            "blue      1\n",
            "dtype: int64\n",
            "\n",
            "Series 2:\n",
            "white     1\n",
            "yellow    4\n",
            "black     7\n",
            "blue      2\n",
            "brown     1\n",
            "dtype: int64\n",
            "\n",
            "Result of adding Series 1 and Series 2:\n",
            "black     NaN\n",
            "blue      3.0\n",
            "brown     NaN\n",
            "green     NaN\n",
            "white     4.0\n",
            "yellow    6.0\n",
            "dtype: float64\n"
          ]
        }
      ]
    },
    {
      "cell_type": "markdown",
      "source": [
        "- Alignment by Index: When performing an operation like addition between s1 and s2, pandas aligns the data based on the indexes. If an index is not present in both Series, the result will have NaN for that index.\n",
        "- Index Matching: Only common indexes are used for the operation, while any non-matching indexes are represented with NaN in the result.\n",
        "- NaN Values: The result contains NaN for indexes that are not present in both Series (e.g., green, black, and brown).\n",
        "- Arithmetic Operations: The same alignment behavior applies to other arithmetic operations (e.g., subtraction, multiplication, division), ensuring that pandas handles mismatched indexes gracefully by filling with NaN.\n",
        "- Handling NaN: You can use methods like .fillna() to replace NaN values with a specified value, if needed."
      ],
      "metadata": {
        "id": "stUTqWKgIRzS"
      }
    },
    {
      "cell_type": "markdown",
      "source": [
        "When working with DataFrames, pandas aligns data based on both the row and column indexes during arithmetic operations. This ensures that operations between DataFrames are performed in a way that matches up corresponding labels, even if they don't perfectly align."
      ],
      "metadata": {
        "id": "W3KKKYVlImYa"
      }
    },
    {
      "cell_type": "markdown",
      "source": [
        "**Example of DataFrame Alignment with Arithmetic Operations:**"
      ],
      "metadata": {
        "id": "tDWOhOEBIpfq"
      }
    },
    {
      "cell_type": "code",
      "source": [
        "import pandas as pd\n",
        "import numpy as np\n",
        "\n",
        "# Define two DataFrames with different indexes and columns\n",
        "frame1 = pd.DataFrame(np.arange(16).reshape((4, 4)),\n",
        "                      index=['red', 'blue', 'yellow', 'white'],\n",
        "                      columns=['ball', 'pen', 'pencil', 'paper'])\n",
        "\n",
        "frame2 = pd.DataFrame(np.arange(12).reshape((4, 3)),\n",
        "                      index=['blue', 'green', 'white', 'yellow'],\n",
        "                      columns=['mug', 'pen', 'ball'])\n",
        "\n",
        "print(\"DataFrame 1:\")\n",
        "print(frame1)\n",
        "\n",
        "print(\"\\nDataFrame 2:\")\n",
        "print(frame2)\n",
        "\n",
        "# Perform addition between the two DataFrames\n",
        "result = frame1 + frame2\n",
        "print(\"\\nResult of adding DataFrame 1 and DataFrame 2:\")\n",
        "print(result)"
      ],
      "metadata": {
        "colab": {
          "base_uri": "https://localhost:8080/"
        },
        "id": "xei9B9DVIt8V",
        "outputId": "52c5d25a-b83c-44f1-decb-c76669e7b2c1"
      },
      "execution_count": null,
      "outputs": [
        {
          "output_type": "stream",
          "name": "stdout",
          "text": [
            "DataFrame 1:\n",
            "        ball  pen  pencil  paper\n",
            "red        0    1       2      3\n",
            "blue       4    5       6      7\n",
            "yellow     8    9      10     11\n",
            "white     12   13      14     15\n",
            "\n",
            "DataFrame 2:\n",
            "        mug  pen  ball\n",
            "blue      0    1     2\n",
            "green     3    4     5\n",
            "white     6    7     8\n",
            "yellow    9   10    11\n",
            "\n",
            "Result of adding DataFrame 1 and DataFrame 2:\n",
            "        ball  mug  paper   pen  pencil\n",
            "blue     6.0  NaN    NaN   6.0     NaN\n",
            "green    NaN  NaN    NaN   NaN     NaN\n",
            "red      NaN  NaN    NaN   NaN     NaN\n",
            "white   20.0  NaN    NaN  20.0     NaN\n",
            "yellow  19.0  NaN    NaN  19.0     NaN\n"
          ]
        }
      ]
    },
    {
      "cell_type": "markdown",
      "source": [
        "**Explanation**:\n",
        "- Alignment Principle: When performing operations like addition (+), pandas aligns the data based on both the rows and columns. Only matching labels are used, and NaN is filled in where labels do not exist in both DataFrames.\n",
        "- Rows and Columns: In this example:\n",
        "    - Rows red and green are not present in both DataFrames, so the result for these rows contains NaN.\n",
        "    - Columns mug, paper, and pencil are not shared between the DataFrames, so the result for these columns also contains NaN.\n",
        "- Result Details:\n",
        "    - Rows and columns that exist in both DataFrames are summed.\n",
        "    - The result DataFrame only shows NaN for places where no corresponding index or column exists in both DataFrames."
      ],
      "metadata": {
        "id": "CZkRa9dqJNqZ"
      }
    },
    {
      "cell_type": "markdown",
      "source": [
        "## Operations between Data Structures"
      ],
      "metadata": {
        "id": "f4IcX6QcLMdK"
      }
    },
    {
      "cell_type": "markdown",
      "source": [
        "**Flexible Arithmetic Methods**\n",
        "\n",
        "You’ve just seen how to use mathematical operators directly on the pandas data structures. The same operations can also be performed using appropriate methods, called Flexible arithmetic methods.\n",
        "  - add()\n",
        "  - sub()\n",
        "  - div()\n",
        "  - mul()"
      ],
      "metadata": {
        "id": "rcmakYllLOtv"
      }
    },
    {
      "cell_type": "markdown",
      "source": [
        "These methods are called on a data structure and take another data structure as an argument. For example:"
      ],
      "metadata": {
        "id": "VJbX-ABXLpW4"
      }
    },
    {
      "cell_type": "code",
      "source": [
        "import pandas as pd\n",
        "import numpy as np\n",
        "\n",
        "# Define two DataFrames with different indexes and columns\n",
        "frame1 = pd.DataFrame(np.arange(16).reshape((4, 4)),\n",
        "                      index=['red', 'blue', 'yellow', 'white'],\n",
        "                      columns=['ball', 'pen', 'pencil', 'paper'])\n",
        "\n",
        "frame2 = pd.DataFrame(np.arange(12).reshape((4, 3)),\n",
        "                      index=['blue', 'green', 'white', 'yellow'],\n",
        "                      columns=['mug', 'pen', 'ball'])\n",
        "\n",
        "print(\"DataFrame 1:\")\n",
        "print(frame1)\n",
        "\n",
        "print(\"\\nDataFrame 2:\")\n",
        "print(frame2)\n",
        "\n",
        "result = frame1.add(frame2)\n",
        "print(result)"
      ],
      "metadata": {
        "colab": {
          "base_uri": "https://localhost:8080/"
        },
        "id": "66A-HkJzLvau",
        "outputId": "46f1386e-1c43-47cd-9d0a-b1134347161f"
      },
      "execution_count": null,
      "outputs": [
        {
          "output_type": "stream",
          "name": "stdout",
          "text": [
            "DataFrame 1:\n",
            "        ball  pen  pencil  paper\n",
            "red        0    1       2      3\n",
            "blue       4    5       6      7\n",
            "yellow     8    9      10     11\n",
            "white     12   13      14     15\n",
            "\n",
            "DataFrame 2:\n",
            "        mug  pen  ball\n",
            "blue      0    1     2\n",
            "green     3    4     5\n",
            "white     6    7     8\n",
            "yellow    9   10    11\n",
            "        ball  mug  paper   pen  pencil\n",
            "blue     6.0  NaN    NaN   6.0     NaN\n",
            "green    NaN  NaN    NaN   NaN     NaN\n",
            "red      NaN  NaN    NaN   NaN     NaN\n",
            "white   20.0  NaN    NaN  20.0     NaN\n",
            "yellow  19.0  NaN    NaN  19.0     NaN\n"
          ]
        }
      ]
    },
    {
      "cell_type": "markdown",
      "source": [
        "**Operations between DataFrame and Series**"
      ],
      "metadata": {
        "id": "ib3NivyHMGoH"
      }
    },
    {
      "cell_type": "markdown",
      "source": [
        "When performing operations between a DataFrame and a Series, pandas aligns the Series index with the DataFrame columns. This alignment enables you to carry out operations between these two structures directly, applying the Series' values to each column of the DataFrame that shares the same index."
      ],
      "metadata": {
        "id": "fxxR1_dfMMmi"
      }
    },
    {
      "cell_type": "markdown",
      "source": [
        "Example of Operations Between a DataFrame and a Series:"
      ],
      "metadata": {
        "id": "vOGBJXrxMQdk"
      }
    },
    {
      "cell_type": "code",
      "source": [
        "import pandas as pd\n",
        "import numpy as np\n",
        "\n",
        "frame = pd.DataFrame(np.arange(16).reshape((4, 4)),\n",
        "                     index=['red', 'blue', 'yellow', 'white'],\n",
        "                     columns=['ball', 'pen', 'pencil', 'paper'])\n",
        "print(\"DataFrame:\")\n",
        "print(frame)\n",
        "\n",
        "ser = pd.Series(np.arange(4), index=['ball', 'pen', 'pencil', 'paper'])\n",
        "print(\"\\nSeries:\")\n",
        "print(ser)\n",
        "\n",
        "result = frame - ser\n",
        "print(\"\\nResult of subtracting Series from DataFrame:\")\n",
        "print(result)\n"
      ],
      "metadata": {
        "colab": {
          "base_uri": "https://localhost:8080/"
        },
        "id": "6t_LZ-wkMS_6",
        "outputId": "42682137-9fcb-4cd0-c5cb-c94d1b3d3704"
      },
      "execution_count": null,
      "outputs": [
        {
          "output_type": "stream",
          "name": "stdout",
          "text": [
            "DataFrame:\n",
            "        ball  pen  pencil  paper\n",
            "red        0    1       2      3\n",
            "blue       4    5       6      7\n",
            "yellow     8    9      10     11\n",
            "white     12   13      14     15\n",
            "\n",
            "Series:\n",
            "ball      0\n",
            "pen       1\n",
            "pencil    2\n",
            "paper     3\n",
            "dtype: int64\n",
            "\n",
            "Result of subtracting Series from DataFrame:\n",
            "        ball  pen  pencil  paper\n",
            "red        0    0       0      0\n",
            "blue       4    4       4      4\n",
            "yellow     8    8       8      8\n",
            "white     12   12      12     12\n"
          ]
        }
      ]
    },
    {
      "cell_type": "markdown",
      "source": [
        "- Element-wise Operation: Each value in the Series is subtracted from the corresponding column in the DataFrame where the column name matches the Series index. For example, the value 0 in the Series is subtracted from all entries in the ball column, 1 from all entries in the pen column, and so on.\n",
        "- Broadcasting: If the Series index matches the DataFrame columns, pandas broadcasts the Series values to all rows of the corresponding column.\n",
        "- If the Series' index has labels that do not match any column in the DataFrame, the operation will result in NaN for those columns.\n",
        "- This type of operation is useful for applying a transformation across all rows for specific columns of a DataFrame without needing to loop over the DataFrame explicitly."
      ],
      "metadata": {
        "id": "APr-d0qEM7vI"
      }
    },
    {
      "cell_type": "markdown",
      "source": [
        "Example with Unmatched Index:"
      ],
      "metadata": {
        "id": "DdkDMwBDNTiG"
      }
    },
    {
      "cell_type": "code",
      "source": [
        "import pandas as pd\n",
        "import numpy as np\n",
        "\n",
        "# Define the DataFrame\n",
        "frame = pd.DataFrame(np.arange(16).reshape((4, 4)),\n",
        "                     index=['red', 'blue', 'yellow', 'white'],\n",
        "                     columns=['ball', 'pen', 'pencil', 'paper'])\n",
        "\n",
        "# Define the Series\n",
        "ser = pd.Series(np.arange(4), index=['ball', 'pen', 'pencil', 'paper'])\n",
        "\n",
        "# Add a new item to the Series\n",
        "ser['mug'] = 9\n",
        "\n",
        "# Display the Series with the new item\n",
        "print(\"Updated Series:\")\n",
        "print(ser)\n",
        "\n",
        "# Perform the subtraction operation between the DataFrame and the Series\n",
        "result = frame - ser\n",
        "\n",
        "# Display the result\n",
        "print(\"\\nResult of subtracting Series from DataFrame:\")\n",
        "print(result)\n"
      ],
      "metadata": {
        "colab": {
          "base_uri": "https://localhost:8080/"
        },
        "id": "EdfrGjlXOrhW",
        "outputId": "d96383ef-6d7e-44eb-b868-b133e21a6535"
      },
      "execution_count": null,
      "outputs": [
        {
          "output_type": "stream",
          "name": "stdout",
          "text": [
            "Updated Series:\n",
            "ball      0\n",
            "pen       1\n",
            "pencil    2\n",
            "paper     3\n",
            "mug       9\n",
            "dtype: int64\n",
            "\n",
            "Result of subtracting Series from DataFrame:\n",
            "        ball  mug  paper  pen  pencil\n",
            "red        0  NaN      0    0       0\n",
            "blue       4  NaN      4    4       4\n",
            "yellow     8  NaN      8    8       8\n",
            "white     12  NaN     12   12      12\n"
          ]
        }
      ]
    },
    {
      "cell_type": "code",
      "source": [
        "frame = pd.DataFrame(np.arange(16).reshape((4, 4)),\n",
        "                     index=['red', 'blue', 'yellow', 'white'],\n",
        "                     columns=['ball', 'pen', 'pencil', 'paper'])\n",
        "print(\"DataFrame:\")\n",
        "print(frame)\n",
        "ser = pd.Series(np.arange(4), index=['ball', 'pen', 'pencil', 'paper'])\n",
        "print(\"\\nSeries:\")\n",
        "print(\"ser\")\n",
        "print(ser)\n",
        "ser_unmatched = pd.Series([1, 2, 3, 4], index=['a', 'b', 'c', 'd'])\n",
        "result_unmatched = frame - ser_unmatched\n",
        "print(\"\\nResult with unmatched Series index:\")\n",
        "print(result_unmatched)\n"
      ],
      "metadata": {
        "colab": {
          "base_uri": "https://localhost:8080/"
        },
        "id": "bZfyQ_WKNWCY",
        "outputId": "c229f422-d6bd-46f5-da73-a094a69ad27e"
      },
      "execution_count": null,
      "outputs": [
        {
          "output_type": "stream",
          "name": "stdout",
          "text": [
            "DataFrame:\n",
            "        ball  pen  pencil  paper\n",
            "red        0    1       2      3\n",
            "blue       4    5       6      7\n",
            "yellow     8    9      10     11\n",
            "white     12   13      14     15\n",
            "\n",
            "Series:\n",
            "ser\n",
            "ball      0\n",
            "pen       1\n",
            "pencil    2\n",
            "paper     3\n",
            "dtype: int64\n",
            "\n",
            "Result with unmatched Series index:\n",
            "         a   b  ball   c   d  paper  pen  pencil\n",
            "red    NaN NaN   NaN NaN NaN    NaN  NaN     NaN\n",
            "blue   NaN NaN   NaN NaN NaN    NaN  NaN     NaN\n",
            "yellow NaN NaN   NaN NaN NaN    NaN  NaN     NaN\n",
            "white  NaN NaN   NaN NaN NaN    NaN  NaN     NaN\n"
          ]
        }
      ]
    },
    {
      "cell_type": "markdown",
      "source": [
        "## Function Application and Mapping"
      ],
      "metadata": {
        "id": "Ihjlx05sO1yJ"
      }
    },
    {
      "cell_type": "markdown",
      "source": [
        "In pandas, functions that operate element-wise across the data structure are referred to as universal functions (ufuncs), which are a core part of the NumPy library. These functions work by applying an operation to each element in a Series or DataFrame, allowing for efficient element-wise computation. This makes it easy to apply mathematical operations across entire datasets."
      ],
      "metadata": {
        "id": "CEi7nzfYPRyP"
      }
    },
    {
      "cell_type": "markdown",
      "source": [
        "Example: Applying NumPy Functions Element-Wise"
      ],
      "metadata": {
        "id": "s45YF3O8PVkB"
      }
    },
    {
      "cell_type": "code",
      "source": [
        "import pandas as pd\n",
        "import numpy as np\n",
        "\n",
        "# Create a DataFrame\n",
        "frame = pd.DataFrame(np.arange(16).reshape((4, 4)),\n",
        "                     index=['red', 'blue', 'yellow', 'white'],\n",
        "                     columns=['ball', 'pen', 'pencil', 'paper'])\n",
        "\n",
        "print(\"Original DataFrame:\")\n",
        "print(frame)"
      ],
      "metadata": {
        "colab": {
          "base_uri": "https://localhost:8080/"
        },
        "id": "q9zrUq1vPXtn",
        "outputId": "9be51108-31d7-4787-ed72-14ed2984d718"
      },
      "execution_count": null,
      "outputs": [
        {
          "output_type": "stream",
          "name": "stdout",
          "text": [
            "Original DataFrame:\n",
            "        ball  pen  pencil  paper\n",
            "red        0    1       2      3\n",
            "blue       4    5       6      7\n",
            "yellow     8    9      10     11\n",
            "white     12   13      14     15\n"
          ]
        }
      ]
    },
    {
      "cell_type": "markdown",
      "source": [
        "To apply an element-wise operation, such as taking the square root of each value in the DataFrame, you can use np.sqrt():"
      ],
      "metadata": {
        "id": "0uEQZaT_Pdn8"
      }
    },
    {
      "cell_type": "code",
      "source": [
        "# Apply the square root function\n",
        "result = np.sqrt(frame)\n",
        "\n",
        "print(\"\\nSquare root of each element:\")\n",
        "print(result)"
      ],
      "metadata": {
        "colab": {
          "base_uri": "https://localhost:8080/"
        },
        "id": "c52X-u10PfuP",
        "outputId": "fcd5b9de-1484-4c55-ee58-c43f2e0a96b7"
      },
      "execution_count": null,
      "outputs": [
        {
          "output_type": "stream",
          "name": "stdout",
          "text": [
            "\n",
            "Square root of each element:\n",
            "            ball       pen    pencil     paper\n",
            "red     0.000000  1.000000  1.414214  1.732051\n",
            "blue    2.000000  2.236068  2.449490  2.645751\n",
            "yellow  2.828427  3.000000  3.162278  3.316625\n",
            "white   3.464102  3.605551  3.741657  3.872983\n"
          ]
        }
      ]
    },
    {
      "cell_type": "markdown",
      "source": [
        "Other Ufuncs\n",
        "\n",
        "Many other NumPy functions can be used in a similar manner, such as:\n",
        "- np.exp() for the exponential of each element.\n",
        "- np.log() for the natural logarithm.\n",
        "- np.abs() for the absolute value.\n",
        "- np.sin(), np.cos(), np.tan(), etc., for trigonometric functions.\n",
        "\n",
        "These functions enable powerful data analysis operations that operate element-wise, making pandas a robust tool for data manipulation and analysis."
      ],
      "metadata": {
        "id": "U_F2z2Z1QGai"
      }
    },
    {
      "cell_type": "markdown",
      "source": [
        "## Functions by Row or Column"
      ],
      "metadata": {
        "id": "GY1ZxjcIYZ5v"
      }
    },
    {
      "cell_type": "markdown",
      "source": [
        "In pandas, functions can be applied not only through universal functions (ufuncs) but also by using custom user-defined functions. These functions must operate on a one-dimensional array and return a single value, which can then be applied across rows or columns in a DataFrame using the apply() method."
      ],
      "metadata": {
        "id": "ppwEKkIwYdm6"
      }
    },
    {
      "cell_type": "markdown",
      "source": [
        "Define the Custom Function"
      ],
      "metadata": {
        "id": "UeFEtOVuYtdI"
      }
    },
    {
      "cell_type": "code",
      "source": [
        "import pandas as pd\n",
        "import numpy as np\n",
        "\n",
        "# Create a DataFrame\n",
        "frame = pd.DataFrame(np.arange(16).reshape((4, 4)),\n",
        "                     index=['red', 'blue', 'yellow', 'white'],\n",
        "                     columns=['ball', 'pen', 'pencil', 'paper'])\n",
        "\n",
        "# Define the function to calculate the range\n",
        "f = lambda x: x.max() - x.min()\n",
        "\n",
        "# Or define the function using def\n",
        "def f(x):\n",
        "    return x.max() - x.min()"
      ],
      "metadata": {
        "id": "GTv9avGpYwT_"
      },
      "execution_count": null,
      "outputs": []
    },
    {
      "cell_type": "markdown",
      "source": [
        "Apply the Function to Columns"
      ],
      "metadata": {
        "id": "zAIp88yxYzW2"
      }
    },
    {
      "cell_type": "code",
      "source": [
        "# Apply the function column-wise\n",
        "result_col = frame.apply(f)\n",
        "\n",
        "print(\"\\nRange for each column:\")\n",
        "print(result_col)"
      ],
      "metadata": {
        "colab": {
          "base_uri": "https://localhost:8080/"
        },
        "id": "rii_1mFeY2W0",
        "outputId": "bd0ad962-a834-4c57-e3b0-9a4172c41a18"
      },
      "execution_count": null,
      "outputs": [
        {
          "output_type": "stream",
          "name": "stdout",
          "text": [
            "\n",
            "Range for each column:\n",
            "ball      12\n",
            "pen       12\n",
            "pencil    12\n",
            "paper     12\n",
            "dtype: int64\n"
          ]
        }
      ]
    },
    {
      "cell_type": "markdown",
      "source": [
        "Apply the Function to Rows"
      ],
      "metadata": {
        "id": "BkeXsrzoY5Yw"
      }
    },
    {
      "cell_type": "code",
      "source": [
        "# Apply the function row-wise\n",
        "result_row = frame.apply(f, axis=1)\n",
        "\n",
        "print(\"\\nRange for each row:\")\n",
        "print(result_row)"
      ],
      "metadata": {
        "colab": {
          "base_uri": "https://localhost:8080/"
        },
        "id": "wSU5yLZmY7JT",
        "outputId": "10dec4f6-e382-4177-d632-3cee02f3b642"
      },
      "execution_count": null,
      "outputs": [
        {
          "output_type": "stream",
          "name": "stdout",
          "text": [
            "\n",
            "Range for each row:\n",
            "red       3\n",
            "blue      3\n",
            "yellow    3\n",
            "white     3\n",
            "dtype: int64\n"
          ]
        }
      ]
    },
    {
      "cell_type": "markdown",
      "source": [
        "- apply() method: This method applies a function along an axis of the DataFrame (either rows or columns).\n",
        "- axis parameter: When axis=0, the function is applied column-wise. When axis=1, the function is applied row-wise.\n"
      ],
      "metadata": {
        "id": "6abajE_fZBuW"
      }
    },
    {
      "cell_type": "markdown",
      "source": [
        "You can apply functions to a pandas DataFrame using the apply() method, and these functions do not have to return a scalar value. They can also return a Series or a DataFrame, which is especially useful when you want to apply multiple functions at once or get multiple values for each feature."
      ],
      "metadata": {
        "id": "jLVKpAFFZTNB"
      }
    },
    {
      "cell_type": "markdown",
      "source": [
        "- The majority of the statistical functions for arrays are still valid for DataFrame, so the use of the apply() function is no longer necessary.\n",
        "- For example, functions such as sum() and mean() can calculate\n",
        "the sum and the average, respectively, of the elements contained within a DataFrame."
      ],
      "metadata": {
        "id": "S3uK8Dw2sIt5"
      }
    },
    {
      "cell_type": "code",
      "source": [
        "import pandas as pd\n",
        "import numpy as np\n",
        "\n",
        "# Create the DataFrame\n",
        "frame = pd.DataFrame(\n",
        "    np.arange(16).reshape((4, 4)),\n",
        "    index=['red', 'blue', 'yellow', 'white'],\n",
        "    columns=['ball', 'pen', 'pencil', 'paper']\n",
        ")\n",
        "\n",
        "# Compute the sum of each column\n",
        "column_sums = frame.sum()\n",
        "print(\"Column Sums:\")\n",
        "print(column_sums)\n",
        "\n",
        "# Compute the mean of each column\n",
        "column_means = frame.mean()\n",
        "print(\"\\nColumn Means:\")\n",
        "print(column_means)\n"
      ],
      "metadata": {
        "id": "jdkU1Wzpsv_k",
        "outputId": "a848b2cb-bdb5-4a28-e40b-04b50300ef3f",
        "colab": {
          "base_uri": "https://localhost:8080/"
        }
      },
      "execution_count": null,
      "outputs": [
        {
          "output_type": "stream",
          "name": "stdout",
          "text": [
            "Column Sums:\n",
            "ball      24\n",
            "pen       28\n",
            "pencil    32\n",
            "paper     36\n",
            "dtype: int64\n",
            "\n",
            "Column Means:\n",
            "ball      6.0\n",
            "pen       7.0\n",
            "pencil    8.0\n",
            "paper     9.0\n",
            "dtype: float64\n"
          ]
        }
      ]
    },
    {
      "cell_type": "markdown",
      "source": [
        "I/O API Tools"
      ],
      "metadata": {
        "id": "KLrBflGLuC1o"
      }
    },
    {
      "cell_type": "markdown",
      "source": [
        "Here’s the table showing the **Readers** and **Writers** for pandas data I/O operations:\n",
        "\n",
        "| **Readers**          | **Writers**         |  \n",
        "|-----------------------|---------------------|  \n",
        "| `read_csv`           | `to_csv`           |  \n",
        "| `read_excel`         | `to_excel`         |  \n",
        "| `read_hdf`           | `to_hdf`           |  \n",
        "| `read_sql`           | `to_sql`           |  \n",
        "| `read_json`          | `to_json`          |  \n",
        "| `read_html`          | `to_html`          |  \n",
        "| `read_stata`         | `to_stata`         |  \n",
        "| `read_clipboard`     | `to_clipboard`     |  \n",
        "| `read_pickle`        | `to_pickle`        |  \n",
        "| `read_msgpack`       | `to_msgpack` (experimental) |  \n",
        "| `read_gbq`           | `to_gbq` (experimental) |  "
      ],
      "metadata": {
        "id": "8nNEKXFXt7Zu"
      }
    },
    {
      "cell_type": "markdown",
      "source": [
        "- Everyone has become accustomed over the years to write and read files in text form. In particular, data are generally reported in tabular form.\n",
        "- If the values in a row are separated by a comma, you have the CSV\n",
        "(comma-separated values) format, which is perhaps the best-known and most popular format.\n",
        "- Other forms with tabular data separated by spaces or tabs are typically contained in text files of various types (generally with the extension .txt).\n",
        "- So this type of file is the most common source of data and actually even easier to transcribe and\n",
        "interpret.\n",
        "- In this regard pandas provides a set of functions specific for this type of file.\n",
        "    - read_csv\n",
        "    - read_table\n",
        "    - to_csv"
      ],
      "metadata": {
        "id": "SlPUbr7cuw4j"
      }
    },
    {
      "cell_type": "markdown",
      "source": [
        "## Reading Data in CSV or Text Files"
      ],
      "metadata": {
        "id": "pmnGvWl2vuD6"
      }
    },
    {
      "cell_type": "markdown",
      "source": [
        "- The first step in data analysis often involves reading data from a CSV or text file into a usable format like a pandas DataFrame.\n",
        "- Pandas provides powerful tools to read and manipulate CSV files efficiently."
      ],
      "metadata": {
        "id": "iNhtTUWWvuuv"
      }
    },
    {
      "cell_type": "markdown",
      "source": [
        "File Content (myCSV_01.csv):"
      ],
      "metadata": {
        "id": "Rw3x8BM5v8dy"
      }
    },
    {
      "cell_type": "code",
      "source": [
        "import pandas as pd\n",
        "\n",
        "# Create the data as a dictionary\n",
        "data = {\n",
        "    'white': [1, 2, 3, 2, 4],\n",
        "    'red': [5, 7, 3, 2, 4],\n",
        "    'blue': [2, 8, 6, 8, 2],\n",
        "    'green': [3, 5, 7, 3, 1],\n",
        "    'animal': ['cat', 'dog', 'horse', 'duck', 'mouse']\n",
        "}\n",
        "\n",
        "# Create a DataFrame\n",
        "df = pd.DataFrame(data)\n",
        "\n",
        "# Save the DataFrame to a CSV file\n",
        "df.to_csv('myCSV_01.csv', index=False)\n",
        "\n",
        "# Display the DataFrame\n",
        "print(df)\n"
      ],
      "metadata": {
        "id": "KDbC1cdXv35e",
        "outputId": "aeaf4e53-70f8-4bce-8c76-86a0bacfc60e",
        "colab": {
          "base_uri": "https://localhost:8080/"
        }
      },
      "execution_count": null,
      "outputs": [
        {
          "output_type": "stream",
          "name": "stdout",
          "text": [
            "   white  red  blue  green animal\n",
            "0      1    5     2      3    cat\n",
            "1      2    7     8      5    dog\n",
            "2      3    3     6      7  horse\n",
            "3      2    2     8      3   duck\n",
            "4      4    4     2      1  mouse\n"
          ]
        }
      ]
    },
    {
      "cell_type": "code",
      "source": [
        "import pandas as pd\n",
        "\n",
        "# Reading the CSV file\n",
        "csvframe = pd.read_csv('myCSV_01.csv')\n",
        "\n",
        "# Display the DataFrame\n",
        "print(csvframe)"
      ],
      "metadata": {
        "collapsed": true,
        "id": "ySyIdYaWwzuH",
        "outputId": "f4602e3c-a9b0-44d7-822a-b9cb70f3ff54",
        "colab": {
          "base_uri": "https://localhost:8080/"
        }
      },
      "execution_count": null,
      "outputs": [
        {
          "output_type": "stream",
          "name": "stdout",
          "text": [
            "   white  red  blue  green animal\n",
            "0      1    5     2      3    cat\n",
            "1      2    7     8      5    dog\n",
            "2      3    3     6      7  horse\n",
            "3      2    2     8      3   duck\n",
            "4      4    4     2      1  mouse\n"
          ]
        }
      ]
    },
    {
      "cell_type": "markdown",
      "source": [
        "- read_csv():\n",
        "    - Reads a comma-delimited file and converts it into a DataFrame.\n",
        "    - Handles parsing, type conversion, and DataFrame creation seamlessly.\n",
        "- Data is now ready for analysis or further manipulation.\n"
      ],
      "metadata": {
        "id": "_xuucXZ1w9GE"
      }
    },
    {
      "cell_type": "markdown",
      "source": [
        "- CSV files are essentially text files with comma-separated values in tabular format.\n",
        "- Although read_csv() is the primary method to read CSV files, you can use read_table() as an alternative by specifying the delimiter explicitly.\n"
      ],
      "metadata": {
        "id": "l6OE1mG6xUbB"
      }
    },
    {
      "cell_type": "code",
      "source": [
        "import pandas as pd\n",
        "\n",
        "# Reading a CSV file using read_table with a comma as the separator\n",
        "csvframe = pd.read_table('ch05_01.csv', sep=',')\n",
        "\n",
        "# Display the DataFrame\n",
        "print(csvframe)"
      ],
      "metadata": {
        "id": "4b0EZV1mxhsu"
      },
      "execution_count": null,
      "outputs": []
    },
    {
      "cell_type": "markdown",
      "source": [
        "- In some cases, CSV files may not include column headers, and the data starts directly from the first row.\n",
        "- By default, read_csv() assumes the first row contains column headers.\n",
        "- You can handle this scenario by explicitly specifying that there are no headers using the header=None parameter.\n"
      ],
      "metadata": {
        "id": "TZdjZiGlx-AO"
      }
    },
    {
      "cell_type": "code",
      "source": [
        "import pandas as pd\n",
        "\n",
        "# Create the data as a list of lists\n",
        "data = [\n",
        "    [1, 5, 2, 3, 'cat'],\n",
        "    [2, 7, 8, 5, 'dog'],\n",
        "    [3, 3, 6, 7, 'horse'],\n",
        "    [2, 2, 8, 3, 'duck'],\n",
        "    [4, 4, 2, 1, 'mouse']\n",
        "]\n",
        "\n",
        "# Create a DataFrame with columns names\n",
        "df = pd.DataFrame(data, columns=['white', 'red', 'blue', 'green', 'animal'])\n",
        "\n",
        "# Save the DataFrame to a CSV file\n",
        "df.to_csv('myCSV_02.csv', index=False, header=False)\n",
        "\n",
        "# Display the DataFrame\n",
        "print(df)\n"
      ],
      "metadata": {
        "id": "E7-ohY4pyuUc",
        "outputId": "dca7bcea-109a-4b28-d4f5-b7d3096aaff7",
        "colab": {
          "base_uri": "https://localhost:8080/"
        }
      },
      "execution_count": null,
      "outputs": [
        {
          "output_type": "stream",
          "name": "stdout",
          "text": [
            "   white  red  blue  green animal\n",
            "0      1    5     2      3    cat\n",
            "1      2    7     8      5    dog\n",
            "2      3    3     6      7  horse\n",
            "3      2    2     8      3   duck\n",
            "4      4    4     2      1  mouse\n"
          ]
        }
      ]
    },
    {
      "cell_type": "code",
      "source": [
        "import pandas as pd\n",
        "\n",
        "# Reading a CSV file without headers\n",
        "csvframe_no_headers = pd.read_csv('myCSV_02.csv', header=None)\n",
        "\n",
        "# Display the DataFrame\n",
        "print(csvframe_no_headers)\n"
      ],
      "metadata": {
        "id": "ojraAqLxyw2q",
        "outputId": "4e23e0ef-eea0-4c2e-dc3e-362d07b55472",
        "colab": {
          "base_uri": "https://localhost:8080/"
        }
      },
      "execution_count": null,
      "outputs": [
        {
          "output_type": "stream",
          "name": "stdout",
          "text": [
            "   0  1  2  3      4\n",
            "0  1  5  2  3    cat\n",
            "1  2  7  8  5    dog\n",
            "2  3  3  6  7  horse\n",
            "3  2  2  8  3   duck\n",
            "4  4  4  2  1  mouse\n"
          ]
        }
      ]
    },
    {
      "cell_type": "markdown",
      "source": [
        "**Assigning Custom Column Names:**\n",
        "\n",
        "You can provide custom column names using the names parameter:"
      ],
      "metadata": {
        "id": "TtDdxWAoy6va"
      }
    },
    {
      "cell_type": "code",
      "source": [
        "# Specifying column names for the DataFrame\n",
        "column_names = ['white', 'red', 'blue', 'green', 'animal']\n",
        "csvframe_custom_headers = pd.read_csv('myCSV_02.csv', header=None, names=column_names)\n",
        "\n",
        "# Display the DataFrame\n",
        "print(csvframe_custom_headers)"
      ],
      "metadata": {
        "id": "yp0uElPLzBBb"
      },
      "execution_count": null,
      "outputs": []
    },
    {
      "cell_type": "markdown",
      "source": [
        "- For more complex datasets, you can create a hierarchical structure in a DataFrame by using multiple columns as row indexes.\n",
        "- The index_col parameter in read_csv() allows you to specify one or more columns to serve as the index."
      ],
      "metadata": {
        "id": "FtMsWLVLzSG7"
      }
    },
    {
      "cell_type": "code",
      "source": [
        "import pandas as pd\n",
        "\n",
        "# Create the data as a list of lists\n",
        "data = [\n",
        "    ['black', 'up', 3, 4, 6],\n",
        "    ['black', 'down', 2, 6, 7],\n",
        "    ['white', 'up', 5, 5, 5],\n",
        "    ['white', 'down', 3, 3, 2],\n",
        "    ['white', 'left', 1, 2, 1],\n",
        "    ['red', 'up', 2, 2, 2],\n",
        "    ['red', 'down', 1, 1, 4]\n",
        "]\n",
        "\n",
        "# Create a DataFrame with column names\n",
        "df = pd.DataFrame(data, columns=['color', 'status', 'item1', 'item2', 'item3'])\n",
        "\n",
        "# Save the DataFrame to a CSV file\n",
        "df.to_csv('myCSV_03.csv', index=False)\n",
        "\n",
        "# Display the DataFrame\n",
        "print(df)\n"
      ],
      "metadata": {
        "id": "JZYibLWZzWwX",
        "outputId": "aada6be8-9a2c-4eb8-c511-7a5d0fede266",
        "colab": {
          "base_uri": "https://localhost:8080/"
        }
      },
      "execution_count": null,
      "outputs": [
        {
          "output_type": "stream",
          "name": "stdout",
          "text": [
            "   color status  item1  item2  item3\n",
            "0  black     up      3      4      6\n",
            "1  black   down      2      6      7\n",
            "2  white     up      5      5      5\n",
            "3  white   down      3      3      2\n",
            "4  white   left      1      2      1\n",
            "5    red     up      2      2      2\n",
            "6    red   down      1      1      4\n"
          ]
        }
      ]
    },
    {
      "cell_type": "code",
      "source": [
        "import pandas as pd\n",
        "\n",
        "# Reading the CSV file with a hierarchical index\n",
        "hierarchical_df = pd.read_csv('myCSV_03.csv', index_col=['color', 'status'])\n",
        "\n",
        "# Display the DataFrame\n",
        "print(hierarchical_df)"
      ],
      "metadata": {
        "id": "oep8QVKkzY4j",
        "outputId": "8c4ab76d-4ee4-4803-c066-5fea369511ac",
        "colab": {
          "base_uri": "https://localhost:8080/"
        }
      },
      "execution_count": null,
      "outputs": [
        {
          "output_type": "stream",
          "name": "stdout",
          "text": [
            "              item1  item2  item3\n",
            "color status                     \n",
            "black up          3      4      6\n",
            "      down        2      6      7\n",
            "white up          5      5      5\n",
            "      down        3      3      2\n",
            "      left        1      2      1\n",
            "red   up          2      2      2\n",
            "      down        1      1      4\n"
          ]
        }
      ]
    },
    {
      "cell_type": "markdown",
      "source": [
        "## Using RegExp for Parsing TXT Files\n",
        "- When working with text files where delimiters like commas, semicolons, or tabs are not well-defined, regular expressions (RegEx) come in handy. Regular expressions allow you to specify a pattern for separating data based on certain criteria, such as spaces, tabs, or other characters.\n",
        "\n",
        "- For example, if your file contains values that are separated by either spaces or tabs, but these delimiters are inconsistent (i.e., multiple spaces or tabs between values), you can use RegEx to handle this by defining a pattern that captures both spaces and tabs as valid delimiters.\n",
        "\n"
      ],
      "metadata": {
        "id": "MUYvDA9Y1re0"
      }
    },
    {
      "cell_type": "markdown",
      "source": [
        "\n",
        "| **Wildcard** | **Description** | **Example** |\n",
        "|--------------|-----------------|-------------|\n",
        "| .            | Matches any single character (except newline) | a.c matches \"abc\", \"adc\", etc. |\n",
        "| \\d           | Matches any digit | \\d+ matches \"1\", \"23\", \"456\" |\n",
        "| \\D           | Matches any non-digit character | \\D+ matches \"a\", \"abc\", \"!\" |\n",
        "| \\s           | Matches any whitespace character | \\s+ matches one or more spaces or tabs |\n",
        "| \\S           | Matches any non-whitespace character | \\S+ matches \"abc\", \"123\", \"!\" |\n",
        "| \\n           | Matches a newline character | Matches the end of a line |\n",
        "| \\t           | Matches a tab character | Matches a tab |\n",
        "| \\uxxxx       | Matches a Unicode character specified by hexadecimal number xxxx | Matches a Unicode character, like \\u0041 for \"A\" |\n"
      ],
      "metadata": {
        "id": "auS5stwS13xn"
      }
    }
  ]
}