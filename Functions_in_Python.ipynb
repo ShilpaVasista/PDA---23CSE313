{
  "nbformat": 4,
  "nbformat_minor": 0,
  "metadata": {
    "colab": {
      "provenance": []
    },
    "kernelspec": {
      "name": "python3",
      "display_name": "Python 3"
    },
    "language_info": {
      "name": "python"
    }
  },
  "cells": [
    {
      "cell_type": "markdown",
      "source": [
        "# Functions in Python\n"
      ],
      "metadata": {
        "id": "fMNzyTTE9hXl"
      }
    },
    {
      "cell_type": "markdown",
      "source": [
        "## Function Definition:\n",
        "\n",
        "Functions are a fundamental concept in Python and play a crucial role in structuring code for readability and reusability.\n",
        "\n",
        "- In Python, you define a function using the def keyword followed by the function name and a pair of parentheses ( ).\n",
        "- You can also include parameters (inputs) within the parentheses if the function requires them.\n",
        "- The function body is indented and contains the code to be executed when the function is called.\n",
        "Example of a simple function definition:"
      ],
      "metadata": {
        "id": "N0Wzyr5EnJL0"
      }
    },
    {
      "cell_type": "code",
      "execution_count": null,
      "metadata": {
        "id": "NNcxMyJWnFvH"
      },
      "outputs": [],
      "source": [
        "def greet():\n",
        "    print(\"Hello, World!\")\n"
      ]
    },
    {
      "cell_type": "markdown",
      "source": [
        "## **Function Call:**\n",
        "\n",
        "To execute a function, you \"call\" it by using its name followed by parentheses.\n",
        "If the function has parameters, you pass values (arguments) within the parentheses.\n",
        "Example of calling the greet() function:"
      ],
      "metadata": {
        "id": "btUTveLLnOOI"
      }
    },
    {
      "cell_type": "code",
      "source": [
        "greet()\n"
      ],
      "metadata": {
        "id": "A9ah5J53nRBV",
        "colab": {
          "base_uri": "https://localhost:8080/"
        },
        "outputId": "70a45ef2-55f7-4b34-86d2-5542275cb740"
      },
      "execution_count": null,
      "outputs": [
        {
          "output_type": "stream",
          "name": "stdout",
          "text": [
            "Hello, World!\n"
          ]
        }
      ]
    },
    {
      "cell_type": "markdown",
      "source": [
        "## **Return Statement:**\n",
        "\n",
        "A function can optionally return a value using the return statement.\n",
        "The return statement specifies the result or output of the function.\n",
        "Example of a function with a return statement:"
      ],
      "metadata": {
        "id": "kNX3H6dynUq4"
      }
    },
    {
      "cell_type": "code",
      "source": [
        "def add(x, y):\n",
        "    result = x + y\n",
        "    return result\n",
        "x = 3\n",
        "y = 5\n",
        "sum = add(x,y)\n",
        "print(sum)\n",
        "\n"
      ],
      "metadata": {
        "id": "fFj3rzNRnXhe",
        "colab": {
          "base_uri": "https://localhost:8080/"
        },
        "outputId": "8aa0248b-772d-4e84-fbb8-048c6aecebde"
      },
      "execution_count": null,
      "outputs": [
        {
          "output_type": "stream",
          "name": "stdout",
          "text": [
            "8\n"
          ]
        }
      ]
    },
    {
      "cell_type": "markdown",
      "source": [
        "## **Parameters and Arguments:**\n",
        "\n",
        "Parameters are placeholders for values that a function expects to receive.\n",
        "Arguments are the actual values passed to the function when it is called.\n",
        "Functions can have multiple parameters.\n",
        "Example with parameters and arguments:"
      ],
      "metadata": {
        "id": "RBhSPrZunaIz"
      }
    },
    {
      "cell_type": "code",
      "source": [
        "def greet_user(username):\n",
        "    print(f\"Hello, {username}!\")\n",
        "\n",
        "greet_user(\"Alice\")  # \"Alice\" is the argument passed to the function.\n"
      ],
      "metadata": {
        "id": "tgY5YD9cnb_R",
        "outputId": "69bc9ffa-f013-497d-ebd7-7abeaa01ddb2",
        "colab": {
          "base_uri": "https://localhost:8080/"
        }
      },
      "execution_count": null,
      "outputs": [
        {
          "output_type": "stream",
          "name": "stdout",
          "text": [
            "Hello, Alice!\n"
          ]
        }
      ]
    },
    {
      "cell_type": "markdown",
      "source": [
        "## **Default Parameters:**\n",
        "\n",
        "You can assign default values to function parameters.\n",
        "If an argument is not provided when calling the function, it will use the default value.\n",
        "Example with default parameter:"
      ],
      "metadata": {
        "id": "gN7mHBy5netI"
      }
    },
    {
      "cell_type": "code",
      "source": [
        "def greet(name=\"User\"):\n",
        "    print(f\"Hello, {name}!\")\n",
        "\n",
        "greet()          # Output: \"Hello, User!\"\n",
        "greet(\"Alice\")   # Output: \"Hello, Alice!\"\n"
      ],
      "metadata": {
        "id": "GMuK5AtFngc9"
      },
      "execution_count": null,
      "outputs": []
    },
    {
      "cell_type": "markdown",
      "source": [
        "## **Scope:**\n",
        "\n",
        "Variables defined inside a function are called local variables and are only accessible within that function's scope.\n",
        "Variables defined outside of any function are called global variables and can be accessed from any part of the code.\n",
        "Example:"
      ],
      "metadata": {
        "id": "s0dqTFK_njT9"
      }
    },
    {
      "cell_type": "code",
      "source": [
        "global_var = \"I'm global\"\n",
        "\n",
        "def print_local_var():\n",
        "    local_var = \"I'm local\"\n",
        "    print(local_var)\n",
        "\n",
        "print(global_var)  # Output: \"I'm global\"\n",
        "print_local_var()  # Output: \"I'm local\""
      ],
      "metadata": {
        "id": "vZ1p74JunkM8",
        "outputId": "9fd51729-2c1f-437b-fdae-ddb552e6993a",
        "colab": {
          "base_uri": "https://localhost:8080/"
        }
      },
      "execution_count": null,
      "outputs": [
        {
          "output_type": "stream",
          "name": "stdout",
          "text": [
            "I'm global\n",
            "I'm local\n"
          ]
        }
      ]
    },
    {
      "cell_type": "markdown",
      "source": [
        "## **Docstrings:**\n",
        "\n",
        "It's good practice to include docstrings (documentation strings) within a function to describe its purpose, parameters, and return values.\n",
        "Example with a docstring:"
      ],
      "metadata": {
        "id": "mKjxyL0snn6E"
      }
    },
    {
      "cell_type": "code",
      "source": [
        "def add(x, y):\n",
        "    \"\"\"\n",
        "    Adds two numbers and returns the result.\n",
        "\n",
        "    Args:\n",
        "        x (int): The first number.\n",
        "        y (int): The second number.\n",
        "\n",
        "    Returns:\n",
        "        int: The sum of x and y.\n",
        "    \"\"\"\n",
        "    result = x + y\n",
        "    return result\n"
      ],
      "metadata": {
        "id": "USZ36dRwnptf"
      },
      "execution_count": null,
      "outputs": []
    },
    {
      "cell_type": "markdown",
      "source": [
        "## **Lambda Functions:**\n",
        "\n",
        "Lambda functions (also known as anonymous functions) are small, inline functions defined using the lambda keyword.\n",
        "They are often used for simple operations.\n",
        "Example of a lambda function:\n",
        "\n",
        "Syntax:\n",
        "`lambda arguments: expression`"
      ],
      "metadata": {
        "id": "IGtBscbqnse9"
      }
    },
    {
      "cell_type": "code",
      "source": [
        "add = lambda x, y: x + y\n"
      ],
      "metadata": {
        "id": "Hdmv1mpzntWD"
      },
      "execution_count": null,
      "outputs": []
    },
    {
      "cell_type": "markdown",
      "source": [
        "## **Function Recursion:**\n",
        "\n",
        "Functions can call themselves, a concept known as recursion.\n",
        "It's important to have a base case to prevent infinite recursion.\n",
        "Example of a recursive function to calculate factorial:"
      ],
      "metadata": {
        "id": "NpSjjdwRnxWy"
      }
    },
    {
      "cell_type": "code",
      "source": [
        "def factorial(n):\n",
        "    if n == 0:\n",
        "        return 1\n",
        "    else:\n",
        "        return n * factorial(n-1)\n"
      ],
      "metadata": {
        "id": "01GiJtxXnzk8"
      },
      "execution_count": null,
      "outputs": []
    },
    {
      "cell_type": "markdown",
      "source": [
        "## **Modules and Libraries:**\n",
        "\n",
        "Python provides a rich set of built-in functions, and you can create your own functions.\n",
        "You can also import functions from modules and libraries to extend Python's capabilities.\n",
        "Example of using a built-in function:"
      ],
      "metadata": {
        "id": "kCQGpkdRn2QZ"
      }
    },
    {
      "cell_type": "code",
      "source": [
        "import math\n",
        "print(math.sqrt(25))  # Output: 5.0 (square root of 25)\n"
      ],
      "metadata": {
        "id": "g-xKYgwin4Dj"
      },
      "execution_count": null,
      "outputs": []
    }
  ]
}