{
  "nbformat": 4,
  "nbformat_minor": 0,
  "metadata": {
    "colab": {
      "provenance": [],
      "authorship_tag": "ABX9TyNJPhp+pQHx8Bg3bn65DBNY",
      "include_colab_link": true
    },
    "kernelspec": {
      "name": "python3",
      "display_name": "Python 3"
    },
    "language_info": {
      "name": "python"
    }
  },
  "cells": [
    {
      "cell_type": "markdown",
      "metadata": {
        "id": "view-in-github",
        "colab_type": "text"
      },
      "source": [
        "<a href=\"https://colab.research.google.com/github/ShilpaVasista/PDA---23CSE313/blob/main/Module_3_Introduction_to_Numpy.ipynb\" target=\"_parent\"><img src=\"https://colab.research.google.com/assets/colab-badge.svg\" alt=\"Open In Colab\"/></a>"
      ]
    },
    {
      "cell_type": "markdown",
      "source": [
        "ndarray is the main object in NumPy, representing a multidimensional, homogeneous array.\n",
        "**Key Features:**\n",
        "\n",
        "- **Homogeneous Data**: All elements are of the same type, defined by dtype.\n",
        "- **Fixed Size:** Array size is defined upon creation and cannot be changed (unlike Python lists).\n",
        "- **Shape & Dimensions:** Shape is a tuple of positive integers defining the size of each dimension.\n",
        "- **Dimensions** are called axes, and the number of axes is referred to as the array’s rank.\n"
      ],
      "metadata": {
        "id": "W4DqrsISSyYO"
      }
    },
    {
      "cell_type": "markdown",
      "source": [
        "Creating an ndarray: Use the array() function with a Python list as input.\n",
        "```\n",
        "a = np.array([1, 2, 3])\n",
        "```\n",
        "**Attributes:**\n",
        "- **dtype:** Shows the data type of elements (a.dtype).\n",
        "- **ndim:** Gives the number of axes (dimensions).\n",
        "- **shape:** Provides the array’s shape (e.g., (3,1)).\n",
        "- **size:** Returns the total number of elements.\n"
      ],
      "metadata": {
        "id": "fiaDiKg5TO1o"
      }
    },
    {
      "cell_type": "code",
      "source": [
        "a = np.array([1, 2, 3])\n",
        "print(a)"
      ],
      "metadata": {
        "colab": {
          "base_uri": "https://localhost:8080/"
        },
        "id": "FxNlh328StEr",
        "outputId": "d741d1c8-5483-41a1-db48-fa7d4f5e1637"
      },
      "execution_count": 5,
      "outputs": [
        {
          "output_type": "stream",
          "name": "stdout",
          "text": [
            "[1 2 3]\n"
          ]
        }
      ]
    },
    {
      "cell_type": "code",
      "source": [
        "a.ndim"
      ],
      "metadata": {
        "colab": {
          "base_uri": "https://localhost:8080/"
        },
        "id": "NfIIXK7sTgeY",
        "outputId": "5163475b-5389-4336-b7f9-dcc4fb1c8151"
      },
      "execution_count": 6,
      "outputs": [
        {
          "output_type": "execute_result",
          "data": {
            "text/plain": [
              "1"
            ]
          },
          "metadata": {},
          "execution_count": 6
        }
      ]
    },
    {
      "cell_type": "code",
      "source": [
        "a.size"
      ],
      "metadata": {
        "colab": {
          "base_uri": "https://localhost:8080/"
        },
        "id": "ONXDS_Y4TkcG",
        "outputId": "ba6d720c-f37c-4292-c900-58b9a23104e3"
      },
      "execution_count": 7,
      "outputs": [
        {
          "output_type": "execute_result",
          "data": {
            "text/plain": [
              "3"
            ]
          },
          "metadata": {},
          "execution_count": 7
        }
      ]
    },
    {
      "cell_type": "code",
      "source": [
        "a.shape"
      ],
      "metadata": {
        "colab": {
          "base_uri": "https://localhost:8080/"
        },
        "id": "bSs3qIp3ToC2",
        "outputId": "bca7ca69-c433-402b-b374-a795e1eb15a8"
      },
      "execution_count": 8,
      "outputs": [
        {
          "output_type": "execute_result",
          "data": {
            "text/plain": [
              "(3,)"
            ]
          },
          "metadata": {},
          "execution_count": 8
        }
      ]
    },
    {
      "cell_type": "markdown",
      "source": [
        "**Extending Ndarray to Multiple Dimensions**\n",
        "\n",
        "**Multi-Dimensional Arrays:**\n",
        "\n",
        "Arrays in NumPy can have multiple dimensions, easily extending beyond 1D.\n",
        "\n",
        "Attributes of a 2D Array:\n",
        "- dtype: Data type of elements\n",
        "- ndim: Number of dimensions (axes) of the array\n",
        "- size: Total number of elements in the array\n",
        "- shape: Tuple showing size of each dimension\n",
        "- rank: This array has rank 2 (two axes of length 2)."
      ],
      "metadata": {
        "id": "5IOVASxwTwhf"
      }
    },
    {
      "cell_type": "code",
      "source": [
        "b = np.array([[1.3, 2.4], [0.3, 4.1]])\n",
        "print(b)"
      ],
      "metadata": {
        "colab": {
          "base_uri": "https://localhost:8080/"
        },
        "id": "_AvQttZiT9jr",
        "outputId": "224f8643-14df-4fb8-981b-43c69f0b700c"
      },
      "execution_count": 10,
      "outputs": [
        {
          "output_type": "stream",
          "name": "stdout",
          "text": [
            "[[1.3 2.4]\n",
            " [0.3 4.1]]\n"
          ]
        }
      ]
    },
    {
      "cell_type": "code",
      "source": [
        "(b.dtype)"
      ],
      "metadata": {
        "colab": {
          "base_uri": "https://localhost:8080/"
        },
        "id": "rclQH2rwUHff",
        "outputId": "0d87d504-e60f-4538-9bdc-dd3e18f9b425"
      },
      "execution_count": 11,
      "outputs": [
        {
          "output_type": "execute_result",
          "data": {
            "text/plain": [
              "dtype('float64')"
            ]
          },
          "metadata": {},
          "execution_count": 11
        }
      ]
    },
    {
      "cell_type": "code",
      "source": [
        "b.ndim"
      ],
      "metadata": {
        "colab": {
          "base_uri": "https://localhost:8080/"
        },
        "id": "ammc6RXYUdnB",
        "outputId": "d2510fa0-6871-408b-c681-93a66d943309"
      },
      "execution_count": 13,
      "outputs": [
        {
          "output_type": "execute_result",
          "data": {
            "text/plain": [
              "2"
            ]
          },
          "metadata": {},
          "execution_count": 13
        }
      ]
    },
    {
      "cell_type": "code",
      "source": [
        "b.size"
      ],
      "metadata": {
        "colab": {
          "base_uri": "https://localhost:8080/"
        },
        "id": "38VIXKreUgGx",
        "outputId": "93051c6e-dcfc-484a-cd74-ec065c305593"
      },
      "execution_count": 14,
      "outputs": [
        {
          "output_type": "execute_result",
          "data": {
            "text/plain": [
              "4"
            ]
          },
          "metadata": {},
          "execution_count": 14
        }
      ]
    },
    {
      "cell_type": "code",
      "source": [
        "b.shape"
      ],
      "metadata": {
        "colab": {
          "base_uri": "https://localhost:8080/"
        },
        "id": "_jR-aoATUiUD",
        "outputId": "6b2e782b-0ab1-43ba-e6f6-805067b8108b"
      },
      "execution_count": 15,
      "outputs": [
        {
          "output_type": "execute_result",
          "data": {
            "text/plain": [
              "(2, 2)"
            ]
          },
          "metadata": {},
          "execution_count": 15
        }
      ]
    },
    {
      "cell_type": "code",
      "source": [
        "b.itemsize"
      ],
      "metadata": {
        "colab": {
          "base_uri": "https://localhost:8080/"
        },
        "id": "fzZbfSWQUkT7",
        "outputId": "e9933026-7cd8-452c-a3ab-0fcc1863dd25"
      },
      "execution_count": 17,
      "outputs": [
        {
          "output_type": "execute_result",
          "data": {
            "text/plain": [
              "8"
            ]
          },
          "metadata": {},
          "execution_count": 17
        }
      ]
    },
    {
      "cell_type": "code",
      "source": [
        "b.data"
      ],
      "metadata": {
        "colab": {
          "base_uri": "https://localhost:8080/"
        },
        "id": "e0FKduXcV4oq",
        "outputId": "ecdddc08-c186-4861-b49f-32ddda7cf075"
      },
      "execution_count": 18,
      "outputs": [
        {
          "output_type": "execute_result",
          "data": {
            "text/plain": [
              "<memory at 0x78658b233e00>"
            ]
          },
          "metadata": {},
          "execution_count": 18
        }
      ]
    },
    {
      "cell_type": "markdown",
      "source": [
        "# **Creating Arrays in NumPy**\n",
        "\n",
        "**Using the array() Function:**\n",
        "- The most common way to create an array is by passing a list or a sequence of lists to the array() function.\n"
      ],
      "metadata": {
        "id": "3K_ge_sFV-Fi"
      }
    },
    {
      "cell_type": "code",
      "source": [
        "c = np.array([[1, 2, 3], [4, 5, 6]])\n",
        "print(c)"
      ],
      "metadata": {
        "colab": {
          "base_uri": "https://localhost:8080/"
        },
        "id": "q9WeXH8VV9c7",
        "outputId": "8cd149f8-65c1-4861-d79c-67adce734a39"
      },
      "execution_count": 19,
      "outputs": [
        {
          "output_type": "stream",
          "name": "stdout",
          "text": [
            "[[1 2 3]\n",
            " [4 5 6]]\n"
          ]
        }
      ]
    },
    {
      "cell_type": "markdown",
      "source": [
        "**Accepts Multiple Input Types:**\n",
        "The array() function can also accept tuples, sequences of tuples, or a combination of lists and tuples."
      ],
      "metadata": {
        "id": "0IWlNKeTWOWD"
      }
    },
    {
      "cell_type": "code",
      "source": [
        "d = np.array(((1, 2, 3), (4, 5, 6)))\n",
        "print(d)"
      ],
      "metadata": {
        "colab": {
          "base_uri": "https://localhost:8080/"
        },
        "id": "wDrEPydLWOAN",
        "outputId": "8fb8aa5a-f959-4d23-e99c-df4bedab0ae5"
      },
      "execution_count": 20,
      "outputs": [
        {
          "output_type": "stream",
          "name": "stdout",
          "text": [
            "[[1 2 3]\n",
            " [4 5 6]]\n"
          ]
        }
      ]
    },
    {
      "cell_type": "markdown",
      "source": [
        "**Mixed sequences of lists and tuples work seamlessly.**"
      ],
      "metadata": {
        "id": "HW0Yzt_OWc__"
      }
    },
    {
      "cell_type": "code",
      "source": [
        "e = np.array([(1, 2, 3), [4, 5, 6], (7, 8, 9)])\n",
        "print(e)"
      ],
      "metadata": {
        "colab": {
          "base_uri": "https://localhost:8080/"
        },
        "id": "qLTvVo9pWfts",
        "outputId": "f944c89d-a362-4a27-ef6f-acb356aece70"
      },
      "execution_count": 21,
      "outputs": [
        {
          "output_type": "stream",
          "name": "stdout",
          "text": [
            "[[1 2 3]\n",
            " [4 5 6]\n",
            " [7 8 9]]\n"
          ]
        }
      ]
    },
    {
      "cell_type": "markdown",
      "source": [
        "**Data Types Supported by Numpy**"
      ],
      "metadata": {
        "id": "voSzo_F7X9wf"
      }
    },
    {
      "cell_type": "markdown",
      "source": [
        "![Screen Shot 2024-11-12 at 13.25.11.png](data:image/png;base64,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)"
      ],
      "metadata": {
        "id": "q4WZI2unXnjS"
      }
    },
    {
      "cell_type": "markdown",
      "source": [
        "**The dtype Option:**\n",
        "- The array() function automatically assigns the most suitable data type (dtype) based on the values in the input lists or tuples.\n",
        "\n",
        "**Explicit Data Type Setting:**\n",
        "- You can specify the data type explicitly using the dtype option in array().\n",
        "\n",
        "Example: Creating an array with complex numbers"
      ],
      "metadata": {
        "id": "C7IHkKSBYHBA"
      }
    },
    {
      "cell_type": "code",
      "source": [
        "f = np.array([[1, 2, 3], [4, 5, 6]], dtype=complex)\n",
        "print(f)"
      ],
      "metadata": {
        "colab": {
          "base_uri": "https://localhost:8080/"
        },
        "id": "nZC7TJHkX6dT",
        "outputId": "66bb4b4d-67b9-4654-9ab2-905087c9d6fe"
      },
      "execution_count": 22,
      "outputs": [
        {
          "output_type": "stream",
          "name": "stdout",
          "text": [
            "[[1.+0.j 2.+0.j 3.+0.j]\n",
            " [4.+0.j 5.+0.j 6.+0.j]]\n"
          ]
        }
      ]
    },
    {
      "cell_type": "markdown",
      "source": [
        "**Intrinsic Array Creation in NumPy**\n",
        "- NumPy offers built-in functions to create arrays with specific initial values, enabling efficient data generation.\n"
      ],
      "metadata": {
        "id": "hc-ddwPhYiDg"
      }
    },
    {
      "cell_type": "markdown",
      "source": [
        "zeros(): Creates an array filled with zeros."
      ],
      "metadata": {
        "id": "uY2Lw-7tYpC7"
      }
    },
    {
      "cell_type": "code",
      "source": [
        "np.zeros((3, 3))"
      ],
      "metadata": {
        "colab": {
          "base_uri": "https://localhost:8080/"
        },
        "id": "PKE9VonvYoVa",
        "outputId": "821d8070-9bab-47c7-b94b-d6f41124e056"
      },
      "execution_count": 23,
      "outputs": [
        {
          "output_type": "execute_result",
          "data": {
            "text/plain": [
              "array([[0., 0., 0.],\n",
              "       [0., 0., 0.],\n",
              "       [0., 0., 0.]])"
            ]
          },
          "metadata": {},
          "execution_count": 23
        }
      ]
    },
    {
      "cell_type": "markdown",
      "source": [
        "ones(): Creates an array filled with ones."
      ],
      "metadata": {
        "id": "9DU1bRFfYx_k"
      }
    },
    {
      "cell_type": "code",
      "source": [
        "np.ones((3, 3))"
      ],
      "metadata": {
        "colab": {
          "base_uri": "https://localhost:8080/"
        },
        "id": "5b4F_R_4YywS",
        "outputId": "76c5db70-aca4-4094-8c9b-5b44b4a99e45"
      },
      "execution_count": 24,
      "outputs": [
        {
          "output_type": "execute_result",
          "data": {
            "text/plain": [
              "array([[1., 1., 1.],\n",
              "       [1., 1., 1.],\n",
              "       [1., 1., 1.]])"
            ]
          },
          "metadata": {},
          "execution_count": 24
        }
      ]
    },
    {
      "cell_type": "markdown",
      "source": [
        "arange(): Generates a sequence of values."
      ],
      "metadata": {
        "id": "9tY83s-BY6Ph"
      }
    },
    {
      "cell_type": "markdown",
      "source": [
        "To create a sequence from 0 to 10:"
      ],
      "metadata": {
        "id": "W-5ewSljY7Bn"
      }
    },
    {
      "cell_type": "code",
      "source": [
        "np.arange(0, 10)"
      ],
      "metadata": {
        "colab": {
          "base_uri": "https://localhost:8080/"
        },
        "id": "t8w25B2JY_ut",
        "outputId": "b0c1a889-4238-443e-8790-cbc8028db2df"
      },
      "execution_count": 25,
      "outputs": [
        {
          "output_type": "execute_result",
          "data": {
            "text/plain": [
              "array([0, 1, 2, 3, 4, 5, 6, 7, 8, 9])"
            ]
          },
          "metadata": {},
          "execution_count": 25
        }
      ]
    },
    {
      "cell_type": "markdown",
      "source": [
        "Specify both a start and end value:"
      ],
      "metadata": {
        "id": "BPpeuQk6ZEwi"
      }
    },
    {
      "cell_type": "code",
      "source": [
        "np.arange(4, 10)"
      ],
      "metadata": {
        "colab": {
          "base_uri": "https://localhost:8080/"
        },
        "id": "Riwf-Y0VZHVx",
        "outputId": "48a2c1b8-7e3c-46dd-93c8-9aecd8d23ff7"
      },
      "execution_count": 26,
      "outputs": [
        {
          "output_type": "execute_result",
          "data": {
            "text/plain": [
              "array([4, 5, 6, 7, 8, 9])"
            ]
          },
          "metadata": {},
          "execution_count": 26
        }
      ]
    },
    {
      "cell_type": "markdown",
      "source": [
        "**Note:**Default Data Type: zeros() and ones() create arrays with float64 by default."
      ],
      "metadata": {
        "id": "e3KmIVN-ZLky"
      }
    },
    {
      "cell_type": "markdown",
      "source": [
        "**Creating Sequences with Custom Intervals:**\n",
        "- arange(start, stop, step): Generates values with a specified interval.\n"
      ],
      "metadata": {
        "id": "eGTYckdrZO7y"
      }
    },
    {
      "cell_type": "code",
      "source": [
        "np.arange(0, 12, 3)"
      ],
      "metadata": {
        "colab": {
          "base_uri": "https://localhost:8080/"
        },
        "id": "WGRGeyW9Zrr0",
        "outputId": "2cade4c6-4cc5-4da6-870a-2b9fac7204f1"
      },
      "execution_count": 27,
      "outputs": [
        {
          "output_type": "execute_result",
          "data": {
            "text/plain": [
              "array([0, 3, 6, 9])"
            ]
          },
          "metadata": {},
          "execution_count": 27
        }
      ]
    },
    {
      "cell_type": "markdown",
      "source": [
        "The interval can also be a float:"
      ],
      "metadata": {
        "id": "VtCnfYs7Zx1q"
      }
    },
    {
      "cell_type": "code",
      "source": [
        "np.arange(0, 6, 0.6)"
      ],
      "metadata": {
        "colab": {
          "base_uri": "https://localhost:8080/"
        },
        "id": "tbspb3OjZz9N",
        "outputId": "839ba1e7-d964-4538-a6e7-9db3000a61dd"
      },
      "execution_count": 28,
      "outputs": [
        {
          "output_type": "execute_result",
          "data": {
            "text/plain": [
              "array([0. , 0.6, 1.2, 1.8, 2.4, 3. , 3.6, 4.2, 4.8, 5.4])"
            ]
          },
          "metadata": {},
          "execution_count": 28
        }
      ]
    },
    {
      "cell_type": "markdown",
      "source": [
        "**Reshaping Arrays:**\n",
        "- reshape(): Reshapes a one-dimensional array into a multi-dimensional one.\n"
      ],
      "metadata": {
        "id": "sw2oEWBEZ4_o"
      }
    },
    {
      "cell_type": "code",
      "source": [
        "np.arange(0, 12).reshape(3, 4)"
      ],
      "metadata": {
        "colab": {
          "base_uri": "https://localhost:8080/"
        },
        "id": "XVRgbPsPZ7fy",
        "outputId": "2914e6ee-8a3b-4245-b4c5-c5064864f7f3"
      },
      "execution_count": 29,
      "outputs": [
        {
          "output_type": "execute_result",
          "data": {
            "text/plain": [
              "array([[ 0,  1,  2,  3],\n",
              "       [ 4,  5,  6,  7],\n",
              "       [ 8,  9, 10, 11]])"
            ]
          },
          "metadata": {},
          "execution_count": 29
        }
      ]
    },
    {
      "cell_type": "markdown",
      "source": [
        "**Creating Arrays with linspace():**\n",
        "- linspace(start, end, num_elements): Creates an array of specified length, equally spaced between start and end.\n"
      ],
      "metadata": {
        "id": "gvqe9eYjaBXB"
      }
    },
    {
      "cell_type": "code",
      "source": [
        "np.linspace(0, 10, 5)"
      ],
      "metadata": {
        "colab": {
          "base_uri": "https://localhost:8080/"
        },
        "id": "MN-uXquIaFyH",
        "outputId": "9eeb5847-0584-4715-c6c6-3867a5a8e9d8"
      },
      "execution_count": 30,
      "outputs": [
        {
          "output_type": "execute_result",
          "data": {
            "text/plain": [
              "array([ 0. ,  2.5,  5. ,  7.5, 10. ])"
            ]
          },
          "metadata": {},
          "execution_count": 30
        }
      ]
    },
    {
      "cell_type": "markdown",
      "source": [
        "**Generating Random Arrays:**\n",
        "- numpy.random.random(size): Creates an array with random values between 0 and 1"
      ],
      "metadata": {
        "id": "3DBep4BKaMnY"
      }
    },
    {
      "cell_type": "code",
      "source": [
        "np.random.random(3)"
      ],
      "metadata": {
        "colab": {
          "base_uri": "https://localhost:8080/"
        },
        "id": "MOao0cHDaQ7S",
        "outputId": "7a21a4dc-9e6f-481a-f806-b33b3f335d94"
      },
      "execution_count": 31,
      "outputs": [
        {
          "output_type": "execute_result",
          "data": {
            "text/plain": [
              "array([0.42896758, 0.29319545, 0.81519071])"
            ]
          },
          "metadata": {},
          "execution_count": 31
        }
      ]
    },
    {
      "cell_type": "code",
      "source": [
        "np.random.random((3, 3))"
      ],
      "metadata": {
        "colab": {
          "base_uri": "https://localhost:8080/"
        },
        "id": "dXdfeKz6aXUp",
        "outputId": "f55ac4c1-4f3c-4541-b8ee-04a7b7bf5437"
      },
      "execution_count": 32,
      "outputs": [
        {
          "output_type": "execute_result",
          "data": {
            "text/plain": [
              "array([[0.04930259, 0.10606345, 0.91738392],\n",
              "       [0.87300276, 0.88857306, 0.71015728],\n",
              "       [0.16529142, 0.40342341, 0.39001762]])"
            ]
          },
          "metadata": {},
          "execution_count": 32
        }
      ]
    },
    {
      "cell_type": "markdown",
      "source": [
        "**Basic Operations**\n",
        "\n",
        "**Arithmetic Operators in NumPy**\n",
        "\n",
        "Array and Scalar Operations: Operations between an array and a scalar apply the operator to each element."
      ],
      "metadata": {
        "id": "Cr7OjMiUaa4Y"
      }
    },
    {
      "cell_type": "code",
      "source": [
        "a = np.arange(4)\n",
        "print(a)"
      ],
      "metadata": {
        "colab": {
          "base_uri": "https://localhost:8080/"
        },
        "id": "t2aWCK_YakrJ",
        "outputId": "bb1e70b2-c195-4c09-9deb-61543d7b72d7"
      },
      "execution_count": 34,
      "outputs": [
        {
          "output_type": "stream",
          "name": "stdout",
          "text": [
            "[0 1 2 3]\n"
          ]
        }
      ]
    },
    {
      "cell_type": "code",
      "source": [
        "a + 4"
      ],
      "metadata": {
        "colab": {
          "base_uri": "https://localhost:8080/"
        },
        "id": "PzIMGL1_aqZX",
        "outputId": "f20a0301-4511-46ae-f919-8dbe903acfaa"
      },
      "execution_count": 35,
      "outputs": [
        {
          "output_type": "execute_result",
          "data": {
            "text/plain": [
              "array([4, 5, 6, 7])"
            ]
          },
          "metadata": {},
          "execution_count": 35
        }
      ]
    },
    {
      "cell_type": "code",
      "source": [
        "a * 2"
      ],
      "metadata": {
        "colab": {
          "base_uri": "https://localhost:8080/"
        },
        "id": "_jRw316VauPK",
        "outputId": "f48d1505-0db3-433a-a708-0d9d78cb10e1"
      },
      "execution_count": 36,
      "outputs": [
        {
          "output_type": "execute_result",
          "data": {
            "text/plain": [
              "array([0, 2, 4, 6])"
            ]
          },
          "metadata": {},
          "execution_count": 36
        }
      ]
    },
    {
      "cell_type": "markdown",
      "source": [
        "Element-wise Operations Between Arrays: Operations between arrays are element-wise, meaning operators are applied to corresponding elements."
      ],
      "metadata": {
        "id": "nPIC7N_QayUz"
      }
    },
    {
      "cell_type": "code",
      "source": [
        "a = np.array([0,1,2,3])\n",
        "b = np.array([4, 5, 6, 7])\n",
        "a + b"
      ],
      "metadata": {
        "colab": {
          "base_uri": "https://localhost:8080/"
        },
        "id": "p07aPXlUa4Z6",
        "outputId": "b5adbad7-66a7-4a38-d05d-903c816dc3f3"
      },
      "execution_count": 37,
      "outputs": [
        {
          "output_type": "execute_result",
          "data": {
            "text/plain": [
              "array([ 4,  6,  8, 10])"
            ]
          },
          "metadata": {},
          "execution_count": 37
        }
      ]
    },
    {
      "cell_type": "code",
      "source": [
        "a - b"
      ],
      "metadata": {
        "colab": {
          "base_uri": "https://localhost:8080/"
        },
        "id": "zs9xtMb7bK_h",
        "outputId": "0675c42e-84e3-485c-c235-b52d7b2c7759"
      },
      "execution_count": 38,
      "outputs": [
        {
          "output_type": "execute_result",
          "data": {
            "text/plain": [
              "array([-4, -4, -4, -4])"
            ]
          },
          "metadata": {},
          "execution_count": 38
        }
      ]
    },
    {
      "cell_type": "code",
      "source": [
        "a * b"
      ],
      "metadata": {
        "colab": {
          "base_uri": "https://localhost:8080/"
        },
        "id": "lmV2-zKgbPYL",
        "outputId": "0f47f988-decc-4aac-eb98-2508370d000b"
      },
      "execution_count": 39,
      "outputs": [
        {
          "output_type": "execute_result",
          "data": {
            "text/plain": [
              "array([ 0,  5, 12, 21])"
            ]
          },
          "metadata": {},
          "execution_count": 39
        }
      ]
    },
    {
      "cell_type": "markdown",
      "source": [
        "**Note:** The resulting array from element-wise operations maintains the same shape as the input arrays."
      ],
      "metadata": {
        "id": "koJiQk0ba8lG"
      }
    },
    {
      "cell_type": "markdown",
      "source": [
        "Applying Functions Element-wise: Operations with functions, such as sin() and sqrt(), return element-wise calculations."
      ],
      "metadata": {
        "id": "Lj4p2c9KbEIG"
      }
    },
    {
      "cell_type": "code",
      "source": [
        "a * np.sin(b)"
      ],
      "metadata": {
        "colab": {
          "base_uri": "https://localhost:8080/"
        },
        "id": "SfhM4I8bbDYD",
        "outputId": "225cae30-1e98-448f-ce01-962251fa6466"
      },
      "execution_count": 40,
      "outputs": [
        {
          "output_type": "execute_result",
          "data": {
            "text/plain": [
              "array([-0.        , -0.95892427, -0.558831  ,  1.9709598 ])"
            ]
          },
          "metadata": {},
          "execution_count": 40
        }
      ]
    },
    {
      "cell_type": "code",
      "source": [
        "a * np.sqrt(b)"
      ],
      "metadata": {
        "colab": {
          "base_uri": "https://localhost:8080/"
        },
        "id": "Yd8qgYuVbg-G",
        "outputId": "47766138-89eb-4a27-b6b7-930d2ffa01c3"
      },
      "execution_count": 41,
      "outputs": [
        {
          "output_type": "execute_result",
          "data": {
            "text/plain": [
              "array([0.        , 2.23606798, 4.89897949, 7.93725393])"
            ]
          },
          "metadata": {},
          "execution_count": 41
        }
      ]
    },
    {
      "cell_type": "markdown",
      "source": [
        "Element-wise Operations in 2D Arrays: Operations extend to multidimensional arrays, maintaining element-wise behavior."
      ],
      "metadata": {
        "id": "SvCYuBqLbmSy"
      }
    },
    {
      "cell_type": "code",
      "source": [
        "A = np.arange(9).reshape(3, 3)\n",
        "B = np.ones((3, 3))\n",
        "A * B"
      ],
      "metadata": {
        "colab": {
          "base_uri": "https://localhost:8080/"
        },
        "id": "_xtzK7qPbqAn",
        "outputId": "af912940-e329-4f8b-eed3-f18df1b779e4"
      },
      "execution_count": 42,
      "outputs": [
        {
          "output_type": "execute_result",
          "data": {
            "text/plain": [
              "array([[0., 1., 2.],\n",
              "       [3., 4., 5.],\n",
              "       [6., 7., 8.]])"
            ]
          },
          "metadata": {},
          "execution_count": 42
        }
      ]
    },
    {
      "cell_type": "markdown",
      "source": [
        "**Matrix Product:**\n",
        "Achieved using np.dot(A, B) or A @ B"
      ],
      "metadata": {
        "id": "Zm4SGQROby9Q"
      }
    },
    {
      "cell_type": "code",
      "source": [
        "A = np.array([[1, 2, 3], [4, 5, 6], [7, 8, 9]])\n",
        "B = np.ones((3, 3))\n",
        "np.dot(A, B)\n"
      ],
      "metadata": {
        "colab": {
          "base_uri": "https://localhost:8080/"
        },
        "id": "M9FJpnWxbzaS",
        "outputId": "095597ab-25f6-4451-c6be-782b253654e1"
      },
      "execution_count": 43,
      "outputs": [
        {
          "output_type": "execute_result",
          "data": {
            "text/plain": [
              "array([[ 6.,  6.,  6.],\n",
              "       [15., 15., 15.],\n",
              "       [24., 24., 24.]])"
            ]
          },
          "metadata": {},
          "execution_count": 43
        }
      ]
    },
    {
      "cell_type": "code",
      "source": [
        "A @ B"
      ],
      "metadata": {
        "colab": {
          "base_uri": "https://localhost:8080/"
        },
        "id": "wpfhmPbrcca2",
        "outputId": "415b50d0-f44d-40bd-deba-a04cb60b5190"
      },
      "execution_count": 44,
      "outputs": [
        {
          "output_type": "execute_result",
          "data": {
            "text/plain": [
              "array([[ 6.,  6.,  6.],\n",
              "       [15., 15., 15.],\n",
              "       [24., 24., 24.]])"
            ]
          },
          "metadata": {},
          "execution_count": 44
        }
      ]
    },
    {
      "cell_type": "markdown",
      "source": [
        "An alternative way to write the matrix product is to see the dot() function as an object’s function of one of the two matrices."
      ],
      "metadata": {
        "id": "F_0pHRXDcnQk"
      }
    },
    {
      "cell_type": "code",
      "source": [
        "A.dot(B)"
      ],
      "metadata": {
        "colab": {
          "base_uri": "https://localhost:8080/"
        },
        "id": "4V_tU_TzcoWe",
        "outputId": "96822acd-aafe-4cef-c528-8f656d9078bb"
      },
      "execution_count": 45,
      "outputs": [
        {
          "output_type": "execute_result",
          "data": {
            "text/plain": [
              "array([[ 6.,  6.,  6.],\n",
              "       [15., 15., 15.],\n",
              "       [24., 24., 24.]])"
            ]
          },
          "metadata": {},
          "execution_count": 45
        }
      ]
    },
    {
      "cell_type": "markdown",
      "source": [
        "The matrix product is not a commutative operation, then the order of the operands is important. Indeed A * B is not equal to B * A."
      ],
      "metadata": {
        "id": "SlPOuNLlctZ2"
      }
    },
    {
      "cell_type": "code",
      "source": [
        "np.dot(B,A)"
      ],
      "metadata": {
        "colab": {
          "base_uri": "https://localhost:8080/"
        },
        "id": "o80o7I1gcvrv",
        "outputId": "cde62f23-fc29-4c42-cd2b-4c32286f939d"
      },
      "execution_count": 46,
      "outputs": [
        {
          "output_type": "execute_result",
          "data": {
            "text/plain": [
              "array([[12., 15., 18.],\n",
              "       [12., 15., 18.],\n",
              "       [12., 15., 18.]])"
            ]
          },
          "metadata": {},
          "execution_count": 46
        }
      ]
    },
    {
      "cell_type": "markdown",
      "source": [
        "**Increment and Decrement Operators:**\n",
        "\n",
        "**No ++ or -- Operators in Python**\n",
        "- Python does not have ++ or -- like some other languages.\n",
        "- Use += or -= for increments and decrements."
      ],
      "metadata": {
        "id": "5V51sosrc4W-"
      }
    },
    {
      "cell_type": "code",
      "source": [
        "a = np.arange(4)\n",
        "a += 1\n",
        "print(a)"
      ],
      "metadata": {
        "colab": {
          "base_uri": "https://localhost:8080/"
        },
        "id": "fjOBKkzQc8-L",
        "outputId": "2e6ffbd3-b604-4a37-fc68-e90bc9d8b95f"
      },
      "execution_count": 47,
      "outputs": [
        {
          "output_type": "stream",
          "name": "stdout",
          "text": [
            "[1 2 3 4]\n"
          ]
        }
      ]
    },
    {
      "cell_type": "code",
      "source": [
        "a -= 1\n",
        "print(a)"
      ],
      "metadata": {
        "colab": {
          "base_uri": "https://localhost:8080/"
        },
        "id": "ysLdve2odPFX",
        "outputId": "6158a7df-8504-4a78-f86c-af49035d4770"
      },
      "execution_count": 48,
      "outputs": [
        {
          "output_type": "stream",
          "name": "stdout",
          "text": [
            "[0 1 2 3]\n"
          ]
        }
      ]
    },
    {
      "cell_type": "markdown",
      "source": [
        "**Universal Functions (ufunc) in NumPy**\n",
        "\n",
        "- A Universal Function (ufunc) operates on an array element-by-element.\n",
        "- Applies a function to each element of the input array, returning a new output array of the same shape."
      ],
      "metadata": {
        "id": "L2AcImcydXaj"
      }
    },
    {
      "cell_type": "markdown",
      "source": [
        "- sqrt(): Calculates the square root of each element.\n",
        "- log(): Computes the natural logarithm for each element.\n",
        "- sin(): Calculates the sine of each element.\n"
      ],
      "metadata": {
        "id": "XVnDK69AdfU1"
      }
    },
    {
      "cell_type": "code",
      "source": [
        "a = np.arange(1, 5)\n",
        "print(a)"
      ],
      "metadata": {
        "colab": {
          "base_uri": "https://localhost:8080/"
        },
        "id": "u1LN13lrdlNe",
        "outputId": "a16c9f5e-0442-4295-82d8-e5c1f0d02167"
      },
      "execution_count": 49,
      "outputs": [
        {
          "output_type": "stream",
          "name": "stdout",
          "text": [
            "[1 2 3 4]\n"
          ]
        }
      ]
    },
    {
      "cell_type": "code",
      "source": [
        "np.sqrt(a)"
      ],
      "metadata": {
        "colab": {
          "base_uri": "https://localhost:8080/"
        },
        "id": "iBZPZPnVdpx2",
        "outputId": "0203ca64-b06b-4701-9cbf-e858e58cb244"
      },
      "execution_count": 51,
      "outputs": [
        {
          "output_type": "execute_result",
          "data": {
            "text/plain": [
              "array([1.        , 1.41421356, 1.73205081, 2.        ])"
            ]
          },
          "metadata": {},
          "execution_count": 51
        }
      ]
    },
    {
      "cell_type": "code",
      "source": [
        "np.log(a)"
      ],
      "metadata": {
        "colab": {
          "base_uri": "https://localhost:8080/"
        },
        "id": "fy_KuvPjdtUT",
        "outputId": "c89d92c4-4602-42f0-be4f-ac0575027ad0"
      },
      "execution_count": 50,
      "outputs": [
        {
          "output_type": "execute_result",
          "data": {
            "text/plain": [
              "array([0.        , 0.69314718, 1.09861229, 1.38629436])"
            ]
          },
          "metadata": {},
          "execution_count": 50
        }
      ]
    },
    {
      "cell_type": "code",
      "source": [
        "np.sin(a)"
      ],
      "metadata": {
        "colab": {
          "base_uri": "https://localhost:8080/"
        },
        "id": "KlUex1j1dyEt",
        "outputId": "819c6ecd-89e3-420f-b68f-8b9294f090ca"
      },
      "execution_count": 52,
      "outputs": [
        {
          "output_type": "execute_result",
          "data": {
            "text/plain": [
              "array([ 0.84147098,  0.90929743,  0.14112001, -0.7568025 ])"
            ]
          },
          "metadata": {},
          "execution_count": 52
        }
      ]
    },
    {
      "cell_type": "markdown",
      "source": [
        "**Aggregate Functions in NumPy**\n",
        "- Functions that perform an operation across a set of values (such as an array) to return a single result.\n",
        "\n",
        "**Common Aggregate Functions:**\n",
        "- sum(): Adds all elements.\n",
        "- min(): Finds the minimum value.\n",
        "- max(): Finds the maximum value.\n",
        "- mean(): Calculates the average value.\n",
        "- std(): Computes the standard deviation.\n"
      ],
      "metadata": {
        "id": "IdfkZRH8d2js"
      }
    },
    {
      "cell_type": "code",
      "source": [
        "a = np.array([3.3, 4.5, 1.2, 5.7, 0.3])\n",
        "a.sum()"
      ],
      "metadata": {
        "colab": {
          "base_uri": "https://localhost:8080/"
        },
        "id": "xYscwbl5eA2n",
        "outputId": "042cdd76-55bd-4362-8a79-fab46028ec21"
      },
      "execution_count": 53,
      "outputs": [
        {
          "output_type": "execute_result",
          "data": {
            "text/plain": [
              "15.0"
            ]
          },
          "metadata": {},
          "execution_count": 53
        }
      ]
    },
    {
      "cell_type": "code",
      "source": [
        "a.min()"
      ],
      "metadata": {
        "colab": {
          "base_uri": "https://localhost:8080/"
        },
        "id": "dyMcv_11eD_c",
        "outputId": "8e3c70aa-78e2-4226-84a0-7e6d91ffff19"
      },
      "execution_count": 54,
      "outputs": [
        {
          "output_type": "execute_result",
          "data": {
            "text/plain": [
              "0.3"
            ]
          },
          "metadata": {},
          "execution_count": 54
        }
      ]
    },
    {
      "cell_type": "code",
      "source": [
        "a.max()"
      ],
      "metadata": {
        "colab": {
          "base_uri": "https://localhost:8080/"
        },
        "id": "oQsCQ-9NeGjc",
        "outputId": "70855223-8229-4568-cd16-819ac9976a11"
      },
      "execution_count": 55,
      "outputs": [
        {
          "output_type": "execute_result",
          "data": {
            "text/plain": [
              "5.7"
            ]
          },
          "metadata": {},
          "execution_count": 55
        }
      ]
    },
    {
      "cell_type": "code",
      "source": [
        "a.mean()"
      ],
      "metadata": {
        "colab": {
          "base_uri": "https://localhost:8080/"
        },
        "id": "DGTUK-jMeJmX",
        "outputId": "bf6a5f34-71a3-4562-a973-530cfc5089b5"
      },
      "execution_count": 56,
      "outputs": [
        {
          "output_type": "execute_result",
          "data": {
            "text/plain": [
              "3.0"
            ]
          },
          "metadata": {},
          "execution_count": 56
        }
      ]
    },
    {
      "cell_type": "code",
      "source": [
        "a.std()"
      ],
      "metadata": {
        "colab": {
          "base_uri": "https://localhost:8080/"
        },
        "id": "wz0BnZ_0eM0j",
        "outputId": "cbd6fe66-99b8-41b3-a2ff-e27b1fd9aaf0"
      },
      "execution_count": 57,
      "outputs": [
        {
          "output_type": "execute_result",
          "data": {
            "text/plain": [
              "2.0079840636817816"
            ]
          },
          "metadata": {},
          "execution_count": 57
        }
      ]
    },
    {
      "cell_type": "markdown",
      "source": [
        "**Indexing in NumPy**\n",
        "\n",
        "**What is Indexing?**\n",
        "- Refers to using square brackets ([ ]) to access specific elements in an array.\n",
        "- Useful for extracting values, selecting items, or assigning new values.\n",
        "\n",
        "**Array Indexing Basics:**\n",
        "- Every element in a NumPy array has a unique index, starting from 0 for the first element.\n",
        "- Access elements by specifying the index within square brackets.\n"
      ],
      "metadata": {
        "id": "wOa1YFTveVA2"
      }
    },
    {
      "cell_type": "code",
      "source": [
        "a = np.arange(10, 16)\n",
        "print(a)"
      ],
      "metadata": {
        "colab": {
          "base_uri": "https://localhost:8080/"
        },
        "id": "nbLn0Hr1emE2",
        "outputId": "b5a8be01-d995-431c-98b8-b6551abf578d"
      },
      "execution_count": 58,
      "outputs": [
        {
          "output_type": "stream",
          "name": "stdout",
          "text": [
            "[10 11 12 13 14 15]\n"
          ]
        }
      ]
    },
    {
      "cell_type": "code",
      "source": [
        "# Accessing the element at index 4\n",
        "a[4]"
      ],
      "metadata": {
        "colab": {
          "base_uri": "https://localhost:8080/"
        },
        "id": "G5TOrtWpesKh",
        "outputId": "8893c4d4-fde6-406a-fdb4-b3583f06c787"
      },
      "execution_count": 59,
      "outputs": [
        {
          "output_type": "execute_result",
          "data": {
            "text/plain": [
              "14"
            ]
          },
          "metadata": {},
          "execution_count": 59
        }
      ]
    },
    {
      "cell_type": "markdown",
      "source": [
        "**Negative Indexing:**\n",
        "- Negative indexes allow access to elements from the end of the array.\n",
        "- -1 refers to the last element, -2 to the second last, and so on.\n"
      ],
      "metadata": {
        "id": "CD-7_6bDeyR9"
      }
    },
    {
      "cell_type": "code",
      "source": [
        "a = np.arange(10, 16)\n",
        "print(a)"
      ],
      "metadata": {
        "colab": {
          "base_uri": "https://localhost:8080/"
        },
        "id": "HxL4_5eoe3Kr",
        "outputId": "8d3873d8-db51-48f0-ec9e-540c26c17bf1"
      },
      "execution_count": 60,
      "outputs": [
        {
          "output_type": "stream",
          "name": "stdout",
          "text": [
            "[10 11 12 13 14 15]\n"
          ]
        }
      ]
    },
    {
      "cell_type": "code",
      "source": [
        "# Accessing the last element\n",
        "a[-1]"
      ],
      "metadata": {
        "colab": {
          "base_uri": "https://localhost:8080/"
        },
        "id": "XoDv779Ye8qT",
        "outputId": "5fb1d921-b82f-4ab4-fb20-c16db9959ec1"
      },
      "execution_count": 61,
      "outputs": [
        {
          "output_type": "execute_result",
          "data": {
            "text/plain": [
              "15"
            ]
          },
          "metadata": {},
          "execution_count": 61
        }
      ]
    },
    {
      "cell_type": "code",
      "source": [
        "# Accessing the first element with negative index\n",
        "a[-6]"
      ],
      "metadata": {
        "colab": {
          "base_uri": "https://localhost:8080/"
        },
        "id": "yJdaq6YQe_b8",
        "outputId": "b5f4b3c0-cb8c-47a1-976f-b7955775f7d8"
      },
      "execution_count": 62,
      "outputs": [
        {
          "output_type": "execute_result",
          "data": {
            "text/plain": [
              "10"
            ]
          },
          "metadata": {},
          "execution_count": 62
        }
      ]
    },
    {
      "cell_type": "markdown",
      "source": [
        "**Multiple Index Selection:**\n",
        "- You can select multiple elements by passing an array of indexes within square brackets.\n",
        "- Useful for retrieving non-sequential elements in a single operation.\n"
      ],
      "metadata": {
        "id": "z6CuhbyQfE6k"
      }
    },
    {
      "cell_type": "code",
      "source": [
        "# Selecting elements at indexes 1, 3, and 4\n",
        "a[[1, 3, 4]]"
      ],
      "metadata": {
        "colab": {
          "base_uri": "https://localhost:8080/"
        },
        "id": "RBvMxe7mfKmT",
        "outputId": "3ba61783-ff01-4fe9-b993-cf780220c82b"
      },
      "execution_count": 63,
      "outputs": [
        {
          "output_type": "execute_result",
          "data": {
            "text/plain": [
              "array([11, 13, 14])"
            ]
          },
          "metadata": {},
          "execution_count": 63
        }
      ]
    },
    {
      "cell_type": "markdown",
      "source": [
        " **Understanding Two-Dimensional Arrays (Matrices):**\n",
        "- Represented as rectangular arrays with rows and columns.\n",
        "- Defined by two axes:\n",
        "- Axis 0: Represents the rows.\n",
        "- Axis 1: Represents the columns.\n",
        "**Indexing in Matrices:**\n",
        "\n",
        "To access elements, use two indices within square brackets.\n",
        "- Format: [row index, column index]\n",
        "- The first index specifies the row.\n",
        "- The second index specifies the column.\n",
        "\n"
      ],
      "metadata": {
        "id": "oNQb3iDcfQCx"
      }
    },
    {
      "cell_type": "code",
      "source": [
        "A = np.arange(10, 19).reshape((3, 3))\n",
        "print(A)"
      ],
      "metadata": {
        "colab": {
          "base_uri": "https://localhost:8080/"
        },
        "id": "pDwYqnBafgsY",
        "outputId": "432ac4d5-66a7-43a3-aa98-8f7054573b01"
      },
      "execution_count": 65,
      "outputs": [
        {
          "output_type": "stream",
          "name": "stdout",
          "text": [
            "[[10 11 12]\n",
            " [13 14 15]\n",
            " [16 17 18]]\n"
          ]
        }
      ]
    },
    {
      "cell_type": "code",
      "source": [
        "A[1, 2]"
      ],
      "metadata": {
        "colab": {
          "base_uri": "https://localhost:8080/"
        },
        "id": "cjTOlPLnfnm5",
        "outputId": "6edb2815-6ac3-41fe-a2ff-17e36ce3c686"
      },
      "execution_count": 66,
      "outputs": [
        {
          "output_type": "execute_result",
          "data": {
            "text/plain": [
              "15"
            ]
          },
          "metadata": {},
          "execution_count": 66
        }
      ]
    },
    {
      "cell_type": "markdown",
      "source": [
        "Slicing:\n",
        "- Extracts portions of an array to create new arrays.\n",
        "- Difference from Lists: In Python lists, slices are copies; in NumPy, slices are views on the same underlying data.\n",
        "Slice using a colon : inside square brackets.\n",
        "- Syntax: array[start:stop]\n",
        "- start: Index of the first element to include (inclusive).\n",
        "- stop: Index of the first element to exclude."
      ],
      "metadata": {
        "id": "pBDo_loqfshp"
      }
    },
    {
      "cell_type": "code",
      "source": [
        "import numpy as np\n",
        "a = np.arange(10, 16)\n",
        "print(a)\n",
        "print(\"\\n\")\n",
        "print(a[1:5])"
      ],
      "metadata": {
        "colab": {
          "base_uri": "https://localhost:8080/"
        },
        "id": "kRGYzuEPf2qJ",
        "outputId": "fe501b98-4916-4219-a24b-036067c40e44"
      },
      "execution_count": 70,
      "outputs": [
        {
          "output_type": "stream",
          "name": "stdout",
          "text": [
            "[10 11 12 13 14 15]\n",
            "\n",
            "\n",
            "[11 12 13 14]\n"
          ]
        }
      ]
    },
    {
      "cell_type": "markdown",
      "source": [
        "Slicing with Step\n",
        "- Step: A third value in slicing that determines the interval between elements to be selected.\n",
        "- This allows for extracting elements at regular intervals, skipping over a specific number of elements.\n",
        "- Syntax: array[start:stop:step]\n",
        "- start: Index of the first element to include (inclusive).\n",
        "- stop: Index of the first element to exclude.\n",
        "- step: The gap between each element to be included."
      ],
      "metadata": {
        "id": "Wkr0tMgOgFL0"
      }
    },
    {
      "cell_type": "code",
      "source": [
        "import numpy as np\n",
        "a = np.arange(10, 16)\n",
        "print(a)\n",
        "print(\"\\n\")\n",
        "print(a[1:5:2])"
      ],
      "metadata": {
        "colab": {
          "base_uri": "https://localhost:8080/"
        },
        "id": "CvnefDzXgPvz",
        "outputId": "5f8d40fb-7834-45ec-eeef-87e20cf63b1c"
      },
      "execution_count": 69,
      "outputs": [
        {
          "output_type": "stream",
          "name": "stdout",
          "text": [
            "[10 11 12 13 14 15]\n",
            "\n",
            "\n",
            "[11 13]\n"
          ]
        }
      ]
    },
    {
      "cell_type": "markdown",
      "source": [
        "**Slicing with Implicit Values:**\n",
        "\n",
        "- Omitting values in slicing allows you to simplify the syntax and let NumPy interpret missing values as defaults.\n",
        "- First (start): Defaults to 0 (the first element).\n",
        "- Second (stop): Defaults to the maximum index of the array.\n",
        "- Third (step): Defaults to 1, meaning all elements are considered without skipping.\n"
      ],
      "metadata": {
        "id": "pY_wU7k4gknk"
      }
    },
    {
      "cell_type": "code",
      "source": [
        "import numpy as np\n",
        "a = np.arange(10, 16)\n",
        "print(a)\n",
        "# Omitting start, stop, and step values\n",
        "print(a[::2])\n",
        "print(\"\\n\")\n",
        "print(a[:5:2])\n",
        "print(\"\\n\")\n",
        "print(a[:5:])\n"
      ],
      "metadata": {
        "id": "tKbybrtMgtcQ"
      },
      "execution_count": null,
      "outputs": []
    },
    {
      "cell_type": "markdown",
      "source": [
        "**Slicing 2D Arrays:**\n",
        "- Slicing applies to both rows and columns of a 2D array.\n",
        "- Use separate slicing for rows and columns, using a comma , to separate the two dimensions."
      ],
      "metadata": {
        "id": "P1NHL_GAg3lR"
      }
    },
    {
      "cell_type": "code",
      "source": [
        "import numpy as np\n",
        "A = np.arange(10, 19).reshape((3, 3))\n",
        "print(A)"
      ],
      "metadata": {
        "colab": {
          "base_uri": "https://localhost:8080/"
        },
        "id": "mafcvCRjg8_z",
        "outputId": "7d5a7b52-e415-4504-9670-48ff78218661"
      },
      "execution_count": 71,
      "outputs": [
        {
          "output_type": "stream",
          "name": "stdout",
          "text": [
            "[[10 11 12]\n",
            " [13 14 15]\n",
            " [16 17 18]]\n"
          ]
        }
      ]
    },
    {
      "cell_type": "code",
      "source": [
        "print(A[0,:])"
      ],
      "metadata": {
        "colab": {
          "base_uri": "https://localhost:8080/"
        },
        "id": "kmQvGvFKhCmL",
        "outputId": "d4ffaa1c-4ac1-492e-9358-8c490fd11841"
      },
      "execution_count": 72,
      "outputs": [
        {
          "output_type": "stream",
          "name": "stdout",
          "text": [
            "[10 11 12]\n"
          ]
        }
      ]
    },
    {
      "cell_type": "code",
      "source": [
        "import numpy as np\n",
        "A = np.arange(10, 19).reshape((3, 3))\n",
        "print(A)"
      ],
      "metadata": {
        "colab": {
          "base_uri": "https://localhost:8080/"
        },
        "id": "Lz2c01lEhO8W",
        "outputId": "6beabb21-990d-4c96-df5d-54d871a6167a"
      },
      "execution_count": 73,
      "outputs": [
        {
          "output_type": "stream",
          "name": "stdout",
          "text": [
            "[[10 11 12]\n",
            " [13 14 15]\n",
            " [16 17 18]]\n"
          ]
        }
      ]
    },
    {
      "cell_type": "code",
      "source": [
        "print(A[0,:])  # Output: array([10, 11, 12])"
      ],
      "metadata": {
        "colab": {
          "base_uri": "https://localhost:8080/"
        },
        "id": "I2yV90WohSTa",
        "outputId": "e353d170-c532-4c96-ed72-b80bc2ae13b2"
      },
      "execution_count": 74,
      "outputs": [
        {
          "output_type": "stream",
          "name": "stdout",
          "text": [
            "[10 11 12]\n"
          ]
        }
      ]
    },
    {
      "cell_type": "code",
      "source": [
        "print(A[:,0])  # Output: array([10, 13, 16])"
      ],
      "metadata": {
        "colab": {
          "base_uri": "https://localhost:8080/"
        },
        "id": "n9HVEz0mhXKp",
        "outputId": "7e7e6f2e-ec79-4555-d873-0cd484418392"
      },
      "execution_count": 75,
      "outputs": [
        {
          "output_type": "stream",
          "name": "stdout",
          "text": [
            "[10 13 16]\n"
          ]
        }
      ]
    },
    {
      "cell_type": "code",
      "source": [
        "print(A[0:2, 0:2])"
      ],
      "metadata": {
        "colab": {
          "base_uri": "https://localhost:8080/"
        },
        "id": "xDQzQgibhaSN",
        "outputId": "fd198728-37c3-4606-cc12-0aad6bf4d2a1"
      },
      "execution_count": 76,
      "outputs": [
        {
          "output_type": "stream",
          "name": "stdout",
          "text": [
            "[[10 11]\n",
            " [13 14]]\n"
          ]
        }
      ]
    },
    {
      "cell_type": "code",
      "source": [
        "print(A[[0,2], 0:2])"
      ],
      "metadata": {
        "colab": {
          "base_uri": "https://localhost:8080/"
        },
        "id": "jg1F8lmShdY8",
        "outputId": "4fba89b4-afe5-4764-a302-b6de295307d9"
      },
      "execution_count": 77,
      "outputs": [
        {
          "output_type": "stream",
          "name": "stdout",
          "text": [
            "[[10 11]\n",
            " [16 17]]\n"
          ]
        }
      ]
    },
    {
      "cell_type": "markdown",
      "source": [
        "**Iterating Through Arrays:**\n",
        "\n",
        "**1D Array Iteration:**\n",
        "In NumPy, iterating through a 1D array is straightforward using a for loop.\n",
        "The loop will iterate over each element of the array.\n"
      ],
      "metadata": {
        "id": "Najxrgzyhi5w"
      }
    },
    {
      "cell_type": "code",
      "source": [
        "import numpy as np\n",
        "a = np.arange(10, 16)\n",
        "for i in a:\n",
        "    print(i)"
      ],
      "metadata": {
        "colab": {
          "base_uri": "https://localhost:8080/"
        },
        "id": "x0wH1kwzhpsp",
        "outputId": "4d61b357-29e1-4bf8-fb68-d99902ad326b"
      },
      "execution_count": 78,
      "outputs": [
        {
          "output_type": "stream",
          "name": "stdout",
          "text": [
            "10\n",
            "11\n",
            "12\n",
            "13\n",
            "14\n",
            "15\n"
          ]
        }
      ]
    },
    {
      "cell_type": "markdown",
      "source": [
        "**2D Array Iteration:**\n",
        "- Iterating over a 2D array can be done using nested loops, where the outer loop iterates over rows and the inner loop iterates over columns.\n",
        "- However, applying a for loop to a matrix will always iterate over the rows first (the first axis).\n"
      ],
      "metadata": {
        "id": "WsKDN0AbhvhG"
      }
    },
    {
      "cell_type": "code",
      "source": [
        "A = np.arange(10, 19).reshape((3, 3))\n",
        "for row in A:\n",
        "    print(row)\n"
      ],
      "metadata": {
        "colab": {
          "base_uri": "https://localhost:8080/"
        },
        "id": "k46hc75fhzLt",
        "outputId": "f12aa319-43db-4c4d-a53e-a93ea1e42b35"
      },
      "execution_count": 79,
      "outputs": [
        {
          "output_type": "stream",
          "name": "stdout",
          "text": [
            "[10 11 12]\n",
            "[13 14 15]\n",
            "[16 17 18]\n"
          ]
        }
      ]
    },
    {
      "cell_type": "markdown",
      "source": [
        "- The flat attribute allows for iterating element by element in a multi-dimensional array as if it were flattened into a 1D array.\n",
        "- This avoids the need for nested loops, simplifying iteration through all elements of a matrix."
      ],
      "metadata": {
        "id": "XKJP48djh5yV"
      }
    },
    {
      "cell_type": "code",
      "source": [
        "import numpy as np\n",
        "A = np.arange(10, 19).reshape((3, 3))\n",
        "for item in A.flat:\n",
        "    print(item)"
      ],
      "metadata": {
        "colab": {
          "base_uri": "https://localhost:8080/"
        },
        "id": "JLwFTjX-huoP",
        "outputId": "2a50a3bb-5bed-4593-d124-f63deeac4599"
      },
      "execution_count": 80,
      "outputs": [
        {
          "output_type": "stream",
          "name": "stdout",
          "text": [
            "10\n",
            "11\n",
            "12\n",
            "13\n",
            "14\n",
            "15\n",
            "16\n",
            "17\n",
            "18\n"
          ]
        }
      ]
    },
    {
      "cell_type": "markdown",
      "source": [
        "- apply_along_axis() allows for more efficient and elegant iteration when applying a function across rows or columns of a multi-dimensional array.\n",
        "- This function avoids explicit loops by handling the iteration internally in NumPy.\n",
        "\n",
        "Arguments:\n",
        "- Function: The function to apply (e.g., np.mean).\n",
        "- Axis:\n",
        "  - Axis 0: Iterates column by column.\n",
        "\n",
        "  - Axis 1: Iterates row by row.\n",
        "\n",
        "- Array: The NumPy array on which the function is applied.\n"
      ],
      "metadata": {
        "id": "eIHUtBGAiEkm"
      }
    },
    {
      "cell_type": "code",
      "source": [
        "import numpy as np\n",
        "A = np.arange(10, 19).reshape((3, 3))\n",
        "\n",
        "# Apply np.mean column-wise (axis=0)\n",
        "print(np.apply_along_axis(np.mean, axis=0, arr=A))\n",
        "# Output: array([13., 14., 15.])\n",
        "print()\n",
        "# Apply np.mean row-wise (axis=1)\n",
        "print(np.apply_along_axis(np.mean, axis=1, arr=A))\n"
      ],
      "metadata": {
        "colab": {
          "base_uri": "https://localhost:8080/"
        },
        "id": "yzS79hlvibt1",
        "outputId": "3096176e-aeb6-4011-df90-a0597cded5b8"
      },
      "execution_count": 82,
      "outputs": [
        {
          "output_type": "stream",
          "name": "stdout",
          "text": [
            "[13. 14. 15.]\n",
            "\n",
            "[11. 14. 17.]\n"
          ]
        }
      ]
    },
    {
      "cell_type": "markdown",
      "source": [
        "- While NumPy provides built-in functions (like np.mean), you can also define your own functions and apply them to arrays using apply_along_axis().\n",
        "- This allows you to create custom operations and apply them element-by-element or across rows/columns.\n"
      ],
      "metadata": {
        "id": "x_MXCE17imH-"
      }
    },
    {
      "cell_type": "code",
      "source": [
        "import numpy as np\n",
        "A = np.arange(10, 19).reshape((3, 3))\n",
        "# Define a custom function (user-defined ufunc)\n",
        "def foo(x):\n",
        "    return x / 2\n",
        "# Apply the custom function row-wise (axis=1)\n",
        "print(np.apply_along_axis(foo, axis=1, arr=A))\n",
        "print()\n",
        "# Apply the custom function column-wise (axis=0)\n",
        "print(np.apply_along_axis(foo, axis=0, arr=A))\n"
      ],
      "metadata": {
        "colab": {
          "base_uri": "https://localhost:8080/"
        },
        "id": "kRWmDlRAiqxX",
        "outputId": "04aa6141-2a74-4acc-a9ba-f16a39952f7a"
      },
      "execution_count": 84,
      "outputs": [
        {
          "output_type": "stream",
          "name": "stdout",
          "text": [
            "[[5.  5.5 6. ]\n",
            " [6.5 7.  7.5]\n",
            " [8.  8.5 9. ]]\n",
            "\n",
            "[[5.  5.5 6. ]\n",
            " [6.5 7.  7.5]\n",
            " [8.  8.5 9. ]]\n"
          ]
        }
      ]
    },
    {
      "cell_type": "markdown",
      "source": [
        "**Conditions and Boolean Arrays:**\n",
        "\n",
        "Instead of using numerical indexes, NumPy allows you to select elements based on conditions or Boolean expressions. This approach makes the selection process more flexible and intuitive."
      ],
      "metadata": {
        "id": "MOmOFFRLi03q"
      }
    },
    {
      "cell_type": "markdown",
      "source": [
        "Let’s generate a 4x4 matrix with random numbers between 0 and 1 and select all values that are less than 0.5:"
      ],
      "metadata": {
        "id": "DjN_DAHqi923"
      }
    },
    {
      "cell_type": "code",
      "source": [
        "import numpy as np\n",
        "A = np.random.random((4, 4))\n",
        "print(A)"
      ],
      "metadata": {
        "colab": {
          "base_uri": "https://localhost:8080/"
        },
        "id": "4acOdAsdjFD7",
        "outputId": "490276e3-f24c-416b-8308-a42c8e9719f6"
      },
      "execution_count": 85,
      "outputs": [
        {
          "output_type": "stream",
          "name": "stdout",
          "text": [
            "[[0.61970084 0.71897056 0.2961452  0.45873408]\n",
            " [0.37130267 0.2735229  0.6037672  0.88740501]\n",
            " [0.38618621 0.54725786 0.71949648 0.9034701 ]\n",
            " [0.96555377 0.81802529 0.18586308 0.6533437 ]]\n"
          ]
        }
      ]
    },
    {
      "cell_type": "code",
      "source": [
        "condition = A < 0.5\n",
        "print(condition)"
      ],
      "metadata": {
        "colab": {
          "base_uri": "https://localhost:8080/"
        },
        "id": "cO8XB_LDjLJQ",
        "outputId": "69ef7f38-d3f5-4ce0-f6fe-2eb586bd7533"
      },
      "execution_count": 86,
      "outputs": [
        {
          "output_type": "stream",
          "name": "stdout",
          "text": [
            "[[False False  True  True]\n",
            " [ True  True False False]\n",
            " [ True False False False]\n",
            " [False False  True False]]\n"
          ]
        }
      ]
    },
    {
      "cell_type": "code",
      "source": [
        "selected_elements = A[A < 0.5]\n",
        "print(selected_elements)"
      ],
      "metadata": {
        "colab": {
          "base_uri": "https://localhost:8080/"
        },
        "id": "bVutGykcjQgk",
        "outputId": "e0c4e937-f225-4f4b-d056-ee30a53b5767"
      },
      "execution_count": 87,
      "outputs": [
        {
          "output_type": "stream",
          "name": "stdout",
          "text": [
            "[0.2961452  0.45873408 0.37130267 0.2735229  0.38618621 0.18586308]\n"
          ]
        }
      ]
    },
    {
      "cell_type": "markdown",
      "source": [
        "**Reshaping Arrays:**\n",
        "- You can reshape arrays in NumPy to change their dimensions using two approaches:\n",
        "1. Using reshape(): This creates a new array with the specified shape.\n"
      ],
      "metadata": {
        "id": "ybYYTYO8qFXV"
      }
    },
    {
      "cell_type": "code",
      "source": [
        "a = np.random.random(12)\n",
        "A = a.reshape(3, 4)\n",
        "print(A)"
      ],
      "metadata": {
        "colab": {
          "base_uri": "https://localhost:8080/"
        },
        "id": "RyFmIQ8oqNV-",
        "outputId": "78d6b948-9dfc-477d-b1e3-969279076071"
      },
      "execution_count": 88,
      "outputs": [
        {
          "output_type": "stream",
          "name": "stdout",
          "text": [
            "[[0.98120347 0.39078404 0.60600999 0.42936318]\n",
            " [0.47681376 0.20036054 0.90664992 0.13986232]\n",
            " [0.65843549 0.10080778 0.62641852 0.14459956]]\n"
          ]
        }
      ]
    },
    {
      "cell_type": "markdown",
      "source": [
        "2. Using the shape attribute: Modify the shape of the original array in place, no new array is returned."
      ],
      "metadata": {
        "id": "F7Zdfvk5qWrl"
      }
    },
    {
      "cell_type": "code",
      "source": [
        "a.shape = (3, 4)\n",
        "print(a)"
      ],
      "metadata": {
        "colab": {
          "base_uri": "https://localhost:8080/"
        },
        "id": "WwASV0mUqYSv",
        "outputId": "45a65c37-acdd-4172-c26d-a6800b9af3b1"
      },
      "execution_count": 89,
      "outputs": [
        {
          "output_type": "stream",
          "name": "stdout",
          "text": [
            "[[0.98120347 0.39078404 0.60600999 0.42936318]\n",
            " [0.47681376 0.20036054 0.90664992 0.13986232]\n",
            " [0.65843549 0.10080778 0.62641852 0.14459956]]\n"
          ]
        }
      ]
    },
    {
      "cell_type": "markdown",
      "source": [
        "To convert a multi-dimensional array into a one-dimensional array, use the ravel() function, or modify the shape directly:\n",
        "Using ravel(): Returns a flattened copy."
      ],
      "metadata": {
        "id": "UeSloVDPqfdP"
      }
    },
    {
      "cell_type": "code",
      "source": [
        "a = a.ravel()\n",
        "print(a)"
      ],
      "metadata": {
        "colab": {
          "base_uri": "https://localhost:8080/"
        },
        "id": "NMonL6NpqiW1",
        "outputId": "3a5edf48-97a6-4838-8349-e7c26855fcc9"
      },
      "execution_count": 90,
      "outputs": [
        {
          "output_type": "stream",
          "name": "stdout",
          "text": [
            "[0.98120347 0.39078404 0.60600999 0.42936318 0.47681376 0.20036054\n",
            " 0.90664992 0.13986232 0.65843549 0.10080778 0.62641852 0.14459956]\n"
          ]
        }
      ]
    },
    {
      "cell_type": "markdown",
      "source": [
        "2. Using the shape attribute: You can flatten by setting the shape to a 1D array."
      ],
      "metadata": {
        "id": "atVl9_z2qoAH"
      }
    },
    {
      "cell_type": "code",
      "source": [
        "a.shape = (12,)\n",
        "print(a)"
      ],
      "metadata": {
        "colab": {
          "base_uri": "https://localhost:8080/"
        },
        "id": "TudskqqVqqmd",
        "outputId": "40584fe2-6dc5-483c-a4f4-c955977b4e5b"
      },
      "execution_count": 91,
      "outputs": [
        {
          "output_type": "stream",
          "name": "stdout",
          "text": [
            "[0.98120347 0.39078404 0.60600999 0.42936318 0.47681376 0.20036054\n",
            " 0.90664992 0.13986232 0.65843549 0.10080778 0.62641852 0.14459956]\n"
          ]
        }
      ]
    },
    {
      "cell_type": "markdown",
      "source": [
        "**Matrix Transposition:**\n",
        "You can transpose a matrix by swapping its rows and columns. This is done with the transpose() function or by using the .T attribute."
      ],
      "metadata": {
        "id": "O_IAXjTMqwJu"
      }
    },
    {
      "cell_type": "code",
      "source": [
        "A = np.random.random((3, 4))  # 3x4 array\n",
        "transposed_A = A.transpose()\n",
        "print(transposed_A)"
      ],
      "metadata": {
        "colab": {
          "base_uri": "https://localhost:8080/"
        },
        "id": "2M8WYy2rq06w",
        "outputId": "19375fba-03eb-4d74-8bed-f27e390643c6"
      },
      "execution_count": 92,
      "outputs": [
        {
          "output_type": "stream",
          "name": "stdout",
          "text": [
            "[[0.15258919 0.18557465 0.11865691]\n",
            " [0.66995168 0.87674481 0.29859026]\n",
            " [0.9458499  0.74419621 0.52295268]\n",
            " [0.71455922 0.42203751 0.30591579]]\n"
          ]
        }
      ]
    },
    {
      "cell_type": "code",
      "source": [
        "transposed_A = A.T\n",
        "print(transposed_A)"
      ],
      "metadata": {
        "colab": {
          "base_uri": "https://localhost:8080/"
        },
        "id": "tY8LEzP_q9ls",
        "outputId": "b8934d93-08b4-407f-9c39-de7280d0720a"
      },
      "execution_count": 93,
      "outputs": [
        {
          "output_type": "stream",
          "name": "stdout",
          "text": [
            "[[0.15258919 0.18557465 0.11865691]\n",
            " [0.66995168 0.87674481 0.29859026]\n",
            " [0.9458499  0.74419621 0.52295268]\n",
            " [0.71455922 0.42203751 0.30591579]]\n"
          ]
        }
      ]
    },
    {
      "cell_type": "markdown",
      "source": [
        "**Joining Arrays:**\n",
        "- You can combine multiple arrays using different stacking functions in NumPy. These functions allow you to join arrays either vertically or horizontally.\n",
        "- Vertical Stacking with vstack():\n",
        "Stacks arrays vertically (i.e., adds rows from the second array to the first).\n",
        "The number of columns in both arrays must be the same for vertical stacking."
      ],
      "metadata": {
        "id": "CiWNqfxErFcl"
      }
    },
    {
      "cell_type": "code",
      "source": [
        "A = np.ones((3, 3))  # 3x3 array of ones\n",
        "print(A)\n",
        "print()\n",
        "B = np.zeros((3, 3))  # 3x3 array of zeros\n",
        "print(B)\n",
        "print()\n",
        "result = np.vstack((A, B))\n",
        "print(result)\n"
      ],
      "metadata": {
        "colab": {
          "base_uri": "https://localhost:8080/"
        },
        "id": "0VuYzwV1rLT4",
        "outputId": "47f5d46c-c200-4780-c7a7-2c22db35c64d"
      },
      "execution_count": 95,
      "outputs": [
        {
          "output_type": "stream",
          "name": "stdout",
          "text": [
            "[[1. 1. 1.]\n",
            " [1. 1. 1.]\n",
            " [1. 1. 1.]]\n",
            "\n",
            "[[0. 0. 0.]\n",
            " [0. 0. 0.]\n",
            " [0. 0. 0.]]\n",
            "\n",
            "[[1. 1. 1.]\n",
            " [1. 1. 1.]\n",
            " [1. 1. 1.]\n",
            " [0. 0. 0.]\n",
            " [0. 0. 0.]\n",
            " [0. 0. 0.]]\n"
          ]
        }
      ]
    },
    {
      "cell_type": "markdown",
      "source": [
        "2. Horizontal Stacking with hstack():\n",
        "- Stacks arrays horizontally (i.e., adds columns from the second array to the first).\n",
        "- The number of rows in both arrays must be the same for horizontal stacking."
      ],
      "metadata": {
        "id": "PyUZFyP-sAkW"
      }
    },
    {
      "cell_type": "code",
      "source": [
        "result = np.hstack((A, B))\n",
        "print(result)"
      ],
      "metadata": {
        "id": "_F0s9aDvsFHv"
      },
      "execution_count": null,
      "outputs": []
    },
    {
      "cell_type": "markdown",
      "source": [
        "**Column and Row Stacking in NumPy**\n",
        "\n",
        "1. column_stack()\n"
      ],
      "metadata": {
        "id": "mtHgYyMcsKUq"
      }
    },
    {
      "cell_type": "code",
      "source": [
        "a = np.array([0, 1, 2])\n",
        "b = np.array([3, 4, 5])\n",
        "c = np.array([6, 7, 8])\n",
        "result = np.column_stack((a, b, c))\n",
        "print(result)\n"
      ],
      "metadata": {
        "colab": {
          "base_uri": "https://localhost:8080/"
        },
        "id": "faXhA1qitcBG",
        "outputId": "2dfbd16b-8cf9-4bba-faf2-0fd44b7ddbba"
      },
      "execution_count": 96,
      "outputs": [
        {
          "output_type": "stream",
          "name": "stdout",
          "text": [
            "[[0 3 6]\n",
            " [1 4 7]\n",
            " [2 5 8]]\n"
          ]
        }
      ]
    },
    {
      "cell_type": "markdown",
      "source": [
        "2.row_stack()"
      ],
      "metadata": {
        "id": "sJBmhE4NtqE_"
      }
    },
    {
      "cell_type": "code",
      "source": [
        "result = np.row_stack((a, b, c))\n",
        "print(result)"
      ],
      "metadata": {
        "colab": {
          "base_uri": "https://localhost:8080/"
        },
        "id": "VjOgCfRItq-p",
        "outputId": "8ada2c13-d111-46c7-8cfa-954aebc663a2"
      },
      "execution_count": 97,
      "outputs": [
        {
          "output_type": "stream",
          "name": "stdout",
          "text": [
            "[[0 1 2]\n",
            " [3 4 5]\n",
            " [6 7 8]]\n"
          ]
        }
      ]
    },
    {
      "cell_type": "markdown",
      "source": [
        "Splitting Arrays in NumPy\n",
        "1. hsplit(): The hsplit() function splits an array horizontally, i.e., dividing it along columns. When using hsplit(), you specify how many parts to split the array into. Each part will have the same number of rows.\n"
      ],
      "metadata": {
        "id": "x50e27Zft3qB"
      }
    },
    {
      "cell_type": "code",
      "source": [
        "A = np.arange(16).reshape((4, 4))\n",
        "print(A)"
      ],
      "metadata": {
        "colab": {
          "base_uri": "https://localhost:8080/"
        },
        "id": "w3iiAHL2t-cq",
        "outputId": "29874e31-3161-43f3-8acf-a6f5ab6dbf27"
      },
      "execution_count": 98,
      "outputs": [
        {
          "output_type": "stream",
          "name": "stdout",
          "text": [
            "[[ 0  1  2  3]\n",
            " [ 4  5  6  7]\n",
            " [ 8  9 10 11]\n",
            " [12 13 14 15]]\n"
          ]
        }
      ]
    },
    {
      "cell_type": "code",
      "source": [
        "[B, C] = np.hsplit(A, 2)\n",
        "print(B)"
      ],
      "metadata": {
        "id": "5olSvH5YuCkK"
      },
      "execution_count": null,
      "outputs": []
    }
  ]
}