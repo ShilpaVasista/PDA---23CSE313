{
  "nbformat": 4,
  "nbformat_minor": 0,
  "metadata": {
    "colab": {
      "provenance": [],
      "authorship_tag": "ABX9TyMqqbkZ8tEYJDy4fxRSv0Jd",
      "include_colab_link": true
    },
    "kernelspec": {
      "name": "python3",
      "display_name": "Python 3"
    },
    "language_info": {
      "name": "python"
    }
  },
  "cells": [
    {
      "cell_type": "markdown",
      "metadata": {
        "id": "view-in-github",
        "colab_type": "text"
      },
      "source": [
        "<a href=\"https://colab.research.google.com/github/ShilpaVasista/PDA---23CSE313/blob/main/program_6_Solution.ipynb\" target=\"_parent\"><img src=\"https://colab.research.google.com/assets/colab-badge.svg\" alt=\"Open In Colab\"/></a>"
      ]
    },
    {
      "cell_type": "code",
      "execution_count": 2,
      "metadata": {
        "colab": {
          "base_uri": "https://localhost:8080/"
        },
        "id": "MVZWlgOgRv_e",
        "outputId": "76d745ab-9250-436a-8c29-dd6389e8912d"
      },
      "outputs": [
        {
          "output_type": "stream",
          "name": "stdout",
          "text": [
            "CSV file with numeric and non-numeric columns created successfully!\n"
          ]
        }
      ],
      "source": [
        "import pandas as pd\n",
        "\n",
        "# Create a DataFrame with numeric and non-numeric columns\n",
        "data = {\n",
        "    \"ID\": [1, 2, 3, 4],\n",
        "    \"Name\": [\"Alice\", \"Bob\", \"Charlie\", \"Diana\"],\n",
        "    \"Age\": [25, 30, 35, 40],\n",
        "    \"Salary\": [50000, 60000, 70000, 80000],\n",
        "    \"Department\": [\"HR\", \"Finance\", \"IT\", \"Marketing\"]\n",
        "}\n",
        "\n",
        "# Convert to DataFrame\n",
        "df = pd.DataFrame(data)\n",
        "\n",
        "# Save the DataFrame to a CSV file\n",
        "df.to_csv(\"employee_data.csv\", index=False)\n",
        "\n",
        "print(\"CSV file with numeric and non-numeric columns created successfully!\")\n"
      ]
    },
    {
      "cell_type": "code",
      "source": [
        "import pandas as pd\n",
        "\n",
        "def read_and_summarize_csv(file_path):\n",
        "    try:\n",
        "        # Read the CSV file\n",
        "        data = pd.read_csv(file_path)\n",
        "\n",
        "        # Print the contents of the CSV file\n",
        "        print(\"\\nContents of the CSV file:\")\n",
        "        print(data)\n",
        "\n",
        "        # Select numerical columns\n",
        "        numerical_data = data.select_dtypes(include=['number'])\n",
        "\n",
        "        # Calculate and display summary statistics\n",
        "        print(\"\\nSummary Statistics for Numerical Columns:\")\n",
        "        print(\"Mean:\")\n",
        "        print(numerical_data.mean())\n",
        "        print(\"\\nMedian:\")\n",
        "        print(numerical_data.median())\n",
        "        print(\"\\nStandard Deviation:\")\n",
        "        print(numerical_data.std())\n",
        "\n",
        "    except FileNotFoundError:\n",
        "        print(\"Error: The file was not found. Please check the file path.\")\n",
        "    except pd.errors.EmptyDataError:\n",
        "        print(\"Error: The file is empty. Please provide a valid CSV file.\")\n",
        "    except Exception as e:\n",
        "        print(f\"An unexpected error occurred: {e}\")\n",
        "\n",
        "# Example usage\n",
        "if __name__ == \"__main__\":\n",
        "    file_path = \"employee_data.csv\"  # Path to the CSV file created earlier\n",
        "    read_and_summarize_csv(file_path)\n"
      ],
      "metadata": {
        "colab": {
          "base_uri": "https://localhost:8080/"
        },
        "id": "4KkXGQbNSjwi",
        "outputId": "b0558cc1-8213-43b4-dc63-953b8b4fd271"
      },
      "execution_count": 5,
      "outputs": [
        {
          "output_type": "stream",
          "name": "stdout",
          "text": [
            "\n",
            "Contents of the CSV file:\n",
            "   ID     Name  Age  Salary Department\n",
            "0   1    Alice   25   50000         HR\n",
            "1   2      Bob   30   60000    Finance\n",
            "2   3  Charlie   35   70000         IT\n",
            "3   4    Diana   40   80000  Marketing\n",
            "\n",
            "Summary Statistics for Numerical Columns:\n",
            "Mean:\n",
            "ID            2.5\n",
            "Age          32.5\n",
            "Salary    65000.0\n",
            "dtype: float64\n",
            "\n",
            "Median:\n",
            "ID            2.5\n",
            "Age          32.5\n",
            "Salary    65000.0\n",
            "dtype: float64\n",
            "\n",
            "Standard Deviation:\n",
            "ID            1.290994\n",
            "Age           6.454972\n",
            "Salary    12909.944487\n",
            "dtype: float64\n"
          ]
        }
      ]
    }
  ]
}