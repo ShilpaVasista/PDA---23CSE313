{
  "nbformat": 4,
  "nbformat_minor": 0,
  "metadata": {
    "colab": {
      "provenance": [],
      "authorship_tag": "ABX9TyM+wONc9N5k+WHEChwzoDRj",
      "include_colab_link": true
    },
    "kernelspec": {
      "name": "python3",
      "display_name": "Python 3"
    },
    "language_info": {
      "name": "python"
    }
  },
  "cells": [
    {
      "cell_type": "markdown",
      "metadata": {
        "id": "view-in-github",
        "colab_type": "text"
      },
      "source": [
        "<a href=\"https://colab.research.google.com/github/ShilpaVasista/PDA---23CSE313/blob/main/Program_5_Solution.ipynb\" target=\"_parent\"><img src=\"https://colab.research.google.com/assets/colab-badge.svg\" alt=\"Open In Colab\"/></a>"
      ]
    },
    {
      "cell_type": "markdown",
      "source": [
        "Program 5: Write a Python program using Numpy that creates a random m x n integer array and print the shape of the array (number of rows and columns) and also total number of elements in the array.\n",
        "- Implement function fill_with_value(e.g.,zeros)\n",
        "- Implement a function randomly_generate_numbers(within a range) to populate the array."
      ],
      "metadata": {
        "id": "e-dGpCkdgrEy"
      }
    },
    {
      "cell_type": "code",
      "execution_count": null,
      "metadata": {
        "id": "pHKcGleWgqUv"
      },
      "outputs": [],
      "source": [
        "import numpy as np\n",
        "\n",
        "def create_array(m, n):\n",
        "    \"\"\"Create an m x n integer array.\"\"\"\n",
        "    return np.zeros((m, n), dtype=int)\n",
        "\n",
        "def fill_with_value(array, value):\n",
        "    \"\"\"Fill the array with a specific value.\"\"\"\n",
        "    array.fill(value)\n",
        "\n",
        "def randomly_generate_numbers(array, low, high):\n",
        "    \"\"\"Populate the array with random integers within the specified range [low, high).\"\"\"\n",
        "    array[:] = np.random.randint(low, high, size=array.shape)\n",
        "\n",
        "def main():\n",
        "    # Dimensions of the array\n",
        "    m, n = 4, 5  # Example dimensions (can be modified or taken as input)\n",
        "\n",
        "    # Create an m x n array\n",
        "    my_array = create_array(m, n)\n",
        "\n",
        "    # Print initial array shape and total elements\n",
        "    print(f\"Initial Shape of the array: {my_array.shape}\")\n",
        "    print(f\"Total number of elements: {my_array.size}\")\n",
        "\n",
        "    # Fill the array with a specific value\n",
        "    fill_with_value(my_array, 10)\n",
        "    print(\"\\nArray after filling with the value 10:\")\n",
        "    print(my_array)\n",
        "\n",
        "    # Populate the array with random integers in a range\n",
        "    randomly_generate_numbers(my_array, 1, 100)\n",
        "    print(\"\\nArray after populating with random numbers (range 1-100):\")\n",
        "    print(my_array)\n",
        "\n",
        "# Run the program\n",
        "if __name__ == \"__main__\":\n",
        "    main()\n"
      ]
    }
  ]
}