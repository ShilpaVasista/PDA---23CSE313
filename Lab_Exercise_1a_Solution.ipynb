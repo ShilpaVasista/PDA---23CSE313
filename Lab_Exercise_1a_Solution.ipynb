{
  "nbformat": 4,
  "nbformat_minor": 0,
  "metadata": {
    "colab": {
      "provenance": []
    },
    "kernelspec": {
      "name": "python3",
      "display_name": "Python 3"
    },
    "language_info": {
      "name": "python"
    }
  },
  "cells": [
    {
      "cell_type": "markdown",
      "source": [
        "**1. Write a python program to determine whether a given number is a prime number or not.\n",
        "Also enhance the program to find the first N prime numbers, where N is user input.**\n"
      ],
      "metadata": {
        "id": "BVq2Cpu9NDTc"
      }
    },
    {
      "cell_type": "code",
      "execution_count": null,
      "metadata": {
        "id": "4husXJZpNBpF"
      },
      "outputs": [],
      "source": [
        "def is_prime(num):\n",
        "    if num <= 1:\n",
        "        return False\n",
        "    for i in range(2, int(num ** 0.5) + 1):\n",
        "        if num % i == 0:\n",
        "            return False\n",
        "    return True\n",
        "\n",
        "def find_first_n_primes(n):\n",
        "    primes = []\n",
        "    num = 2  # Starting number to check for prime\n",
        "    while len(primes) < n:\n",
        "        if is_prime(num):\n",
        "            primes.append(num)\n",
        "        num += 1\n",
        "    return primes\n",
        "\n",
        "if __name__ == \"__main__\":\n",
        "    # Check if a number is prime\n",
        "    number = int(input(\"Enter a number to check if it's prime: \"))\n",
        "    if is_prime(number):\n",
        "        print(f\"{number} is a prime number.\")\n",
        "    else:\n",
        "        print(f\"{number} is not a prime number.\")\n",
        "\n",
        "    # Find first N prime numbers\n",
        "    n = int(input(\"Enter how many prime numbers you want to find: \"))\n",
        "    first_n_primes = find_first_n_primes(n)\n",
        "    print(f\"The first {n} prime numbers are: {first_n_primes}\")\n"
      ]
    }
  ]
}