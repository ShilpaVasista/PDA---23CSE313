{
  "nbformat": 4,
  "nbformat_minor": 0,
  "metadata": {
    "colab": {
      "provenance": [],
      "authorship_tag": "ABX9TyNbRvBfdMjrgjcJStnXfkfK",
      "include_colab_link": true
    },
    "kernelspec": {
      "name": "python3",
      "display_name": "Python 3"
    },
    "language_info": {
      "name": "python"
    }
  },
  "cells": [
    {
      "cell_type": "markdown",
      "metadata": {
        "id": "view-in-github",
        "colab_type": "text"
      },
      "source": [
        "<a href=\"https://colab.research.google.com/github/ShilpaVasista/PDA---23CSE313/blob/main/Practice_Programs_Class_1.ipynb\" target=\"_parent\"><img src=\"https://colab.research.google.com/assets/colab-badge.svg\" alt=\"Open In Colab\"/></a>"
      ]
    },
    {
      "cell_type": "markdown",
      "source": [
        "1. The Greeter\n",
        "\n",
        "Write a program that asks the user for their name and then prints a personalized greeting, for example, \"Hello, Alice!\".\n"
      ],
      "metadata": {
        "id": "K8eF2-r1z85W"
      }
    },
    {
      "cell_type": "code",
      "execution_count": null,
      "metadata": {
        "colab": {
          "base_uri": "https://localhost:8080/"
        },
        "id": "a3tOapd0zXSE",
        "outputId": "c1f6e99a-bb33-47c3-e938-5fea1a3a00e7"
      },
      "outputs": [
        {
          "output_type": "stream",
          "name": "stdout",
          "text": [
            "Enter your name: Alice\n",
            "Hello, Alice!\n"
          ]
        }
      ],
      "source": [
        "# Ask the user for their name\n",
        "name = input(\"Enter your name: \")\n",
        "\n",
        "# Print a personalized greeting\n",
        "print(f\"Hello, {name}!\")\n",
        "\n"
      ]
    },
    {
      "cell_type": "markdown",
      "source": [
        "2. Dynamic Typing in Action\n",
        "\n",
        "Create a variable named `data` and assign it the integer value `10`. Print its value and type. On the next line, reassign `data` to a string value, such as `\"Python\"`. Print its new value and type."
      ],
      "metadata": {
        "id": "Q4Qkhdyw0DT1"
      }
    },
    {
      "cell_type": "code",
      "source": [
        "# Assign an integer value\n",
        "data = 10\n",
        "print(data, type(data))   # Prints value and its type\n",
        "\n",
        "# Reassign a string value\n",
        "data = \"Python\"\n",
        "print(data, type(data))   # Prints new value and its type\n"
      ],
      "metadata": {
        "colab": {
          "base_uri": "https://localhost:8080/"
        },
        "id": "qepvy5-XzjEY",
        "outputId": "0adf102e-693b-4100-96cd-de16a8d866cd"
      },
      "execution_count": null,
      "outputs": [
        {
          "output_type": "stream",
          "name": "stdout",
          "text": [
            "10 <class 'int'>\n",
            "Python <class 'str'>\n"
          ]
        }
      ]
    },
    {
      "cell_type": "markdown",
      "source": [
        "3. Basic Calculator\n",
        "\n",
        "Ask the user for two numbers. Store them in separate variables. Calculate and print the sum, difference, and product of the two numbers."
      ],
      "metadata": {
        "id": "xudQGvN90F4U"
      }
    },
    {
      "cell_type": "code",
      "source": [
        "# Ask the user for two numbers and convert them to float\n",
        "num1 = float(input(\"Enter the first number: \"))\n",
        "num2 = float(input(\"Enter the second number: \"))\n",
        "\n",
        "# Calculate\n",
        "sum_result = num1 + num2\n",
        "difference = num1 - num2\n",
        "product = num1 * num2\n",
        "\n",
        "# Display results\n",
        "print(\"Sum:\", sum_result)\n",
        "print(\"Difference:\", difference)\n",
        "print(\"Product:\", product)\n"
      ],
      "metadata": {
        "colab": {
          "base_uri": "https://localhost:8080/"
        },
        "id": "Co30ddp1zlHJ",
        "outputId": "6a8e9271-5e9a-4b83-e70c-d8c2624861c2"
      },
      "execution_count": null,
      "outputs": [
        {
          "output_type": "stream",
          "name": "stdout",
          "text": [
            "Enter the first number: 10\n",
            "Enter the second number: 20\n",
            "Sum: 30.0\n",
            "Difference: -10.0\n",
            "Product: 200.0\n"
          ]
        }
      ]
    },
    {
      "cell_type": "markdown",
      "source": [
        "4. Area of a Rectangle\n",
        "\n",
        "Ask the user for the length and width of a rectangle. Calculate its area using the formula `length * width` and print the result. Remember to handle the user input correctly."
      ],
      "metadata": {
        "id": "rRB-9En70Jzi"
      }
    },
    {
      "cell_type": "code",
      "source": [
        "# Ask the user for length and width, convert to float for decimal inputs\n",
        "length = float(input(\"Enter the length of the rectangle: \"))\n",
        "width = float(input(\"Enter the width of the rectangle: \"))\n",
        "\n",
        "# Calculate area\n",
        "area = length * width\n",
        "\n",
        "# Display result\n",
        "print(\"Area of the rectangle:\", area)\n"
      ],
      "metadata": {
        "colab": {
          "base_uri": "https://localhost:8080/"
        },
        "id": "0LDWyrCdzoIe",
        "outputId": "6535e64d-7bef-42be-8acf-252e358cd40a"
      },
      "execution_count": null,
      "outputs": [
        {
          "output_type": "stream",
          "name": "stdout",
          "text": [
            "Enter the length of the rectangle: 2\n",
            "Enter the width of the rectangle: 3\n",
            "Area of the rectangle: 6.0\n"
          ]
        }
      ]
    },
    {
      "cell_type": "markdown",
      "source": [
        "5. Operator Precedence Puzzle\n",
        "\n",
        "Without running the code, predict the final value of the variable `result` in the following expression: `result = 10 - 2 * 3 + 8 / 2`. After you have your answer, type the code into the playground to check if you are correct."
      ],
      "metadata": {
        "id": "_73JlSYu0Pzz"
      }
    },
    {
      "cell_type": "code",
      "source": [
        "result = 10 - 2 * 3 + 8 / 2\n",
        "print(result)"
      ],
      "metadata": {
        "colab": {
          "base_uri": "https://localhost:8080/"
        },
        "id": "ytBYhO4rzubF",
        "outputId": "30c6235e-c810-4f94-d1db-22cb812cfafd"
      },
      "execution_count": null,
      "outputs": [
        {
          "output_type": "stream",
          "name": "stdout",
          "text": [
            "8.0\n"
          ]
        }
      ]
    },
    {
      "cell_type": "markdown",
      "source": [
        "6. Exponents\n",
        "\n",
        "Write a program that asks for a number (the base) and a second number (the exponent). Calculate and print the result of the first number raised to the power of the second number."
      ],
      "metadata": {
        "id": "YOXPHzwn0TQ7"
      }
    },
    {
      "cell_type": "code",
      "source": [
        "# Ask the user for the base and exponent\n",
        "base = float(input(\"Enter the base number: \"))\n",
        "exponent = float(input(\"Enter the exponent: \"))\n",
        "\n",
        "# Calculate base raised to the power of exponent\n",
        "result = base ** exponent\n",
        "\n",
        "# Display the result\n",
        "print(\"Result:\", result)\n"
      ],
      "metadata": {
        "colab": {
          "base_uri": "https://localhost:8080/"
        },
        "id": "f3WB9Lfjzyab",
        "outputId": "6781817f-b4ca-4792-c320-b580d84d4a3e"
      },
      "execution_count": null,
      "outputs": [
        {
          "output_type": "stream",
          "name": "stdout",
          "text": [
            "Enter the base number: 2\n",
            "Enter the exponent: 4\n",
            "Result: 16.0\n"
          ]
        }
      ]
    },
    {
      "cell_type": "markdown",
      "source": [
        "7. Even or Odd\n",
        "\n",
        "Ask the user for an integer. Use the modulo operator (`%`) to determine if the number is even or odd. Print a clear message, such as \"The number 7 is odd.\"\n"
      ],
      "metadata": {
        "id": "PC4epvYd0V7O"
      }
    },
    {
      "cell_type": "code",
      "source": [
        "# Ask the user for an integer\n",
        "num = int(input(\"Enter an integer: \"))\n",
        "\n",
        "# Check even or odd using modulo\n",
        "if num % 2 == 0:\n",
        "    print(f\"The number {num} is even.\")\n",
        "else:\n",
        "    print(f\"The number {num} is odd.\")\n"
      ],
      "metadata": {
        "colab": {
          "base_uri": "https://localhost:8080/"
        },
        "id": "y4mxQJXKz0o7",
        "outputId": "8ef773e6-1bf9-4906-a40d-7ac851a63cc8"
      },
      "execution_count": null,
      "outputs": [
        {
          "output_type": "stream",
          "name": "stdout",
          "text": [
            "Enter an integer: 34\n",
            "The number 34 is even.\n"
          ]
        }
      ]
    },
    {
      "cell_type": "markdown",
      "source": [
        "8. Full Name\n",
        "\n",
        "Ask the user for their first name and last name separately. Store them in two variables. Combine these two strings to create a single variable for their full name and print it."
      ],
      "metadata": {
        "id": "v2JkJ72M0ZL0"
      }
    },
    {
      "cell_type": "code",
      "source": [
        "# Ask the user for first and last name\n",
        "first_name = input(\"Enter your first name: \")\n",
        "last_name = input(\"Enter your last name: \")\n",
        "\n",
        "# Combine to create full name\n",
        "full_name = first_name + \" \" + last_name\n",
        "\n",
        "# Display the full name\n",
        "print(\"Full name:\", full_name)\n"
      ],
      "metadata": {
        "colab": {
          "base_uri": "https://localhost:8080/"
        },
        "id": "yypGNOr7z2k1",
        "outputId": "4113beba-2eb5-4762-b5b2-03f2a71fca67"
      },
      "execution_count": null,
      "outputs": [
        {
          "output_type": "stream",
          "name": "stdout",
          "text": [
            "Enter your first name: Python\n",
            "Enter your last name: Programming\n",
            "Full name: Python Programming\n"
          ]
        }
      ]
    },
    {
      "cell_type": "markdown",
      "source": [
        "9. Simple Interest\n",
        "\n",
        "Ask the user to input the principal amount, interest rate, and time in years. Calculate the simple interest using the formula $P \\times R \\times T / 100$ and print the result."
      ],
      "metadata": {
        "id": "NsPUkv9t0hJL"
      }
    },
    {
      "cell_type": "code",
      "source": [
        " # Ask the user for principal, rate, and time\n",
        "principal = float(input(\"Enter the principal amount: \"))\n",
        "rate = float(input(\"Enter the annual interest rate (in %): \"))\n",
        "time = float(input(\"Enter the time in years: \"))\n",
        "\n",
        "# Calculate simple interest\n",
        "simple_interest = (principal * rate * time) / 100\n",
        "\n",
        "# Display the result\n",
        "print(\"Simple Interest:\", simple_interest)"
      ],
      "metadata": {
        "colab": {
          "base_uri": "https://localhost:8080/"
        },
        "id": "r7cPUXugz4g7",
        "outputId": "db6ec8d8-97cf-46f6-f56b-966896c48497"
      },
      "execution_count": null,
      "outputs": [
        {
          "output_type": "stream",
          "name": "stdout",
          "text": [
            "Enter the principal amount: 1000\n",
            "Enter the annual interest rate (in %): 10\n",
            "Enter the time in years: 10\n",
            "Simple Interest: 1000.0\n"
          ]
        }
      ]
    },
    {
      "cell_type": "markdown",
      "source": [
        "For each code snippet below, predict the final data type of the variable or the output."
      ],
      "metadata": {
        "id": "jWu5q5db2LfU"
      }
    },
    {
      "cell_type": "code",
      "source": [
        "x = 10\n",
        "y = x + 5.0\n",
        "print(type(y))\n"
      ],
      "metadata": {
        "id": "Z5w0JKAY1xWb"
      },
      "execution_count": null,
      "outputs": []
    },
    {
      "cell_type": "code",
      "source": [
        "name = \"John\"\n",
        "age = 30\n",
        "message = name + str(age)\n",
        "print(type(message))\n",
        "\n"
      ],
      "metadata": {
        "id": "iefqEcEf102_"
      },
      "execution_count": null,
      "outputs": []
    },
    {
      "cell_type": "code",
      "source": [
        "is_student = True\n",
        "result = is_student + 5\n",
        "print(type(result))\n"
      ],
      "metadata": {
        "id": "TiKEEjce12kh"
      },
      "execution_count": null,
      "outputs": []
    },
    {
      "cell_type": "code",
      "source": [
        "# If the user enters '25'\n",
        "user_input = input(\"Enter your age: \")\n",
        "print(type(user_input))\n"
      ],
      "metadata": {
        "id": "FPy_W4cM15bL"
      },
      "execution_count": null,
      "outputs": []
    },
    {
      "cell_type": "code",
      "source": [
        "# If the user enters '20' and '2'\n",
        "num1 = input(\"Enter a number: \")\n",
        "num2 = input(\"Enter another number: \")\n",
        "result = num1 + num2\n",
        "print(type(result))"
      ],
      "metadata": {
        "id": "10Zra7oR17XS"
      },
      "execution_count": null,
      "outputs": []
    },
    {
      "cell_type": "code",
      "source": [
        "# If the user enters '100'\n",
        "balance = int(input(\"Enter your balance: \"))\n",
        "print(type(balance))"
      ],
      "metadata": {
        "id": "xT1l0d6E19cr"
      },
      "execution_count": null,
      "outputs": []
    },
    {
      "cell_type": "code",
      "source": [
        "value = 5 ** 2\n",
        "print(type(value))\n"
      ],
      "metadata": {
        "id": "7jXIl_JZ1_hQ"
      },
      "execution_count": null,
      "outputs": []
    },
    {
      "cell_type": "code",
      "source": [
        "answer = 10 / 2\n",
        "print(type(answer))"
      ],
      "metadata": {
        "id": "00T8gXet2Bgp"
      },
      "execution_count": null,
      "outputs": []
    },
    {
      "cell_type": "code",
      "source": [
        "a = 15 % 4\n",
        "b = a * 2.5\n",
        "print(type(b))"
      ],
      "metadata": {
        "id": "D-8p8uxX2Dg3"
      },
      "execution_count": null,
      "outputs": []
    },
    {
      "cell_type": "code",
      "source": [
        "expression = (5 + 3) * 2 / 4\n",
        "print(type(expression))\n"
      ],
      "metadata": {
        "id": "enImkXWh2Fb2"
      },
      "execution_count": null,
      "outputs": []
    }
  ]
}