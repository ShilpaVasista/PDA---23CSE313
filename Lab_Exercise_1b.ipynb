{
  "nbformat": 4,
  "nbformat_minor": 0,
  "metadata": {
    "colab": {
      "provenance": []
    },
    "kernelspec": {
      "name": "python3",
      "display_name": "Python 3"
    },
    "language_info": {
      "name": "python"
    }
  },
  "cells": [
    {
      "cell_type": "markdown",
      "source": [
        "\n",
        "\n",
        "```\n",
        "# This is formatted as code\n",
        "```\n",
        "\n",
        "# Question 2: Perfect Square Checker"
      ],
      "metadata": {
        "id": "a0fnCjxXPL99"
      }
    },
    {
      "cell_type": "markdown",
      "source": [
        "**1.b. Write a Python program to accept a positive integer and determine if it is a perfect square. Also display a message accordingly.**\n"
      ],
      "metadata": {
        "id": "My6iOQ-ZN_Ie"
      }
    },
    {
      "cell_type": "markdown",
      "source": [
        "## Step-by-Step Instructions:\n",
        "\n",
        "### Task: Determine if a Number is a Perfect Square"
      ],
      "metadata": {
        "id": "3PyU7zp_PX9B"
      }
    },
    {
      "cell_type": "markdown",
      "source": [
        "**Understand the Concept of a Perfect Square**:\n",
        "   - A perfect square is an integer that is the square of another integer.\n",
        "   - Example: 1, 4, 9, 16, 25, 36 are all perfect squares because 1=1x1, 4=2x2, 9=3x3, etc."
      ],
      "metadata": {
        "id": "0ay0ZoTxPbhJ"
      }
    },
    {
      "cell_type": "markdown",
      "source": [
        "**Step 1: Take User Input**:\n",
        "   - Write code to accept a positive integer from the user.\n",
        "     ```python\n",
        "     # Hint: Use input() function and remember to convert the input to an integer.\n",
        "     ```"
      ],
      "metadata": {
        "id": "Rx0Xf3pgPexv"
      }
    },
    {
      "cell_type": "code",
      "source": [],
      "metadata": {
        "id": "_BqtdhVp3F47"
      },
      "execution_count": null,
      "outputs": []
    },
    {
      "cell_type": "markdown",
      "source": [
        "**Step 2: Compute the Square Root**:\n",
        "   - Find the square root of the input number.\n",
        "     ```python\n",
        "     # Hint: Use the math module's sqrt() function.\n",
        "     # Hint: You can import the math module at the beginning of your program.\n",
        "     ```"
      ],
      "metadata": {
        "id": "l7cA8LqqPii4"
      }
    },
    {
      "cell_type": "code",
      "source": [],
      "metadata": {
        "id": "m_o6VcyMOD4u"
      },
      "execution_count": null,
      "outputs": []
    },
    {
      "cell_type": "markdown",
      "source": [
        "**Step 3: Check if the Square Root is an Integer**:\n",
        "   - To determine if the number is a perfect square, the square root must be a whole number (integer).\n",
        "     ```python\n",
        "     # Hint: Use int() to check if the square root, when converted to an integer, gives the same result as the actual square root.\n",
        "     ```"
      ],
      "metadata": {
        "id": "Y-1_L6eYQEkF"
      }
    },
    {
      "cell_type": "code",
      "source": [],
      "metadata": {
        "id": "-CEHZUmp3Hm3"
      },
      "execution_count": null,
      "outputs": []
    },
    {
      "cell_type": "markdown",
      "source": [
        "**Step 4: Display the Appropriate Message**:\n",
        "   - If the number is a perfect square, print a message saying so.\n",
        "   - If it’s not, print a message saying the number is not a perfect square.\n",
        "     ```python\n",
        "     # Hint: Use if-else condition to display different messages.\n",
        "     ```"
      ],
      "metadata": {
        "id": "JMDCZXGmQM_O"
      }
    },
    {
      "cell_type": "code",
      "source": [],
      "metadata": {
        "id": "3DwXZ_ALEEmX"
      },
      "execution_count": null,
      "outputs": []
    },
    {
      "cell_type": "markdown",
      "source": [
        "**Test Your Program**:\n",
        "   - Test the program with various numbers, including perfect squares (like 16 or 25) and non-perfect squares (like 15 or 20).\n",
        "     ```python\n",
        "     # Hint: Ensure to test boundary cases like 0 or very large numbers.\n",
        "     ```\n",
        "\"\"\""
      ],
      "metadata": {
        "id": "7QRW_OcVQQAb"
      }
    }
  ]
}